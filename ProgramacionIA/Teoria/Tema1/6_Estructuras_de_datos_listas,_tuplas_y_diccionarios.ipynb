{
  "cells": [
    {
      "cell_type": "markdown",
      "metadata": {
        "id": "KNNxj-8-DGv_"
      },
      "source": [
        "# 6. Estructuras de datos: listas, tuplas y diccionarios"
      ]
    },
    {
      "cell_type": "markdown",
      "metadata": {
        "id": "Ak90VYyFDGwD"
      },
      "source": [
        "## Listas\n",
        "\n",
        "Las listas son estructuras de datos que pueden almacenar cualquier otro tipo de dato, inclusive una lista\n",
        "puede contener otra lista, además, la cantidad de elementos de una lista se puede modificar removiendo o\n",
        "añadiendo elementos. Para definir una lista se utilizan los corchetes, dentro de estos se colocan todos\n",
        "los elementos separados por comas:"
      ]
    },
    {
      "cell_type": "code",
      "execution_count": null,
      "metadata": {
        "colab": {
          "base_uri": "https://localhost:8080/"
        },
        "id": "x5yOCf1pDGwE",
        "outputId": "66bc43da-ac8a-4b6c-d695-d3f426887a0e"
      },
      "outputs": [
        {
          "output_type": "stream",
          "name": "stdout",
          "text": [
            "<class 'list'>\n"
          ]
        }
      ],
      "source": [
        "nombres = [\"Ana\",\"Juan\",\"Sofía\",\"Pablo\",\"Tania\"]\n",
        "print(type(nombres))"
      ]
    },
    {
      "cell_type": "markdown",
      "metadata": {
        "id": "zEsT44uvDGwF"
      },
      "source": [
        "Recordar que podemos crear listas con diferentes tipos de datos, por ejemplo, la siguiente lista contiene tres objetos: uno de tipo `string`, un entero y un booleano."
      ]
    },
    {
      "cell_type": "code",
      "execution_count": null,
      "metadata": {
        "colab": {
          "base_uri": "https://localhost:8080/"
        },
        "id": "dbIneMdMDGwF",
        "outputId": "9db20b5e-c5d5-4093-f062-3cdb8327be41"
      },
      "outputs": [
        {
          "output_type": "stream",
          "name": "stdout",
          "text": [
            "<class 'list'>\n"
          ]
        }
      ],
      "source": [
        "varios = [\"Hola\", 200, True]\n",
        "print(type(varios))"
      ]
    },
    {
      "cell_type": "markdown",
      "metadata": {
        "id": "T0XQr5FsDGwF"
      },
      "source": [
        "La cantidad de elementos que conforman una lista se puede determinar utilizando la función `len`:"
      ]
    },
    {
      "cell_type": "code",
      "execution_count": null,
      "metadata": {
        "colab": {
          "base_uri": "https://localhost:8080/"
        },
        "id": "pVI2nAVzDGwG",
        "outputId": "720825bd-6ea1-4115-efab-56721eb5bfad"
      },
      "outputs": [
        {
          "output_type": "execute_result",
          "data": {
            "text/plain": [
              "5"
            ]
          },
          "metadata": {},
          "execution_count": 4
        }
      ],
      "source": [
        "puntuaciones = [10, 8, 9, 9.5, 7]\n",
        "len(puntuaciones)"
      ]
    },
    {
      "cell_type": "markdown",
      "metadata": {
        "id": "Ov7SYjQNDGwG"
      },
      "source": [
        "### Accediendo a los elementos de una lista"
      ]
    },
    {
      "cell_type": "markdown",
      "metadata": {
        "id": "2yiGneLWDGwG"
      },
      "source": [
        "Las listas son secuencias y por lo tanto se puede acceder a sus elementos mediante indexación, es decir, con la notación:\n",
        "\n",
        "```\n",
        "lista[k]\n",
        "```\n",
        "\n",
        "Donde `k` es el índice correspondiente al elemento que se quiere acceder y `lista` el nombre de la variable en la cual está almacenada la lista. Veamos el siguiente ejemplo:"
      ]
    },
    {
      "cell_type": "code",
      "execution_count": null,
      "metadata": {
        "colab": {
          "base_uri": "https://localhost:8080/",
          "height": 34
        },
        "id": "UwT-U512DGwG",
        "outputId": "d0f576ba-931f-47c1-faf5-f97048f12c81"
      },
      "outputs": [
        {
          "output_type": "execute_result",
          "data": {
            "text/plain": [
              "'Amelia'"
            ],
            "application/vnd.google.colaboratory.intrinsic+json": {
              "type": "string"
            }
          },
          "metadata": {},
          "execution_count": 5
        }
      ],
      "source": [
        "nombres = [\"Ana\",\"Juan\",\"Amelia\",\"Pablo\"]\n",
        "nombres[2]"
      ]
    },
    {
      "cell_type": "markdown",
      "metadata": {
        "id": "qAvCNw56DGwG"
      },
      "source": [
        "En lo anterior accedemos al elemento ubicado en el índice `2`, es decir, el tercer elemento."
      ]
    },
    {
      "cell_type": "markdown",
      "metadata": {
        "id": "CeyspObcDGwH"
      },
      "source": [
        "El último elemento de una lista se puede obtener siempre utilizando el índice negativo `-1`:"
      ]
    },
    {
      "cell_type": "code",
      "execution_count": null,
      "metadata": {
        "colab": {
          "base_uri": "https://localhost:8080/",
          "height": 34
        },
        "id": "CeAz01TMDGwH",
        "outputId": "56501166-19b6-48ba-f4a2-5fd6e4155ac0"
      },
      "outputs": [
        {
          "output_type": "execute_result",
          "data": {
            "text/plain": [
              "'Pablo'"
            ],
            "application/vnd.google.colaboratory.intrinsic+json": {
              "type": "string"
            }
          },
          "metadata": {},
          "execution_count": 6
        }
      ],
      "source": [
        "nombres[-1]"
      ]
    },
    {
      "cell_type": "markdown",
      "metadata": {
        "id": "UYVV0FnWDGwH"
      },
      "source": [
        "### Modificando elementos de una lista"
      ]
    },
    {
      "cell_type": "markdown",
      "metadata": {
        "id": "BE-qPGGFDGwH"
      },
      "source": [
        "Las listas son estructuras de datos *mutables*, y por lo tanto podemos modificar sus elementos: sustituir, agregar y quitar. Para sustituir un elemento de una lista basta con acceder al elemento correspondiente mediante indexación y asignar un nuevo valor, veamos el siguiente ejemplo:"
      ]
    },
    {
      "cell_type": "code",
      "execution_count": null,
      "metadata": {
        "colab": {
          "base_uri": "https://localhost:8080/"
        },
        "id": "YKGx9mgsDGwH",
        "outputId": "6463c03d-a9d4-4bff-e095-25fd368e82e6"
      },
      "outputs": [
        {
          "output_type": "stream",
          "name": "stdout",
          "text": [
            "['Naranja', 'Fresa', 'Durazno']\n",
            "['Pera', 'Fresa', 'Durazno']\n"
          ]
        }
      ],
      "source": [
        "frutas = [\"Naranja\",\"Fresa\",\"Durazno\"]\n",
        "print(frutas)\n",
        "frutas[0] = \"Pera\"\n",
        "print(frutas)"
      ]
    },
    {
      "cell_type": "markdown",
      "metadata": {
        "id": "luDUe4iDDGwI"
      },
      "source": [
        "Como puedes ver, en la lista `frutas` hemos sustituido el elemento ubicado en el índice `0` (`\"Naranja\"`) por un nuevo valor (`\"Pera\"`).\n",
        "\n",
        "Se pueden hacer múltiples sustituciones utilizando la notación de *slicing*, pero se debe tener cuidado que el tamaño de la porción que estamos tomando corresponda con el tamaño de la lista que estamos reasignando:"
      ]
    },
    {
      "cell_type": "code",
      "execution_count": null,
      "metadata": {
        "colab": {
          "base_uri": "https://localhost:8080/"
        },
        "id": "y_M0MEf0DGwI",
        "outputId": "630b6471-2dbd-4186-a25e-029f0b505752"
      },
      "outputs": [
        {
          "output_type": "stream",
          "name": "stdout",
          "text": [
            "['Pera', 'Fresa', 'Durazno']\n",
            "['Piña', 'Kiwi', 'Durazno']\n"
          ]
        }
      ],
      "source": [
        "print(frutas)\n",
        "frutas[0:2] = [\"Piña\",\"Kiwi\"]\n",
        "print(frutas)"
      ]
    },
    {
      "cell_type": "markdown",
      "metadata": {
        "id": "uio-nsRFDGwI"
      },
      "source": [
        "En este caso hemos sustituido a los elementos ubicados en los índices `0` y `1` (`\"Pera\"` y `\"Fresa\"`) por los nuevos valores (`\"Piña\"` y `\"Kiwi\"`) ."
      ]
    },
    {
      "cell_type": "markdown",
      "metadata": {
        "id": "af6AHI8FDGwI"
      },
      "source": [
        "### Agregando elementos a una lista"
      ]
    },
    {
      "cell_type": "markdown",
      "metadata": {
        "id": "mAw8scUCDGwI"
      },
      "source": [
        "Para agregar elementos a una lista podemos utilizar los métodos `append` e `insert`, naturalmente la elección está sujeta al comportamiento que muestran cada uno de estos métodos. El método `append` nos permite agregar elementos al final de la lista, en cambio `insert` nos permite insertar elementos en una posición específica de la lista.\n",
        "\n",
        "Por ejemplo, en la lista `frutas` creada previamente podríamos ir agregando más elementos con `append`:"
      ]
    },
    {
      "cell_type": "code",
      "execution_count": null,
      "metadata": {
        "colab": {
          "base_uri": "https://localhost:8080/"
        },
        "id": "M4eyGvHwDGwI",
        "outputId": "4013fd65-eb51-426a-eeda-f1fe91bf8481"
      },
      "outputs": [
        {
          "output_type": "stream",
          "name": "stdout",
          "text": [
            "['Piña', 'Kiwi', 'Durazno']\n",
            "['Piña', 'Kiwi', 'Durazno', 'Melón']\n"
          ]
        }
      ],
      "source": [
        "print(frutas)\n",
        "frutas.append(\"Melón\")\n",
        "print(frutas)"
      ]
    },
    {
      "cell_type": "markdown",
      "metadata": {
        "id": "VvVvacpFDGwI"
      },
      "source": [
        "Hay que tener en cuenta que el método `append` no permite agregar más de un elemento a la vez, si intentaramos agregar un conjunto de elementos observa lo que pasa:"
      ]
    },
    {
      "cell_type": "code",
      "execution_count": null,
      "metadata": {
        "colab": {
          "base_uri": "https://localhost:8080/"
        },
        "id": "3sot2w6tDGwJ",
        "outputId": "da770065-6d91-4f4c-d841-779e51a97fe2"
      },
      "outputs": [
        {
          "output_type": "stream",
          "name": "stdout",
          "text": [
            "['Piña', 'Kiwi', 'Durazno', 'Melón', ['Manzana', 'Ciruela']]\n"
          ]
        }
      ],
      "source": [
        "frutas.append([\"Manzana\",\"Ciruela\"])\n",
        "print(frutas)"
      ]
    },
    {
      "cell_type": "markdown",
      "metadata": {
        "id": "RMnMfI5-DGwJ"
      },
      "source": [
        "Lo anterior nos agrega una lista en lugar de dos elementos *strings*. Si quisiéramos agregar múltiples elementos al final de una lista podemos hacer uso del método `extend`, el cual si nos permite añadir múltiples elementos:"
      ]
    },
    {
      "cell_type": "code",
      "execution_count": null,
      "metadata": {
        "colab": {
          "base_uri": "https://localhost:8080/"
        },
        "id": "Y3i2sobUDGwJ",
        "outputId": "3944d425-e442-426d-c630-fd5d9bf11882"
      },
      "outputs": [
        {
          "output_type": "stream",
          "name": "stdout",
          "text": [
            "['Piña', 'Kiwi', 'Durazno', 'Melón', ['Manzana', 'Ciruela'], 'Manzana', 'Ciruela']\n"
          ]
        }
      ],
      "source": [
        "frutas.extend([\"Manzana\",\"Ciruela\"])\n",
        "print(frutas)"
      ]
    },
    {
      "cell_type": "markdown",
      "metadata": {
        "id": "kGlcqXcHDGwJ"
      },
      "source": [
        "Vamos a *corregir* nuestra lista `frutas` sustituyendo la sublista que habíamos insertado por un nuevo elemento:"
      ]
    },
    {
      "cell_type": "code",
      "execution_count": null,
      "metadata": {
        "colab": {
          "base_uri": "https://localhost:8080/"
        },
        "id": "-isNSzZjDGwJ",
        "outputId": "b5d58fd5-98d4-4123-ae18-929bfae4db86"
      },
      "outputs": [
        {
          "output_type": "stream",
          "name": "stdout",
          "text": [
            "['Piña', 'Kiwi', 'Durazno', 'Melón', 'Uva', 'Manzana', 'Ciruela']\n"
          ]
        }
      ],
      "source": [
        "frutas[4] = \"Uva\"\n",
        "print(frutas)"
      ]
    },
    {
      "cell_type": "markdown",
      "metadata": {
        "id": "aJSSqUgyDGwJ"
      },
      "source": [
        "Veamos ahora como funciona el método `insert`, debemos saber que la sintaxis de `insert` es como sigue:\n",
        "\n",
        "```python\n",
        "lista.insert(k, elemento)\n",
        "```\n",
        "\n",
        "Donde `k` corresponde al índice en el cual *quedará posicionado* el nuevo `elemento` insertado, por ejemplo si en la lista `frutas` quisiéramos insertar `\"Sandía\"` en el índice `1` entonces haríamos lo siguiente:"
      ]
    },
    {
      "cell_type": "code",
      "execution_count": null,
      "metadata": {
        "colab": {
          "base_uri": "https://localhost:8080/"
        },
        "id": "F7NmPq1tDGwJ",
        "outputId": "38e39b29-9d5f-4593-8f80-6fa2a6c3b292"
      },
      "outputs": [
        {
          "output_type": "stream",
          "name": "stdout",
          "text": [
            "['Piña', 'Sandía', 'Kiwi', 'Durazno', 'Melón', 'Uva', 'Manzana', 'Ciruela']\n"
          ]
        }
      ],
      "source": [
        "frutas.insert(1, \"Sandía\")\n",
        "print(frutas)"
      ]
    },
    {
      "cell_type": "markdown",
      "metadata": {
        "id": "S_j-HGtkDGwK"
      },
      "source": [
        "---\n",
        "\n",
        "**Ejemplo. Evaluando funciones**\n",
        "\n",
        "Crea un programa que evalúe la función $ y = x^2 $ en $ x = [0,1,2,3,4,5] $. Todos los valores de $x$ y los de la función evaluada $y$ deberás almacenarlos en las listas `X` y `Y`."
      ]
    },
    {
      "cell_type": "markdown",
      "metadata": {
        "id": "euT7MwKnDGwK"
      },
      "source": [
        "*Solución*\n",
        "\n",
        "Vamos a comenzar creando las listas vacias que almacenarán todos los valores:"
      ]
    },
    {
      "cell_type": "code",
      "execution_count": null,
      "metadata": {
        "id": "A5oHmDk-DGwK"
      },
      "outputs": [],
      "source": [
        "X = []\n",
        "Y = []"
      ]
    },
    {
      "cell_type": "markdown",
      "metadata": {
        "id": "h-L8eUdyDGwK"
      },
      "source": [
        "Ahora vamos a utilizar un ciclo `for` y la función `range` para iterar en el rango de 0 a 5, y dentro de ese ciclo `for` ir evaluando la función e ir agregando los valores calculados a las listas creadas previamente:"
      ]
    },
    {
      "cell_type": "code",
      "execution_count": null,
      "metadata": {
        "id": "TfVt6wanDGwK"
      },
      "outputs": [],
      "source": [
        "for x in range(0,6):\n",
        "    y = x**2\n",
        "    X.append(x)\n",
        "    Y.append(y)"
      ]
    },
    {
      "cell_type": "markdown",
      "metadata": {
        "id": "3cus_3jPDGwL"
      },
      "source": [
        "Bien, ahora podemos mostrar los valores contenidos en `X` y `Y`:"
      ]
    },
    {
      "cell_type": "code",
      "execution_count": null,
      "metadata": {
        "colab": {
          "base_uri": "https://localhost:8080/"
        },
        "id": "tOTmGTSnDGwL",
        "outputId": "184b7f6c-2c4b-49de-b935-898be41c6e96"
      },
      "outputs": [
        {
          "output_type": "stream",
          "name": "stdout",
          "text": [
            "[0, 1, 2, 3, 4, 5]\n",
            "[0, 1, 4, 9, 16, 25]\n"
          ]
        }
      ],
      "source": [
        "print(X)\n",
        "print(Y)"
      ]
    },
    {
      "cell_type": "markdown",
      "metadata": {
        "id": "xYB_qbz2DGwL"
      },
      "source": [
        "---"
      ]
    },
    {
      "cell_type": "markdown",
      "metadata": {
        "id": "0xOFimu0DGwL"
      },
      "source": [
        "### Eliminando elementos de una lista"
      ]
    },
    {
      "cell_type": "markdown",
      "metadata": {
        "id": "d0FhurxADGwM"
      },
      "source": [
        "Para eliminar elementos de una lista existente podemos hacer uso de los métodos `remove`, `pop` y `clear`, en lo subsiguiente describimos en qué situación podríamos utilizar cada uno de estos."
      ]
    },
    {
      "cell_type": "markdown",
      "metadata": {
        "id": "HLS6ZiJ4DGwM"
      },
      "source": [
        "El método `remove` elimina el elemento de la lista pasado como argumento:"
      ]
    },
    {
      "cell_type": "code",
      "execution_count": null,
      "metadata": {
        "colab": {
          "base_uri": "https://localhost:8080/"
        },
        "id": "ogU_T7W3DGwM",
        "outputId": "0b9d4e8c-6a8a-49bf-fc49-8174c89178db"
      },
      "outputs": [
        {
          "output_type": "stream",
          "name": "stdout",
          "text": [
            "['Piña', 'Sandía', 'Kiwi', 'Durazno', 'Melón', 'Uva', 'Manzana', 'Ciruela']\n",
            "['Piña', 'Sandía', 'Kiwi', 'Durazno', 'Melón', 'Manzana', 'Ciruela']\n"
          ]
        }
      ],
      "source": [
        "print(frutas)\n",
        "frutas.remove(\"Uva\")\n",
        "print(frutas)"
      ]
    },
    {
      "cell_type": "markdown",
      "metadata": {
        "id": "d5l1uLH-DGwN"
      },
      "source": [
        "Es importante tomar en cuenta que el método `remove` elimina la primera aparición del elemento en una lista, si el elemento pasado como argumento está duplicado entonces aún quedará la segunda aparición, observa el siguiente ejemplo:"
      ]
    },
    {
      "cell_type": "code",
      "execution_count": null,
      "metadata": {
        "colab": {
          "base_uri": "https://localhost:8080/"
        },
        "id": "2slfO8LhDGwN",
        "outputId": "aabace8b-57bc-4aee-dbcd-d99f7bea78b5"
      },
      "outputs": [
        {
          "output_type": "stream",
          "name": "stdout",
          "text": [
            "['Mercurio', 'Venus', 'Tierra', 'Marte']\n"
          ]
        }
      ],
      "source": [
        "planetas = [\"Mercurio\",\"Venus\",\"Tierra\",\"Tierra\",\"Marte\"]\n",
        "planetas.remove(\"Tierra\")\n",
        "print(planetas)"
      ]
    },
    {
      "cell_type": "markdown",
      "metadata": {
        "id": "ekupULgZDGwN"
      },
      "source": [
        "Observa que eliminamos la primera aparición de `\"Tierra\"` pero no la segunda. Si el valor pasado al método `remove` no existe, Python devolverá un `ValueError`:"
      ]
    },
    {
      "cell_type": "code",
      "execution_count": null,
      "metadata": {
        "colab": {
          "base_uri": "https://localhost:8080/",
          "height": 169
        },
        "id": "kva9qPmIDGwN",
        "outputId": "26c3b20b-8d85-4bd4-b59f-d290a0d2b2e6"
      },
      "outputs": [
        {
          "output_type": "error",
          "ename": "ValueError",
          "evalue": "ignored",
          "traceback": [
            "\u001b[0;31m---------------------------------------------------------------------------\u001b[0m",
            "\u001b[0;31mValueError\u001b[0m                                Traceback (most recent call last)",
            "\u001b[0;32m<ipython-input-19-b82c4e2192da>\u001b[0m in \u001b[0;36m<cell line: 1>\u001b[0;34m()\u001b[0m\n\u001b[0;32m----> 1\u001b[0;31m \u001b[0mplanetas\u001b[0m\u001b[0;34m.\u001b[0m\u001b[0mremove\u001b[0m\u001b[0;34m(\u001b[0m\u001b[0;34m\"Urano\"\u001b[0m\u001b[0;34m)\u001b[0m\u001b[0;34m\u001b[0m\u001b[0;34m\u001b[0m\u001b[0m\n\u001b[0m",
            "\u001b[0;31mValueError\u001b[0m: list.remove(x): x not in list"
          ]
        }
      ],
      "source": [
        "planetas.remove(\"Urano\")"
      ]
    },
    {
      "cell_type": "markdown",
      "metadata": {
        "id": "S2T5undiDGwO"
      },
      "source": [
        "El método `pop` elimina el elemento de una lista cuyo índice ha sido pasado como argumento, sino se pasa un argumento se toma por defecto el índice `-1`, es decir el último elemento, tal como se muestra enseguida:"
      ]
    },
    {
      "cell_type": "code",
      "execution_count": null,
      "metadata": {
        "colab": {
          "base_uri": "https://localhost:8080/"
        },
        "id": "gnAyIO0jDGwO",
        "outputId": "f3c51127-a849-4754-f02b-61c23603e6cf"
      },
      "outputs": [
        {
          "output_type": "stream",
          "name": "stdout",
          "text": [
            "['Mercurio', 'Venus', 'Tierra', 'Marte']\n",
            "['Mercurio', 'Venus', 'Tierra']\n"
          ]
        }
      ],
      "source": [
        "print(planetas)\n",
        "planetas.pop()\n",
        "print(planetas)"
      ]
    },
    {
      "cell_type": "markdown",
      "metadata": {
        "id": "5MElaVcIDGwO"
      },
      "source": [
        "Observa que en la instrucción anterior se elimina el elemento ubicado en la última posición `\"Marte\"`, dado que no hemos indicado de forma explícita un índice. Indicando, por ejemplo, el índice `1` podríamos eliminar al elemento ubicado en la segunda posición (`\"Venus\"`):"
      ]
    },
    {
      "cell_type": "code",
      "execution_count": null,
      "metadata": {
        "colab": {
          "base_uri": "https://localhost:8080/"
        },
        "id": "2ybPSS3FDGwO",
        "outputId": "f63fa4f2-c723-472a-f8b3-7e683bc56c3f"
      },
      "outputs": [
        {
          "output_type": "stream",
          "name": "stdout",
          "text": [
            "['Mercurio', 'Venus', 'Tierra']\n",
            "['Mercurio', 'Tierra']\n"
          ]
        }
      ],
      "source": [
        "print(planetas)\n",
        "planetas.pop(1)\n",
        "print(planetas)"
      ]
    },
    {
      "cell_type": "markdown",
      "metadata": {
        "id": "ynOODs1YDGwO"
      },
      "source": [
        "Toma en cuenta que si a `pop` le pasamos como argumento un índice fuera del rango válido de la lista entonces Python lanzará un `IndexError`:"
      ]
    },
    {
      "cell_type": "code",
      "execution_count": null,
      "metadata": {
        "colab": {
          "base_uri": "https://localhost:8080/",
          "height": 169
        },
        "id": "VanZQnfyDGwO",
        "outputId": "c28d0a1b-e827-45f1-94d2-6edb56456892"
      },
      "outputs": [
        {
          "output_type": "error",
          "ename": "IndexError",
          "evalue": "ignored",
          "traceback": [
            "\u001b[0;31m---------------------------------------------------------------------------\u001b[0m",
            "\u001b[0;31mIndexError\u001b[0m                                Traceback (most recent call last)",
            "\u001b[0;32m<ipython-input-22-e749d6182560>\u001b[0m in \u001b[0;36m<cell line: 1>\u001b[0;34m()\u001b[0m\n\u001b[0;32m----> 1\u001b[0;31m \u001b[0mplanetas\u001b[0m\u001b[0;34m.\u001b[0m\u001b[0mpop\u001b[0m\u001b[0;34m(\u001b[0m\u001b[0;36m5\u001b[0m\u001b[0;34m)\u001b[0m\u001b[0;34m\u001b[0m\u001b[0;34m\u001b[0m\u001b[0m\n\u001b[0m",
            "\u001b[0;31mIndexError\u001b[0m: pop index out of range"
          ]
        }
      ],
      "source": [
        "planetas.pop(5)"
      ]
    },
    {
      "cell_type": "markdown",
      "metadata": {
        "id": "wRyBbgZPDGwO"
      },
      "source": [
        "El método `clear` nos permite *limpiar* completamente una lista, es decir: elimina todos sus elementos."
      ]
    },
    {
      "cell_type": "code",
      "execution_count": null,
      "metadata": {
        "colab": {
          "base_uri": "https://localhost:8080/"
        },
        "id": "mdZRZ5sXDGwO",
        "outputId": "54a2931d-7d92-4932-bb86-28d340b170c7"
      },
      "outputs": [
        {
          "output_type": "stream",
          "name": "stdout",
          "text": [
            "['Mercurio', 'Tierra']\n",
            "[]\n"
          ]
        }
      ],
      "source": [
        "print(planetas)\n",
        "planetas.clear()\n",
        "print(planetas)"
      ]
    },
    {
      "cell_type": "markdown",
      "metadata": {
        "id": "fCkH08LmDGwO"
      },
      "source": [
        "### Buscando en una lista"
      ]
    },
    {
      "cell_type": "markdown",
      "metadata": {
        "id": "qb0C8UFUDGwO"
      },
      "source": [
        "En algunas situaciones puede ser necesario buscar o identificar ciertos valores dentro de una lista, con la finalidad de determinar por ejemplo cuántas veces aparece un cierto elemento o identificar su posición para realizar alguna operación posterior con dicha información. El método `count` nos permite contar las apariciones de un cierto elemento dentro de una lista. Observemos el siguiente ejemplo en el cual determinamos cuántas veces aparece el número 5 en la lista `puntos`:"
      ]
    },
    {
      "cell_type": "code",
      "execution_count": null,
      "metadata": {
        "colab": {
          "base_uri": "https://localhost:8080/"
        },
        "id": "Mix-t59xDGwP",
        "outputId": "d5141d3b-74e5-461e-906f-6deddf709e8d"
      },
      "outputs": [
        {
          "output_type": "stream",
          "name": "stdout",
          "text": [
            "2\n"
          ]
        }
      ],
      "source": [
        "puntos = [10, 5, 3, 8, 10, 5, 6, 7, 9]\n",
        "print( puntos.count(5))"
      ]
    },
    {
      "cell_type": "markdown",
      "metadata": {
        "id": "BOVwKqINDGwP"
      },
      "source": [
        "Tal como podemos observar, el método `count` nos dice cuántas veces aparece el elemento indicado, pero no nos dice nada acerca de dónde se ubica, para esto podemos hacer uso del método `index`, el cual nos permite identificar la posición de la primera aparición del elemento pasado como argumento."
      ]
    },
    {
      "cell_type": "code",
      "execution_count": null,
      "metadata": {
        "colab": {
          "base_uri": "https://localhost:8080/"
        },
        "id": "b7ZjTeBEDGwP",
        "outputId": "a689068c-f640-4fe1-b9a6-4072d26d99b5"
      },
      "outputs": [
        {
          "output_type": "execute_result",
          "data": {
            "text/plain": [
              "1"
            ]
          },
          "metadata": {},
          "execution_count": 25
        }
      ],
      "source": [
        "puntos.index(5)"
      ]
    },
    {
      "cell_type": "markdown",
      "metadata": {
        "id": "6kEBQwBbDGwP"
      },
      "source": [
        "En Python disponemos también del operador **in**, con el cual podemos indentificar si un elemento (o una secuencia) está presente dentro de un objeto de tipo secuencia. Entonces, utilizando el operador **in** podríamos verificar si un elemento pertenece (o está contenido) a una lista utilizando la siguiente sintaxis:\n",
        "\n",
        "```python\n",
        "elemento in lista\n",
        "```\n",
        "\n",
        "Esto nos devolverá siempre un booleano: `True` o `False`, dependiendo si `elemento` forma parte o no de `lista`. Veamos el ejemplo:"
      ]
    },
    {
      "cell_type": "code",
      "execution_count": null,
      "metadata": {
        "colab": {
          "base_uri": "https://localhost:8080/"
        },
        "id": "QlOkpg3dDGwP",
        "outputId": "cf17edbf-3736-4d10-8673-2a5f6b813eb3"
      },
      "outputs": [
        {
          "output_type": "stream",
          "name": "stdout",
          "text": [
            "True\n"
          ]
        }
      ],
      "source": [
        "colores = [\"Azul\", \"Verde\", \"Rojo\", \"Amarillo\", \"Morado\", \"Negro\", \"Blanco\"]\n",
        "print( \"Blanco\" in colores )"
      ]
    },
    {
      "cell_type": "code",
      "execution_count": null,
      "metadata": {
        "id": "Kgxbmo13DGwP",
        "outputId": "a6d8e9a5-783d-440b-ae7f-4d2b2911ed80"
      },
      "outputs": [
        {
          "name": "stdout",
          "output_type": "stream",
          "text": [
            "False\n"
          ]
        }
      ],
      "source": [
        "print( \"Anaranjado\" in colores )"
      ]
    },
    {
      "cell_type": "markdown",
      "metadata": {
        "id": "Okkvyjc3DGwP"
      },
      "source": [
        "## Tuplas (`tuple`)\n",
        "\n",
        "Las tuplas son secuencias de elementos similares a las listas, la diferencia principal es que\n",
        "las tuplas **no pueden ser modificadas directamente**, es decir, una tupla no dispone de los métodos\n",
        "como `append` o `insert` que modifican los elementos de una lista.\n",
        "\n",
        "Para definir una tupla, los elementos se separan con comas y se encierran entre paréntesis."
      ]
    },
    {
      "cell_type": "code",
      "execution_count": null,
      "metadata": {
        "id": "qV-QvxT1DGwP"
      },
      "outputs": [],
      "source": [
        "colores=(\"Azul\",\"Verde\",\"Rojo\",\"Amarillo\",\"Blanco\",\"Negro\",\"Gris\")"
      ]
    },
    {
      "cell_type": "markdown",
      "metadata": {
        "id": "y9-OUzcnDGwP"
      },
      "source": [
        "Las tuplas al ser *iterables* pueden accederse mediante la notación de corchetes e índice."
      ]
    },
    {
      "cell_type": "code",
      "execution_count": null,
      "metadata": {
        "colab": {
          "base_uri": "https://localhost:8080/",
          "height": 34
        },
        "id": "vj2_gPfZDGwQ",
        "outputId": "bd9d1799-2c31-457a-fd41-62a0e6cdf89c"
      },
      "outputs": [
        {
          "output_type": "execute_result",
          "data": {
            "text/plain": [
              "'Azul'"
            ],
            "application/vnd.google.colaboratory.intrinsic+json": {
              "type": "string"
            }
          },
          "metadata": {},
          "execution_count": 28
        }
      ],
      "source": [
        "colores[0]"
      ]
    },
    {
      "cell_type": "code",
      "execution_count": null,
      "metadata": {
        "colab": {
          "base_uri": "https://localhost:8080/",
          "height": 34
        },
        "id": "V2daugH1DGwQ",
        "outputId": "4ac63171-02b1-45f5-9cc7-856ad7db57c5"
      },
      "outputs": [
        {
          "output_type": "execute_result",
          "data": {
            "text/plain": [
              "'Gris'"
            ],
            "application/vnd.google.colaboratory.intrinsic+json": {
              "type": "string"
            }
          },
          "metadata": {},
          "execution_count": 29
        }
      ],
      "source": [
        "colores[-1]"
      ]
    },
    {
      "cell_type": "code",
      "execution_count": null,
      "metadata": {
        "colab": {
          "base_uri": "https://localhost:8080/",
          "height": 34
        },
        "id": "ZAjZvY45DGwQ",
        "outputId": "10cd0632-1571-4ce6-c9b4-b6f1926e33e9"
      },
      "outputs": [
        {
          "output_type": "execute_result",
          "data": {
            "text/plain": [
              "'Amarillo'"
            ],
            "application/vnd.google.colaboratory.intrinsic+json": {
              "type": "string"
            }
          },
          "metadata": {},
          "execution_count": 30
        }
      ],
      "source": [
        "colores[3]"
      ]
    },
    {
      "cell_type": "markdown",
      "metadata": {
        "id": "h9HlxHF3DGwQ"
      },
      "source": [
        "Si intentamos modificar alguno de los elementos de la tupla Python nos devolverá un `TypeError`:"
      ]
    },
    {
      "cell_type": "code",
      "execution_count": null,
      "metadata": {
        "colab": {
          "base_uri": "https://localhost:8080/",
          "height": 169
        },
        "id": "l2IHa8_YDGwQ",
        "outputId": "d3fa60fe-1a18-4b1c-f6cf-eb74a80cad9e"
      },
      "outputs": [
        {
          "output_type": "error",
          "ename": "TypeError",
          "evalue": "ignored",
          "traceback": [
            "\u001b[0;31m---------------------------------------------------------------------------\u001b[0m",
            "\u001b[0;31mTypeError\u001b[0m                                 Traceback (most recent call last)",
            "\u001b[0;32m<ipython-input-31-3502c7127536>\u001b[0m in \u001b[0;36m<cell line: 1>\u001b[0;34m()\u001b[0m\n\u001b[0;32m----> 1\u001b[0;31m \u001b[0mcolores\u001b[0m\u001b[0;34m[\u001b[0m\u001b[0;36m0\u001b[0m\u001b[0;34m]\u001b[0m \u001b[0;34m=\u001b[0m \u001b[0;34m\"Café\"\u001b[0m\u001b[0;34m\u001b[0m\u001b[0;34m\u001b[0m\u001b[0m\n\u001b[0m",
            "\u001b[0;31mTypeError\u001b[0m: 'tuple' object does not support item assignment"
          ]
        }
      ],
      "source": [
        "colores[0] = \"Café\""
      ]
    },
    {
      "cell_type": "markdown",
      "metadata": {
        "id": "Tv0vKbgBDGwQ"
      },
      "source": [
        "## Diccionarios (`dict`)\n",
        "\n",
        "Los diccionarios son estructuras que contienen una colección de elementos de la\n",
        "forma `clave: valor` separados por comas y encerrados entre llaves.\n",
        "Las claves deben ser objetos inmutables y los valores pueden ser de cualquier tipo.\n",
        "Necesariamente las claves deben ser únicas en cada diccionario, no así\n",
        "los valores."
      ]
    },
    {
      "cell_type": "markdown",
      "metadata": {
        "id": "Tw3xjfslDGwQ"
      },
      "source": [
        "Vamos a definir un diccionario llamado `edades` en el cual\n",
        "cada clave será un nombre y el valor una edad:"
      ]
    },
    {
      "cell_type": "code",
      "execution_count": null,
      "metadata": {
        "id": "_VdmLdrfDGwR"
      },
      "outputs": [],
      "source": [
        "edades = {\"Ana\": 25, \"David\": 18, \"Lucas\": 35, \"Ximena\": 30, \"Ale\": 20}"
      ]
    },
    {
      "cell_type": "markdown",
      "metadata": {
        "id": "IVSuwwg1DGwR"
      },
      "source": [
        "Puede acceder a cada valor de un diccionario mediante su clave, por ejemplo,\n",
        "si quisieramos obtener la edad de la clave `Lucas` se tendría que escribir:"
      ]
    },
    {
      "cell_type": "code",
      "execution_count": null,
      "metadata": {
        "colab": {
          "base_uri": "https://localhost:8080/"
        },
        "id": "aVS1eUChDGwR",
        "outputId": "c456c8e8-2d4b-4bb2-ba97-7ee0b1bb0f19"
      },
      "outputs": [
        {
          "output_type": "execute_result",
          "data": {
            "text/plain": [
              "35"
            ]
          },
          "metadata": {},
          "execution_count": 33
        }
      ],
      "source": [
        "edades[\"Lucas\"]"
      ]
    },
    {
      "cell_type": "markdown",
      "source": [
        "Cuando iteramos sobre diccionarios, se pueden obtener al msmo tiempo la clave y su valor correspondiente usando el método `items()`."
      ],
      "metadata": {
        "id": "WI-wCpLJESmz"
      }
    },
    {
      "cell_type": "code",
      "source": [
        "edades = {\"Ana\": 25, \"David\": 18, \"Lucas\": 35, \"Ximena\": 30, \"Ale\": 20}\n",
        "for nombre, edad in edades.items():\n",
        "    print(nombre, edad)"
      ],
      "metadata": {
        "colab": {
          "base_uri": "https://localhost:8080/"
        },
        "id": "rhwNDa3IEYpg",
        "outputId": "b225bf29-c1c0-4a1a-8176-15eb34cd147b"
      },
      "execution_count": null,
      "outputs": [
        {
          "output_type": "stream",
          "name": "stdout",
          "text": [
            "Ana 25\n",
            "David 18\n",
            "Lucas 35\n",
            "Ximena 30\n",
            "Ale 20\n"
          ]
        }
      ]
    }
  ],
  "metadata": {
    "kernelspec": {
      "display_name": "Python 3 (ipykernel)",
      "language": "python",
      "name": "python3"
    },
    "language_info": {
      "codemirror_mode": {
        "name": "ipython",
        "version": 3
      },
      "file_extension": ".py",
      "mimetype": "text/x-python",
      "name": "python",
      "nbconvert_exporter": "python",
      "pygments_lexer": "ipython3",
      "version": "3.10.9"
    },
    "toc": {
      "base_numbering": 1,
      "nav_menu": {
        "height": "462px",
        "width": "608px"
      },
      "number_sections": true,
      "sideBar": true,
      "skip_h1_title": false,
      "title_cell": "Contenido",
      "title_sidebar": "Contents",
      "toc_cell": true,
      "toc_position": {},
      "toc_section_display": true,
      "toc_window_display": false
    },
    "colab": {
      "provenance": [],
      "collapsed_sections": [
        "Ak90VYyFDGwD",
        "Okkvyjc3DGwP",
        "Tv0vKbgBDGwQ"
      ]
    }
  },
  "nbformat": 4,
  "nbformat_minor": 0
}