{
  "cells": [
    {
      "cell_type": "markdown",
      "metadata": {
        "id": "mr-Sm4hVR6sU"
      },
      "source": [
        "# Manejo de ficheros de texto\n",
        "\n",
        "En menor o mayor medida, todo aquel que trabaja con un ordenador conoce el concepto de fichero. Brevemente, podemos definir un  fichero como una abstracción del Sistema Operativo que sirve para almacenar un conjunto de información. Podemos diferenciar dos tipos de ficheros:\n",
        "\n",
        "1. **Ficheros binarios**: contiene una representación exacta del contenido (unos y ceros) de los datos. Pueden ser leidos y editados por aplicaciones concretas, pero no por un editor de texto.\n",
        "\n",
        "2. **Ficheros de texto**: la información se representa mediante caracteres alfanuméricos. Pueden ser leidos y modificados por un editor de texto.\n",
        "\n",
        "**Importante.** En este apartado vamos a trabajar con ficheros de texto, y ver las posibilidades que nos ofrece Python a la hora de trabajar con ellos y persistir la información. El manejo de ficheros es un tema mucho más amplio del que vamos a trabajar a continuación, aquí nos centraremos en las operaciones más básicas."
      ]
    },
    {
      "cell_type": "markdown",
      "source": [
        "## Apertura y cierre de un fichero\n",
        "\n",
        "### Apertura\n",
        "\n",
        "A la hora de abrir un fichero se debe tener en cuenta lo siguiente:\n",
        "* La **ruta** de acceso al fichero, para ello es necesario entender el concepto de rutas absolutas y relativas ([Más información](https://www.educatica.es/sistemas-operativos/principios-basicos/sistemas-de-ficheros/rutas-de-ficheros-y-directorios/)).\n",
        "* El **modo** en el que abriremos el fichero. Por ejemplo, si queremos abrirlo para lectura o para escritura.\n",
        "\n",
        "Todo esto lo podemos definir a través de los parámetros de entrada de la función `open(<ruta>, <modo>)`. En la siguiente tabla se muestran los modos más comunes a la hora de abrir un fichero. Nosotros nos centraremos en los 3 primeros.\n",
        "\n",
        "| Parámetro | Acción |\n",
        "|----------|----------|\n",
        "| **w**   | Escritura. Si el fichero no existe lo crea. Si existe, borra su contenido.   |\n",
        "| **r**    | Lectura. Si existe el fichero lo abre, si no existe da error.   |\n",
        "| **a**    | Si fichero no existe, lo crea para escritura. Si existe, añade al final.   |\n",
        "| w+    | Escritura/lectura. Si el fichero no existe lo crea. Si existe lo borra.   |\n",
        "| a+    | Escritura/lectura. Si existe, añade al final.|\n",
        "| x    | Abre exclusivamente para crear fichero. Si ya existe, falla. |\n",
        "\n",
        "### Cierre\n",
        "Una vez abierto un fichero es muy importante cerrarlo con la función `close()`. El utilizar ficheros consume memoria del ordenador y si no se cierran es memoria inaccesible. Además el número máximo de ficheros que pueden abrise de forma simultánea es limitado, si no lo cerramos es posible que posteriormente no podamos abrir otros.\n"
      ],
      "metadata": {
        "id": "LfMQbXUMxKLL"
      }
    },
    {
      "cell_type": "markdown",
      "source": [
        "## Operaciones básicas sobre ficheros"
      ],
      "metadata": {
        "id": "iaDjMihn3SBH"
      }
    },
    {
      "cell_type": "markdown",
      "source": [
        "## Comprobar la existencia de un fichero\n",
        "\n",
        "Una operación de gran utilidad es la de comprobar la existencia de un fichero. lo cual se puede hacer de la siguiente forma:"
      ],
      "metadata": {
        "id": "tyduPWbm35BP"
      }
    },
    {
      "cell_type": "markdown",
      "source": [
        "Con todo esto, el código principal para trabajar con ficheros consiste en 1) abrir el fichero, 2) trabajar con el fichero, y 3) cerrar el fichero.\n",
        "\n",
        "```Python\n",
        "fich = open(<ruta>, <modo>) #abrir fichero\n",
        "# trabajar con el fichero\n",
        "fich.close()  # cerrar el fichero\n",
        "```\n",
        "\n",
        "\n"
      ],
      "metadata": {
        "id": "pHU3_k2p2wff"
      }
    },
    {
      "cell_type": "code",
      "source": [
        "import os #necesario para ejecutar la función\n",
        "\n",
        "os.path.exists('fichero.txt') #devolverá verdadero si existe y falso en caso contrario"
      ],
      "metadata": {
        "colab": {
          "base_uri": "https://localhost:8080/"
        },
        "id": "CfoviqO24a0I",
        "outputId": "69d51774-e196-4ff5-f92d-4ad69b847afa"
      },
      "execution_count": null,
      "outputs": [
        {
          "output_type": "execute_result",
          "data": {
            "text/plain": [
              "False"
            ]
          },
          "metadata": {},
          "execution_count": 1
        }
      ]
    },
    {
      "cell_type": "markdown",
      "source": [
        "**NOTA:** Si estás trabajando con Google Colaboratory puedes ver los ficheros que tienes haciendo clic en la carpetita del menú de arriba a la izquierda (5.º elemento)."
      ],
      "metadata": {
        "id": "bP6B_Xf-fpuZ"
      }
    },
    {
      "cell_type": "markdown",
      "source": [
        "### Escritura sobre fichero sobreescribiendo el contenido"
      ],
      "metadata": {
        "id": "e7xB2SDt3fRQ"
      }
    },
    {
      "cell_type": "markdown",
      "source": [
        "Con el siguiente código veremos como se puede abrir en modo escritura el fichero con nombre 'fichero.txt' que se encuentra en la misma carpeta que el fichero .ipynb. Existen dos comportamientos:\n",
        "\n",
        "1. Si no existe el fichero. Crea el fichero y escribe lo que se indique.\n",
        "\n",
        "2. Si existe el fichero. Borra su contenido y escribe lo que se indique (sobreescribe).\n",
        "\n",
        "**NOTA**: Si deseas añadir un salto de línea deberás añadir '\\n' en el texto a escribir."
      ],
      "metadata": {
        "id": "bUYHkGJS5MLc"
      }
    },
    {
      "cell_type": "code",
      "source": [
        "fich = open('fichero.txt', 'w') #abrir fichero\n",
        "fich.write('hola mundo\\n')\n",
        "fich.write('hola mundo 2')\n",
        "fich.close()  # cerrar el fichero"
      ],
      "metadata": {
        "id": "IfxZFGp53euq"
      },
      "execution_count": null,
      "outputs": []
    },
    {
      "cell_type": "markdown",
      "source": [
        "### Escritura sobre un fichero sin sobreescribir el contenido"
      ],
      "metadata": {
        "id": "pCNhlw3D2tea"
      }
    },
    {
      "cell_type": "markdown",
      "source": [
        "Al utilizar el anterior código no podremos añadir contenido a un fichero ya existente. Con el siguiente código veremos como abrir en modo actualizar un fichero que no existe y poder añadir contenido sobre el."
      ],
      "metadata": {
        "id": "MgVbmymE6lat"
      }
    },
    {
      "cell_type": "code",
      "source": [
        "fich = open('fichero2.txt', 'a') #abrir fichero\n",
        "fich.write('1\\n')\n",
        "fich.close()  # cerrar el fichero"
      ],
      "metadata": {
        "id": "XmhA1E886OUu"
      },
      "execution_count": null,
      "outputs": []
    },
    {
      "cell_type": "markdown",
      "source": [
        "Si volvemos a ejecutar el anterior código añadiremos otra línea con el número 1."
      ],
      "metadata": {
        "id": "C3CzAcT76z3H"
      }
    },
    {
      "cell_type": "markdown",
      "source": [
        "### Lectura de un fichero\n",
        "\n",
        "Con el siguiente código se realiza la lectura de un fichero línea a línea y se muestra por pantalla.\n",
        "\n"
      ],
      "metadata": {
        "id": "L5bilkgY86oZ"
      }
    },
    {
      "cell_type": "code",
      "source": [
        "fich = open('fichero2.txt', 'r') #abrir fichero\n",
        "\n",
        "for linea in fich:\n",
        "  print(linea)\n",
        "\n",
        "fich.close()  # cerrar el fichero"
      ],
      "metadata": {
        "colab": {
          "base_uri": "https://localhost:8080/"
        },
        "id": "M0B_tm489bNF",
        "outputId": "cf0b6b19-643e-4279-a555-e21dae0205e7"
      },
      "execution_count": null,
      "outputs": [
        {
          "output_type": "stream",
          "name": "stdout",
          "text": [
            "1\n",
            "\n",
            "1\n",
            "\n"
          ]
        }
      ]
    },
    {
      "cell_type": "markdown",
      "source": [
        "Si por el contrario queremos leer el fichero completo y guardar su contenido en una variable, lo haremos con la función `read()`"
      ],
      "metadata": {
        "id": "4_H9feOVhVD-"
      }
    },
    {
      "cell_type": "code",
      "source": [
        "fich = open('fichero2.txt', 'r') #abrir fichero\n",
        "\n",
        "contenido = fich.read()\n",
        "print(contenido)\n",
        "\n",
        "fich.close()  # cerrar el fichero"
      ],
      "metadata": {
        "colab": {
          "base_uri": "https://localhost:8080/",
          "height": 235
        },
        "id": "6bHvXZQJhUYi",
        "outputId": "baba17ec-ab33-4f65-90b5-9c452aba9690"
      },
      "execution_count": null,
      "outputs": [
        {
          "output_type": "error",
          "ename": "FileNotFoundError",
          "evalue": "ignored",
          "traceback": [
            "\u001b[0;31m---------------------------------------------------------------------------\u001b[0m",
            "\u001b[0;31mFileNotFoundError\u001b[0m                         Traceback (most recent call last)",
            "\u001b[0;32m<ipython-input-1-f9a684fd570f>\u001b[0m in \u001b[0;36m<cell line: 1>\u001b[0;34m()\u001b[0m\n\u001b[0;32m----> 1\u001b[0;31m \u001b[0mfich\u001b[0m \u001b[0;34m=\u001b[0m \u001b[0mopen\u001b[0m\u001b[0;34m(\u001b[0m\u001b[0;34m'fichero2.txt'\u001b[0m\u001b[0;34m,\u001b[0m \u001b[0;34m'r'\u001b[0m\u001b[0;34m)\u001b[0m \u001b[0;31m#abrir fichero\u001b[0m\u001b[0;34m\u001b[0m\u001b[0;34m\u001b[0m\u001b[0m\n\u001b[0m\u001b[1;32m      2\u001b[0m \u001b[0;34m\u001b[0m\u001b[0m\n\u001b[1;32m      3\u001b[0m \u001b[0mcontenido\u001b[0m \u001b[0;34m=\u001b[0m \u001b[0mfich\u001b[0m\u001b[0;34m.\u001b[0m\u001b[0mread\u001b[0m\u001b[0;34m(\u001b[0m\u001b[0;34m)\u001b[0m\u001b[0;34m\u001b[0m\u001b[0;34m\u001b[0m\u001b[0m\n\u001b[1;32m      4\u001b[0m \u001b[0mprint\u001b[0m\u001b[0;34m(\u001b[0m\u001b[0mcontenido\u001b[0m\u001b[0;34m)\u001b[0m\u001b[0;34m\u001b[0m\u001b[0;34m\u001b[0m\u001b[0m\n\u001b[1;32m      5\u001b[0m \u001b[0;34m\u001b[0m\u001b[0m\n",
            "\u001b[0;31mFileNotFoundError\u001b[0m: [Errno 2] No such file or directory: 'fichero2.txt'"
          ]
        }
      ]
    }
  ],
  "metadata": {
    "colab": {
      "provenance": []
    },
    "kernelspec": {
      "display_name": "Python 3 (ipykernel)",
      "language": "python",
      "name": "python3"
    },
    "language_info": {
      "codemirror_mode": {
        "name": "ipython",
        "version": 3
      },
      "file_extension": ".py",
      "mimetype": "text/x-python",
      "name": "python",
      "nbconvert_exporter": "python",
      "pygments_lexer": "ipython3",
      "version": "3.10.9"
    }
  },
  "nbformat": 4,
  "nbformat_minor": 0
}