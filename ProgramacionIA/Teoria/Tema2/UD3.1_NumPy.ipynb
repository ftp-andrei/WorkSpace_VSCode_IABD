{
  "cells": [
    {
      "cell_type": "markdown",
      "metadata": {
        "id": "OIW95TvNtmff"
      },
      "source": [
        "# ¿Qué es NumPy?\n",
        "NumPy es una librería de Python que se utiliza para trabajar con vectores y matrices.\n",
        "\n",
        "NumPy fue creado en 2005 por Travis Oliphant. Es un proyecto de código abierto y puede ser usardo libremente.\n",
        "\n",
        "NumPy significa Python numérico.\n",
        "\n",
        "# ¿Por qué utilizar NumPy?\n",
        "En Python tenemos listas que sirven como matrices, pero su procesamiento es lento.\n",
        "\n",
        "NumPy tiene como objetivo proporcionar un objeto de matriz que es hasta 50 veces más rápido que las listas tradicionales de Python."
      ]
    },
    {
      "cell_type": "markdown",
      "metadata": {
        "id": "on4Md39shKCe"
      },
      "source": [
        "# Tratamiento de datos con NumPy\n",
        "\n",
        "NumPy es una librería de Python que añade mayor potencia para la utilización de vectores y matrices. Los objetivos principales de este documento será:\n",
        "\n",
        "* Conocer los tipos de datos en NumPy\n",
        "* Generación y manejo de arrays\n",
        "* Conocer las funciones de manipulación de datos\n",
        "* Aprender a trabajar con funciones matemáticas en NumPy\n"
      ]
    },
    {
      "cell_type": "code",
      "execution_count": 3,
      "metadata": {
        "id": "7aKrZZAgoE3Q"
      },
      "outputs": [],
      "source": [
        "import numpy as np"
      ]
    },
    {
      "cell_type": "markdown",
      "metadata": {
        "id": "BFYqOwbcjYx-"
      },
      "source": [
        "## Conceptos básicos de Numpy\n",
        "\n",
        "Nos ofrece mayor potencia para el uso de operaciones matemáticas sobre arrays y matrices, a continuación se verá un ejemplo de cómo generar un nuevo array cuyos valores se han modificado sin utilizar NumPy y utilizandolo."
      ]
    },
    {
      "cell_type": "code",
      "execution_count": 8,
      "metadata": {
        "colab": {
          "base_uri": "https://localhost:8080/"
        },
        "id": "AjTsTwCIhAlj",
        "outputId": "474a37bd-5af1-427a-9beb-d88e36eb358e"
      },
      "outputs": [
        {
          "name": "stdout",
          "output_type": "stream",
          "text": [
            "[2, 4, 6, 8]\n"
          ]
        }
      ],
      "source": [
        "# si deseo multiplicar cada elemento por el valor 2\n",
        "valor = 2\n",
        "\n",
        "# Sin usar NumPy:\n",
        "lista_python = [1,2,3,4]\n",
        "\n",
        "res = []\n",
        "for v in lista_python:\n",
        "  res.append(v*valor)\n",
        "\n",
        "print(res)"
      ]
    },
    {
      "cell_type": "code",
      "execution_count": 14,
      "metadata": {
        "colab": {
          "base_uri": "https://localhost:8080/"
        },
        "id": "3l1gd3ZDjJCQ",
        "outputId": "5d53359b-0f68-4adf-d4d7-9dfe2f674716"
      },
      "outputs": [
        {
          "name": "stdout",
          "output_type": "stream",
          "text": [
            "[2 4 6 8]\n"
          ]
        }
      ],
      "source": [
        "# usando NumPy\n",
        "array = np.array([1,2,3,4])\n",
        "print (array*valor)"
      ]
    },
    {
      "cell_type": "markdown",
      "metadata": {
        "id": "Z_nx8HCfj-fA"
      },
      "source": [
        "### Creación de arrays"
      ]
    },
    {
      "cell_type": "code",
      "execution_count": 13,
      "metadata": {
        "colab": {
          "base_uri": "https://localhost:8080/"
        },
        "id": "LsOeq9lyksWl",
        "outputId": "dc1f5172-8453-42d9-e85e-ac2e6d112925"
      },
      "outputs": [
        {
          "data": {
            "text/plain": [
              "array([1, 2, 0, 4, 5, 6])"
            ]
          },
          "execution_count": 13,
          "metadata": {},
          "output_type": "execute_result"
        }
      ],
      "source": [
        "#crear un array indicando el tipo\n",
        "array1 = np.array([\"1\",2,0.1,4,5,6], dtype='int')\n",
        "array1"
      ]
    },
    {
      "cell_type": "code",
      "execution_count": 15,
      "metadata": {
        "colab": {
          "base_uri": "https://localhost:8080/"
        },
        "id": "UecdWij6lQ-i",
        "outputId": "6205257c-7b04-462b-9a42-1e4deb4eba7c"
      },
      "outputs": [
        {
          "name": "stdout",
          "output_type": "stream",
          "text": [
            "int64\n"
          ]
        },
        {
          "data": {
            "text/plain": [
              "numpy.ndarray"
            ]
          },
          "execution_count": 15,
          "metadata": {},
          "output_type": "execute_result"
        }
      ],
      "source": [
        "#comprobar el tipo del array\n",
        "print(array1.dtype)\n",
        "type(array1)"
      ]
    },
    {
      "cell_type": "markdown",
      "metadata": {
        "id": "t9VKoOCPvtE7"
      },
      "source": [
        "El objeto de matriz en NumPy se llama **ndarray**. Podemos crear un objeto ndarray usando la función array()."
      ]
    },
    {
      "cell_type": "code",
      "execution_count": null,
      "metadata": {
        "colab": {
          "base_uri": "https://localhost:8080/"
        },
        "id": "06JI4htTlcYu",
        "outputId": "7ffb83dc-db31-43b0-d6be-590639b5f25e"
      },
      "outputs": [
        {
          "data": {
            "text/plain": [
              "array([[1, 2, 3],\n",
              "       [4, 5, 6]])"
            ]
          },
          "execution_count": 14,
          "metadata": {},
          "output_type": "execute_result"
        }
      ],
      "source": [
        "#crear un array con varias dimensiones\n",
        "array2 = np.array([[1,2,3],[4,5,6]], dtype='int')\n",
        "array2"
      ]
    },
    {
      "cell_type": "code",
      "execution_count": null,
      "metadata": {
        "colab": {
          "base_uri": "https://localhost:8080/"
        },
        "id": "7jKLVybUfudJ",
        "outputId": "633d974c-f776-4569-d524-f708c0874d3f"
      },
      "outputs": [
        {
          "data": {
            "text/plain": [
              "3"
            ]
          },
          "execution_count": 15,
          "metadata": {},
          "output_type": "execute_result"
        }
      ],
      "source": [
        "array2[0][2]"
      ]
    },
    {
      "cell_type": "code",
      "execution_count": null,
      "metadata": {
        "colab": {
          "base_uri": "https://localhost:8080/"
        },
        "id": "CX2pIkwNgDpv",
        "outputId": "f2265153-1df8-479d-fcce-09058bbdb6e8"
      },
      "outputs": [
        {
          "name": "stderr",
          "output_type": "stream",
          "text": [
            "<ipython-input-16-64072dbeb49b>:1: VisibleDeprecationWarning: Creating an ndarray from ragged nested sequences (which is a list-or-tuple of lists-or-tuples-or ndarrays with different lengths or shapes) is deprecated. If you meant to do this, you must specify 'dtype=object' when creating the ndarray.\n",
            "  array3=np.array([[\"x\", \"z\", \"a\"],[\"y\", \"t\"]])\n"
          ]
        },
        {
          "data": {
            "text/plain": [
              "(2,)"
            ]
          },
          "execution_count": 16,
          "metadata": {},
          "output_type": "execute_result"
        }
      ],
      "source": [
        "# Debe tener los mismos elementos\n",
        "array3=np.array([[\"x\", \"z\", \"a\"],\n",
        "                 [\"y\", \"t\",\"j\"]]) \n",
        "# añado j\n",
        "# El shape[0] devuelve 2, es decir, el número de filas\n",
        "# El shape[1] devuelve 3, es decir, el numero de columnas\n",
        "array3.shape"
      ]
    },
    {
      "cell_type": "code",
      "execution_count": null,
      "metadata": {
        "colab": {
          "base_uri": "https://localhost:8080/",
          "height": 36
        },
        "id": "n4BWygM3gmxf",
        "outputId": "059d34ac-38f8-473c-9ad6-cb07dfbc4f73"
      },
      "outputs": [
        {
          "data": {
            "application/vnd.google.colaboratory.intrinsic+json": {
              "type": "string"
            },
            "text/plain": [
              "'a'"
            ]
          },
          "execution_count": 17,
          "metadata": {},
          "output_type": "execute_result"
        }
      ],
      "source": [
        "array3[0][2]"
      ]
    },
    {
      "cell_type": "markdown",
      "metadata": {
        "id": "vnR9E4SLn9R0"
      },
      "source": [
        "## Funciones básicas:"
      ]
    },
    {
      "cell_type": "markdown",
      "metadata": {
        "id": "yQobmjDsblUO"
      },
      "source": [
        "### Gráficas"
      ]
    },
    {
      "cell_type": "code",
      "execution_count": 21,
      "metadata": {
        "colab": {
          "base_uri": "https://localhost:8080/"
        },
        "id": "gZPzhnktmqv8",
        "outputId": "83a6299d-00a5-48d3-b3b9-09fa3033c452"
      },
      "outputs": [
        {
          "name": "stdout",
          "output_type": "stream",
          "text": [
            "Array 0\n",
            "[0. 0. 0. 0. 0. 0. 0. 0. 0. 0.]\n",
            "________________\n",
            "Array 1\n",
            "[1. 1. 1. 1. 1. 1. 1. 1. 1. 1.]\n",
            "________________\n",
            "Array matriz 1\n",
            "[[1. 1.]\n",
            " [1. 1.]\n",
            " [1. 1.]\n",
            " [1. 1.]\n",
            " [1. 1.]]\n",
            "________________\n",
            "Array con arange (min 0, max 10, step 1)\n",
            "[0 1 2 3 4 5 6 7 8 9]\n",
            "________________\n",
            "Array convertido a 5 filas 2 columnas\n",
            "[[0 1]\n",
            " [2 3]\n",
            " [4 5]\n",
            " [6 7]\n",
            " [8 9]]\n",
            "________________\n",
            "[[7 7 7]\n",
            " [7 7 7]]\n",
            "________________\n",
            "[[1. 0. 0. 0. 0. 0. 0. 0. 0. 0.]\n",
            " [0. 1. 0. 0. 0. 0. 0. 0. 0. 0.]\n",
            " [0. 0. 1. 0. 0. 0. 0. 0. 0. 0.]\n",
            " [0. 0. 0. 1. 0. 0. 0. 0. 0. 0.]\n",
            " [0. 0. 0. 0. 1. 0. 0. 0. 0. 0.]\n",
            " [0. 0. 0. 0. 0. 1. 0. 0. 0. 0.]\n",
            " [0. 0. 0. 0. 0. 0. 1. 0. 0. 0.]\n",
            " [0. 0. 0. 0. 0. 0. 0. 1. 0. 0.]\n",
            " [0. 0. 0. 0. 0. 0. 0. 0. 1. 0.]\n",
            " [0. 0. 0. 0. 0. 0. 0. 0. 0. 1.]]\n"
          ]
        }
      ],
      "source": [
        "#funciones para generar arrays\n",
        "\n",
        "\n",
        "print('Array 0')\n",
        "print(np.zeros(10))                         #generar array con 10 ceros\n",
        "print(\"________________\")\n",
        "print('Array 1')\n",
        "print(np.ones(10))                          #generar array con 10 unos\n",
        "print(\"________________\")\n",
        "print('Array matriz 1')\n",
        "print(np.ones((5,2)))                       #generar matriz 5x2 con unos\n",
        "print(\"________________\")\n",
        "print('Array con arange (min 0, max 10, step 1)')\n",
        "a = np.arange(0,10,1)                       #generar un array desde un valor min a un valor max indicando el incremento\n",
        "print(a)\n",
        "print(\"________________\")\n",
        "print('Array convertido a 5 filas 2 columnas')\n",
        "print(a.reshape((5,2)))                     #convertir un array en matriz\n",
        "print(\"________________\")\n",
        "print(np.full(shape=(2,3), fill_value=7))   #generar array 2x3 con valores 7\n",
        "print(\"________________\")\n",
        "print(np.eye(10))                           #generar array identidad 10x10 (diagonal principal con unos)\n"
      ]
    },
    {
      "cell_type": "code",
      "execution_count": null,
      "metadata": {
        "colab": {
          "base_uri": "https://localhost:8080/"
        },
        "id": "1luzL5VH1axI",
        "outputId": "539cc80c-5c45-492c-9d36-459adab77d11"
      },
      "outputs": [
        {
          "name": "stdout",
          "output_type": "stream",
          "text": [
            "[11.   11.25 11.5  11.75 12.  ]\n"
          ]
        }
      ],
      "source": [
        "'''\n",
        "Con np.arange() puedes decir cada cuánto genere los elementos y con ello te dará un tamaño de array.\n",
        "En cambio con np.linspace() puedes decir el tamaño del array y los steps se calcularán automáticamente.\n",
        "Y aquí tanto start como stop son inclusivos.\n",
        "'''\n",
        "# start = inicio\n",
        "# stop = fin\n",
        "# num = número de elementos/cortes\n",
        "print(np.linspace(start=11, stop=12, num=5))"
      ]
    },
    {
      "cell_type": "code",
      "execution_count": 24,
      "metadata": {
        "colab": {
          "base_uri": "https://localhost:8080/"
        },
        "id": "YM08Cfil2lja",
        "outputId": "4b770821-289d-4b19-8b65-2d7f65cc20e8"
      },
      "outputs": [
        {
          "data": {
            "image/png": "[encoded data removed]",
            "text/plain": [
              "<Figure size 1200x500 with 4 Axes>"
            ]
          },
          "metadata": {},
          "output_type": "display_data"
        }
      ],
      "source": [
        "'''\n",
        "Cuando queremos crear arrays con números aleatorios podemos definir el tipo de distribución que queremos que siga.\n",
        "'''\n",
        "\n",
        "uniform = np.random.uniform(0, 10, 10000)     #10000 valores entre 0 y diez distribuidos de forma uniforme\n",
        "uniform2 = np.random.rand(10000)              #10000 valores entre 0 y 1 distribuidos de forma uniforme\n",
        "\n",
        "normal = np.random.normal(5, 9, 10000)        #10000 de media 0 y desviación 3\n",
        "normal2 = np.random.randn(10000)              #10000 valores entre 0 y 1 distribuidos de forma normal\n",
        "\n",
        "#mostrar de forma gráfica las distribuciones\n",
        "import matplotlib.pyplot as plt\n",
        "\n",
        "plt.figure(figsize=(12,5))  #defino la figura donde irán todas las distribuciones\n",
        "\n",
        "\n",
        "plt.subplot(2, 2, 1)\n",
        "plt.hist(uniform, bins=100)\n",
        "plt.title('Distribución uniforme con uniform')\n",
        "\n",
        "plt.subplot(2, 2, 2)\n",
        "plt.hist(uniform2, bins=100)\n",
        "plt.title('Distribución uniforme con rand')\n",
        "\n",
        "plt.subplot(2, 2, 3)\n",
        "plt.hist(normal, bins=100)\n",
        "plt.title('Distribución normal con normal')\n",
        "\n",
        "plt.subplot(2, 2, 4)\n",
        "plt.hist(normal2, bins=100)\n",
        "plt.title('Distribución normal con randn')\n",
        "\n",
        "plt.show()\n",
        "\n"
      ]
    },
    {
      "cell_type": "markdown",
      "metadata": {
        "id": "JmhKw9dakPfH"
      },
      "source": [
        "### Tipos de datos"
      ]
    },
    {
      "cell_type": "markdown",
      "metadata": {
        "id": "Jc3RqeRz8A8q"
      },
      "source": [
        "Un tipo de dato muy importante es el NaN o valor nulo. El resto de tipos (bastantes) no son considerados en este documento."
      ]
    },
    {
      "cell_type": "code",
      "execution_count": 26,
      "metadata": {
        "colab": {
          "base_uri": "https://localhost:8080/"
        },
        "id": "R3gCrN7CnypA",
        "outputId": "cb8d43a7-f1ff-4c82-ea90-73012c1695d1"
      },
      "outputs": [
        {
          "data": {
            "text/plain": [
              "np.True_"
            ]
          },
          "execution_count": 26,
          "metadata": {},
          "output_type": "execute_result"
        }
      ],
      "source": [
        "valor = np.nan\n",
        "np.isnan(valor)     #Comprobamos si un valor es nulo"
      ]
    },
    {
      "cell_type": "markdown",
      "metadata": {
        "id": "Y0dh_WRzkRSf"
      },
      "source": [
        "### Indexado y recorrido de arrays\n",
        "\n",
        "Podemos consultar un campo del array con los carácteres []. Tenemos que recordar que en python, los indices comienzan por cero, por lo que si queremos consultar el primer elemento de un array lo haríamos de la siguiente manera"
      ]
    },
    {
      "cell_type": "code",
      "execution_count": null,
      "metadata": {
        "colab": {
          "base_uri": "https://localhost:8080/"
        },
        "id": "v5ySbTLY8gFt",
        "outputId": "876479e9-4a00-4705-bb23-33ab8dc980e4"
      },
      "outputs": [
        {
          "name": "stdout",
          "output_type": "stream",
          "text": [
            "0\n",
            "9\n"
          ]
        }
      ],
      "source": [
        "a = np.array([0,1,2,3,4,5,6,7,8,9])\n",
        "print(a[0])\n",
        "print(a[9])\n",
        "#print(a[10])"
      ]
    },
    {
      "cell_type": "code",
      "execution_count": null,
      "metadata": {
        "colab": {
          "base_uri": "https://localhost:8080/"
        },
        "id": "9EDb4czG8o_m",
        "outputId": "9da69af3-96c0-4741-9f1e-5df196f1674a"
      },
      "outputs": [
        {
          "name": "stdout",
          "output_type": "stream",
          "text": [
            "[0 2 4 6 8]\n",
            "[0 3 6]\n",
            "[8 9]\n",
            "[9 8 7 6 5 4 3 2 1 0]\n",
            "[0 1 2 3 4]\n",
            "[5 6 7 8 9]\n"
          ]
        }
      ],
      "source": [
        "# Podemos consultar distintos elementos del array con el slicing. En el slice tenemos que definir: \n",
        "# inicio:fin:paso\n",
        "\n",
        "print(a[0:9:2])\n",
        "print(a[0:8:3])\n",
        "\n",
        "#Podemos recuperar los dos últimos elementos, usando valores negativos\n",
        "\n",
        "print(a[-2:10])\n",
        "\n",
        "#También podemos recorrer los valores de mayor a menor definiendo el tamaño del paso como un nº negativo\n",
        "\n",
        "a[9::-1]\n",
        "print(a[9::-1])\n",
        "#También podemos definir solo el inicio, o el fin\n",
        "\n",
        "print(a[:5])\n",
        "print(a[5:])\n",
        "\n"
      ]
    },
    {
      "cell_type": "code",
      "execution_count": 34,
      "metadata": {
        "colab": {
          "base_uri": "https://localhost:8080/"
        },
        "id": "fjY3q_p_9GWG",
        "outputId": "efe45dec-0a11-4886-e7fe-6105f08d1099"
      },
      "outputs": [
        {
          "name": "stdout",
          "output_type": "stream",
          "text": [
            "[[1 2 3]\n",
            " [4 5 6]]\n",
            "2\n",
            "2\n",
            "[4 5]\n",
            "[[1 2]\n",
            " [4 5]]\n",
            "[array([1, 2], dtype=int8), array([4, 5], dtype=int8)]\n"
          ]
        }
      ],
      "source": [
        "'''\n",
        "Para los array multidimensionales funciona del mismo modo.\n",
        "Solo tenemos que verlos en forma de matriz, y consultar la fila y columna que deseemos.\n",
        "'''\n",
        "\n",
        "a = np.array([[1,2,3], [4,5,6]], dtype = np.int8)\n",
        "print (a)\n",
        "\n",
        "\n",
        "print(a[0][1])        #dos formas equivalentes de acceder a la misma posición\n",
        "print(a[0,1])\n",
        "\n",
        "print(a[1, 0:2])      #de la fila 1, las columnas que van de la 0 a la 2\n",
        "print(a[0:2, 0:2])    #de las filas 0 a la 2, las columnas que van de la 0 a la 2\n",
        "print(a[0, 0:2],a[1, 0:2])\n"
      ]
    },
    {
      "cell_type": "markdown",
      "metadata": {
        "id": "P8jPnyEACuoQ"
      },
      "source": [
        "#### Operaciones útiles"
      ]
    },
    {
      "cell_type": "code",
      "execution_count": 37,
      "metadata": {
        "colab": {
          "base_uri": "https://localhost:8080/"
        },
        "id": "2Y-1cRQDCw4h",
        "outputId": "ceebb5c1-da0f-4d43-891a-0fcb4a5d6922"
      },
      "outputs": [
        {
          "name": "stdout",
          "output_type": "stream",
          "text": [
            "[[ 4.  3.]\n",
            " [nan  2.]\n",
            " [nan nan]]\n",
            "[nan nan nan]\n",
            "[4. 3. 2.]\n"
          ]
        }
      ],
      "source": [
        "#obtener todos los valores NO nulos u obtener todos los valores nulos\n",
        "x = np.array([[4, 3], [np.nan, 2.], [np.nan, np.nan]])\n",
        "print(x)\n",
        "\n",
        "print(x[np.isnan(x)])   #obtener valores nulos, obtiene los verdaderos (True)\n",
        "print(x[~np.isnan(x)])  #obtener valores no nulos, obtiene los falsos (False)"
      ]
    },
    {
      "cell_type": "code",
      "execution_count": 40,
      "metadata": {
        "colab": {
          "base_uri": "https://localhost:8080/"
        },
        "id": "dt9GwsQ9C_Sb",
        "outputId": "43ec5c0e-1140-43cf-e4b4-3009a056eca2"
      },
      "outputs": [
        {
          "name": "stdout",
          "output_type": "stream",
          "text": [
            "[False False False False False  True  True  True  True  True]\n",
            "[5 6 7 8 9]\n",
            "[0 2 4 6 8]\n"
          ]
        }
      ],
      "source": [
        "#obtener array de booleanos indicando qué posiciones cumplen una condición\n",
        "a = np.array([0,1,2,3,4,5,6,7,8,9])\n",
        "print(a > 4) \n",
        "# Devuelve los elementos mayores a 4\n",
        "\n",
        "#el array obtenido se puede indicar dentro de los corchetes para obtener aquellos valores que corresponden a true\n",
        "print(a[a>4])\n",
        "# Devuelve que cumplan con la condicion dentro de los valores del array\n",
        "\n",
        "#otro ejemplo podría ser:\n",
        "print(a[a % 2 == 0])\n",
        "# Que saque los pares\n"
      ]
    },
    {
      "cell_type": "markdown",
      "metadata": {
        "id": "nRrRKhnUDslN"
      },
      "source": [
        "#### Recorrido"
      ]
    },
    {
      "cell_type": "code",
      "execution_count": null,
      "metadata": {
        "colab": {
          "base_uri": "https://localhost:8080/"
        },
        "id": "iH-odUn3DuaH",
        "outputId": "5e624961-e177-4b6a-fba6-b8008ca8224d"
      },
      "outputs": [
        {
          "name": "stdout",
          "output_type": "stream",
          "text": [
            "0\n",
            "1\n",
            "2\n",
            "3\n",
            "4\n",
            "5\n",
            "6\n",
            "7\n",
            "8\n",
            "9\n"
          ]
        }
      ],
      "source": [
        "a = np.array([0,1,2,3,4,5,6,7,8,9])\n",
        "\n",
        "for valor in a:\n",
        "    print(valor)"
      ]
    },
    {
      "cell_type": "markdown",
      "metadata": {
        "id": "q_I57BJ0bXO5"
      },
      "source": [
        "### Operaciones basicas"
      ]
    },
    {
      "cell_type": "code",
      "execution_count": null,
      "metadata": {
        "colab": {
          "base_uri": "https://localhost:8080/"
        },
        "id": "drNe7ibcvov4",
        "outputId": "d23193a7-3c49-44ad-be8e-2097cdb1f33c"
      },
      "outputs": [
        {
          "name": "stdout",
          "output_type": "stream",
          "text": [
            "Numero de elementos:  6\n",
            "Longitud:  6\n",
            "Dimensión:  (6,)\n",
            "Número de dimensiones:   1\n",
            "tipo de datos que contiene:  int64\n"
          ]
        }
      ],
      "source": [
        "array4= np.array([1,5,6,2,4,3])\n",
        "print('Numero de elementos: ', array4.size)\n",
        "print('Longitud: ', len(array4))\n",
        "# Devuelve la cantidad de columnas/filas0\n",
        "print('Dimensión: ', array4.shape) \n",
        "# Cuantas dimensiones tiene\n",
        "print('Número de dimensiones:  ', array4.ndim)\n",
        "print(\"tipo de datos que contiene: \", array.dtype)\n"
      ]
    },
    {
      "cell_type": "markdown",
      "metadata": {
        "id": "dxDDLU1a8qBk"
      },
      "source": [
        "Todas las operaciones aritmeticas sobre los arrays de numpy se hacen elemento a elemento. Se genera un nuevo arreglo y se llena con el resultado.\n",
        "\n",
        "**Broadcasting:** describir cómo se comportan los arrays de numpy de difrentes dimensiones durante las operaciones artiméticas:\n",
        "\n",
        "![image.png](data:image/png;base64,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)"
      ]
    },
    {
      "cell_type": "code",
      "execution_count": 41,
      "metadata": {
        "colab": {
          "base_uri": "https://localhost:8080/"
        },
        "id": "hOpcBA598vjH",
        "outputId": "b97a29ca-8b5b-48fc-845b-6a876dabe6e4"
      },
      "outputs": [
        {
          "name": "stdout",
          "output_type": "stream",
          "text": [
            "[[0 1]\n",
            " [2 3]]\n",
            "[[2. 2.]\n",
            " [2. 2.]]\n",
            "-\n",
            "[[0. 2.]\n",
            " [4. 6.]]\n"
          ]
        }
      ],
      "source": [
        "a = np.arange(4).reshape(2,2)\n",
        "b = np.ones((2,2))\n",
        "\n",
        "b = b + 1\n",
        "c = a * b\n",
        "\n",
        "print (a)\n",
        "print (b)\n",
        "print ('-')\n",
        "print (c)\n",
        "\n",
        "#otra forma?"
      ]
    },
    {
      "cell_type": "code",
      "execution_count": 6,
      "metadata": {
        "colab": {
          "base_uri": "https://localhost:8080/"
        },
        "id": "BIMdb_1aCKrH",
        "outputId": "40212782-8c4a-42f3-ddc2-ed81cc0bd3a3"
      },
      "outputs": [
        {
          "name": "stdout",
          "output_type": "stream",
          "text": [
            "y shape :  (3, 3)\n",
            "x shape :  (4,)\n",
            "y :  [[1. 1. 1.]\n",
            " [1. 1. 1.]\n",
            " [1. 1. 1.]]\n",
            "x :  [0 1 2 3]\n"
          ]
        }
      ],
      "source": [
        "x = np.arange(4)\n",
        "y = np.ones((3,3))\n",
        "\n",
        "\n",
        "print (\"y shape : \" , y.shape)\n",
        "print (\"x shape : \" , x.shape)\n",
        "print (\"y : \" , y)\n",
        "print (\"x : \" , x )"
      ]
    },
    {
      "cell_type": "code",
      "execution_count": 7,
      "metadata": {
        "colab": {
          "base_uri": "https://localhost:8080/",
          "height": 176
        },
        "id": "RvVk5ZKdCYPU",
        "outputId": "d11fcc77-cf72-4d90-e384-9bdad4d4b856"
      },
      "outputs": [
        {
          "ename": "ValueError",
          "evalue": "ignored",
          "output_type": "error",
          "traceback": [
            "\u001b[0;31m---------------------------------------------------------------------------\u001b[0m",
            "\u001b[0;31mValueError\u001b[0m                                Traceback (most recent call last)",
            "\u001b[0;32m<ipython-input-7-c2c0a156023d>\u001b[0m in \u001b[0;36m<cell line: 1>\u001b[0;34m()\u001b[0m\n\u001b[0;32m----> 1\u001b[0;31m \u001b[0mx\u001b[0m \u001b[0;34m+\u001b[0m \u001b[0my\u001b[0m \u001b[0;31m# Generara un error pues las dimensiones no corresponden.\u001b[0m\u001b[0;34m\u001b[0m\u001b[0;34m\u001b[0m\u001b[0m\n\u001b[0m",
            "\u001b[0;31mValueError\u001b[0m: operands could not be broadcast together with shapes (4,) (3,3) "
          ]
        }
      ],
      "source": [
        "x + y # Generara un error pues las dimensiones no corresponden."
      ]
    },
    {
      "cell_type": "code",
      "execution_count": 47,
      "metadata": {
        "colab": {
          "base_uri": "https://localhost:8080/"
        },
        "id": "HPLk5y26CeDk",
        "outputId": "70370c2f-d692-414f-ce3e-e16240794bf9"
      },
      "outputs": [
        {
          "name": "stdout",
          "output_type": "stream",
          "text": [
            "[1 2 3]\n",
            "[[1. 1. 1. 1.]\n",
            " [1. 1. 1. 1.]\n",
            " [1. 1. 1. 1.]]\n"
          ]
        },
        {
          "ename": "ValueError",
          "evalue": "operands could not be broadcast together with shapes (3,) (3,4) ",
          "output_type": "error",
          "traceback": [
            "\u001b[1;31m---------------------------------------------------------------------------\u001b[0m",
            "\u001b[1;31mValueError\u001b[0m                                Traceback (most recent call last)",
            "Cell \u001b[1;32mIn[47], line 4\u001b[0m\n\u001b[0;32m      2\u001b[0m \u001b[38;5;28mprint\u001b[39m (x)\n\u001b[0;32m      3\u001b[0m \u001b[38;5;28mprint\u001b[39m (y)\n\u001b[1;32m----> 4\u001b[0m \u001b[43mx\u001b[49m\u001b[43m \u001b[49m\u001b[38;5;241;43m+\u001b[39;49m\u001b[43m \u001b[49m\u001b[43my\u001b[49m\n",
            "\u001b[1;31mValueError\u001b[0m: operands could not be broadcast together with shapes (3,) (3,4) "
          ]
        }
      ],
      "source": [
        "y = np.ones((3,4))\n",
        "print (x)\n",
        "print (y)\n",
        "x + y"
      ]
    },
    {
      "cell_type": "code",
      "execution_count": 44,
      "metadata": {
        "colab": {
          "base_uri": "https://localhost:8080/"
        },
        "id": "1uV_uH3W1pMo",
        "outputId": "62f8c895-5dce-45cc-c56d-8b467cafc9ef"
      },
      "outputs": [
        {
          "name": "stdout",
          "output_type": "stream",
          "text": [
            "[[ 2.  2.]\n",
            " [10. 10.]]\n"
          ]
        }
      ],
      "source": [
        "# producto de matrices:\n",
        "c= np.dot(a,b)\n",
        "print(c)"
      ]
    },
    {
      "cell_type": "code",
      "execution_count": 45,
      "metadata": {
        "colab": {
          "base_uri": "https://localhost:8080/"
        },
        "id": "hzsy2Q50CptL",
        "outputId": "0fda5912-e31a-4f41-ede8-a67be6e337f6"
      },
      "outputs": [
        {
          "name": "stdout",
          "output_type": "stream",
          "text": [
            "[1 2 3]\n",
            "6\n",
            "1\n",
            "3\n"
          ]
        }
      ],
      "source": [
        "# métodos de la clase ndarry\n",
        "x=np.array([1,2,3])\t\n",
        "print(x)\n",
        "print(x.sum())  # sumar los elementos del array\n",
        "print(x.min())  # el valor minimo del array\n",
        "print(x.max())  # el valor máximo del array"
      ]
    },
    {
      "cell_type": "markdown",
      "metadata": {
        "id": "Ouegfn3YEcq3"
      },
      "source": [
        "estas operaciones se hacen sobre todos los elementos del array, salvo que se especifiquen, que solo se desea hacer la operacion sobre algun eje en especifico.\n",
        "![image.png](data:image/png;base64,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)"
      ]
    },
    {
      "cell_type": "code",
      "execution_count": 49,
      "metadata": {
        "colab": {
          "base_uri": "https://localhost:8080/"
        },
        "id": "d1kO2iyJEmk2",
        "outputId": "ef5df24f-9e96-45e0-cd16-e2416dc8e5c9"
      },
      "outputs": [
        {
          "name": "stdout",
          "output_type": "stream",
          "text": [
            "Array y\n",
            "[[1. 1. 1. 1.]\n",
            " [1. 1. 1. 1.]\n",
            " [1. 1. 1. 1.]]\n",
            "----------------------------\n",
            "Suma sin axis\n",
            "12.0\n",
            "----------------------------\n",
            "Suma axis 0\n",
            "[3. 3. 3. 3.]\n",
            "----------------------------\n",
            "Suma axis 1\n",
            "[4. 4. 4.]\n"
          ]
        }
      ],
      "source": [
        "print('Array y')\n",
        "print(y)\n",
        "# la suma de todos los elementos, por defecto none\n",
        "print('----------------------------')\n",
        "print('Suma sin axis')\n",
        "print(y.sum())\n",
        "\n",
        "# La suma de cada columna\n",
        "print('----------------------------')\n",
        "print('Suma axis 0')\n",
        "print(y.sum(axis=0))\n",
        "# La suma de cada fila\n",
        "print('----------------------------')\n",
        "print('Suma axis 1')\n",
        "print(y.sum(axis=1))\n",
        "\n"
      ]
    },
    {
      "cell_type": "code",
      "execution_count": 13,
      "metadata": {
        "colab": {
          "base_uri": "https://localhost:8080/",
          "height": 384
        },
        "id": "MUmgnevE6cwx",
        "outputId": "370ff163-982f-4ebd-b186-44a571e6a657"
      },
      "outputs": [
        {
          "name": "stdout",
          "output_type": "stream",
          "text": [
            "[0 1 2 3]\n",
            "6\n",
            "6\n"
          ]
        },
        {
          "ename": "AxisError",
          "evalue": "ignored",
          "output_type": "error",
          "traceback": [
            "\u001b[0;31m---------------------------------------------------------------------------\u001b[0m",
            "\u001b[0;31mAxisError\u001b[0m                                 Traceback (most recent call last)",
            "\u001b[0;32m<ipython-input-13-c0f7ab81409c>\u001b[0m in \u001b[0;36m<cell line: 8>\u001b[0;34m()\u001b[0m\n\u001b[1;32m      6\u001b[0m \u001b[0mprint\u001b[0m\u001b[0;34m(\u001b[0m\u001b[0mx\u001b[0m\u001b[0;34m.\u001b[0m\u001b[0msum\u001b[0m\u001b[0;34m(\u001b[0m\u001b[0maxis\u001b[0m\u001b[0;34m=\u001b[0m\u001b[0;36m0\u001b[0m\u001b[0;34m)\u001b[0m\u001b[0;34m)\u001b[0m\u001b[0;34m\u001b[0m\u001b[0;34m\u001b[0m\u001b[0m\n\u001b[1;32m      7\u001b[0m \u001b[0;31m# La suma de cada fila\u001b[0m\u001b[0;34m\u001b[0m\u001b[0;34m\u001b[0m\u001b[0m\n\u001b[0;32m----> 8\u001b[0;31m \u001b[0mx\u001b[0m\u001b[0;34m.\u001b[0m\u001b[0msum\u001b[0m\u001b[0;34m(\u001b[0m\u001b[0maxis\u001b[0m\u001b[0;34m=\u001b[0m\u001b[0;36m1\u001b[0m\u001b[0;34m)\u001b[0m\u001b[0;34m\u001b[0m\u001b[0;34m\u001b[0m\u001b[0m\n\u001b[0m",
            "\u001b[0;32m/usr/local/lib/python3.10/dist-packages/numpy/core/_methods.py\u001b[0m in \u001b[0;36m_sum\u001b[0;34m(a, axis, dtype, out, keepdims, initial, where)\u001b[0m\n\u001b[1;32m     46\u001b[0m def _sum(a, axis=None, dtype=None, out=None, keepdims=False,\n\u001b[1;32m     47\u001b[0m          initial=_NoValue, where=True):\n\u001b[0;32m---> 48\u001b[0;31m     \u001b[0;32mreturn\u001b[0m \u001b[0mumr_sum\u001b[0m\u001b[0;34m(\u001b[0m\u001b[0ma\u001b[0m\u001b[0;34m,\u001b[0m \u001b[0maxis\u001b[0m\u001b[0;34m,\u001b[0m \u001b[0mdtype\u001b[0m\u001b[0;34m,\u001b[0m \u001b[0mout\u001b[0m\u001b[0;34m,\u001b[0m \u001b[0mkeepdims\u001b[0m\u001b[0;34m,\u001b[0m \u001b[0minitial\u001b[0m\u001b[0;34m,\u001b[0m \u001b[0mwhere\u001b[0m\u001b[0;34m)\u001b[0m\u001b[0;34m\u001b[0m\u001b[0;34m\u001b[0m\u001b[0m\n\u001b[0m\u001b[1;32m     49\u001b[0m \u001b[0;34m\u001b[0m\u001b[0m\n\u001b[1;32m     50\u001b[0m def _prod(a, axis=None, dtype=None, out=None, keepdims=False,\n",
            "\u001b[0;31mAxisError\u001b[0m: axis 1 is out of bounds for array of dimension 1"
          ]
        }
      ],
      "source": [
        "print(x)\n",
        "# la suma de todos los elementos\n",
        "print(x.sum())\n",
        "\n",
        "# La suma de cada columna\n",
        "print(x.sum(axis=0))\n",
        "# La suma de cada fila\n",
        "x.sum(axis=1)"
      ]
    },
    {
      "cell_type": "code",
      "execution_count": 17,
      "metadata": {
        "colab": {
          "base_uri": "https://localhost:8080/"
        },
        "id": "-tZ7FTGYamIP",
        "outputId": "2ad2dbce-2b60-4a22-9062-0b461971215c"
      },
      "outputs": [
        {
          "name": "stdout",
          "output_type": "stream",
          "text": [
            "[[ 0  1  2]\n",
            " [ 3  4  5]\n",
            " [ 6  7  8]\n",
            " [ 9 10 11]]\n",
            "[3 4 5 6 7 8]\n",
            "[[False False False]\n",
            " [False False  True]\n",
            " [ True  True  True]\n",
            " [ True False False]]\n",
            "[5 6 7 8 9]\n"
          ]
        }
      ],
      "source": [
        "a = np.arange(12).reshape(4,3)\n",
        "print(a)\n",
        "# Elementos de la matriz, con alguna condicion\n",
        "print(a[(a>2) & (a<9)])\n",
        "# La matriz cuyos elementos son booleanos que cumplan con alguna condición\n",
        "print((a > 4) & (a<10))\n",
        "print(a[(a > 4) & (a<10)])"
      ]
    },
    {
      "cell_type": "code",
      "execution_count": 18,
      "metadata": {
        "colab": {
          "base_uri": "https://localhost:8080/"
        },
        "id": "o8i_H1knavkq",
        "outputId": "a96a3d66-566f-4b08-9559-fc856f698a1d"
      },
      "outputs": [
        {
          "data": {
            "text/plain": [
              "array([[999, 999, 999],\n",
              "       [999, 999, 999],\n",
              "       [  6,   7,   8],\n",
              "       [  9,  10,  11]])"
            ]
          },
          "execution_count": 18,
          "metadata": {},
          "output_type": "execute_result"
        }
      ],
      "source": [
        "# Numpy where(cond, x, y), si se cumple la condicion, recupera de \"x\", de otra forma, de \"y\"\n",
        "np.where(a >5 , a , 999)"
      ]
    },
    {
      "cell_type": "code",
      "execution_count": 20,
      "metadata": {
        "colab": {
          "base_uri": "https://localhost:8080/"
        },
        "id": "E41_dpe0a1IZ",
        "outputId": "7227543d-669b-49bc-d758-fea5380214ea"
      },
      "outputs": [
        {
          "name": "stdout",
          "output_type": "stream",
          "text": [
            "[[ 0  1  2]\n",
            " [ 3  4  5]\n",
            " [ 6  7  8]\n",
            " [ 9 10 11]]\n"
          ]
        },
        {
          "data": {
            "text/plain": [
              "array([[1, 0],\n",
              "       [1, 1],\n",
              "       [1, 2],\n",
              "       [2, 0],\n",
              "       [2, 1],\n",
              "       [2, 2]])"
            ]
          },
          "execution_count": 20,
          "metadata": {},
          "output_type": "execute_result"
        }
      ],
      "source": [
        "# Indices de elementos que cumplan la siguiente condicion\n",
        "print(a)\n",
        "np.argwhere((a>2) & (a<9))"
      ]
    },
    {
      "cell_type": "code",
      "execution_count": 32,
      "metadata": {
        "colab": {
          "base_uri": "https://localhost:8080/"
        },
        "id": "73S4A6r8a4uk",
        "outputId": "65a0fcfe-a94f-4ca6-e54c-3ec6cd4f69da"
      },
      "outputs": [
        {
          "name": "stdout",
          "output_type": "stream",
          "text": [
            "[[ 3  7 20]\n",
            " [ 9  8  2]]\n",
            "5\n",
            "2\n",
            "[[1 2]]\n"
          ]
        }
      ],
      "source": [
        "# Indices con minimo y maximo\n",
        "a=np.array([[3,7,20],[9,8,2]]) #[3,7,20,9,8,2]\n",
        "print(a)\n",
        "print (np.argmin(a))\n",
        "print(a.min())\n",
        "print(np.argwhere(a==a.min()))\n",
        "print (np.argmax(a))\n",
        "print(a.max())"
      ]
    },
    {
      "cell_type": "code",
      "execution_count": 49,
      "metadata": {
        "colab": {
          "base_uri": "https://localhost:8080/"
        },
        "id": "3Yykko_Da-oG",
        "outputId": "111a812e-09b2-4dbe-b515-5f3949e070f6"
      },
      "outputs": [
        {
          "name": "stdout",
          "output_type": "stream",
          "text": [
            "a: \n",
            "[[1 2]\n",
            " [3 4]]\n",
            "b: \n",
            "[[5 6]\n",
            " [7 8]]\n",
            "Apilado vertical\n",
            "Apilado horizontal\n"
          ]
        },
        {
          "data": {
            "text/plain": [
              "array([[1, 2, 5, 6],\n",
              "       [3, 4, 7, 8]])"
            ]
          },
          "execution_count": 49,
          "metadata": {},
          "output_type": "execute_result"
        }
      ],
      "source": [
        "#concatenar\n",
        "a = np.array([[1,2],[3,4]])\n",
        "print(\"a: \")\n",
        "print( a)\n",
        "b = np.array([[5,6],[7,8]])\n",
        "print(\"b: \")\n",
        "print(b)\n",
        "# Apilando  verticalemente\n",
        "print(\"Apilado vertical\")\n",
        "#print(np.vstack( (a,b) ))\n",
        "\n",
        "# Apilando horizontalmente\n",
        "print(\"Apilado horizontal\")\n",
        "np.hstack((a,b))"
      ]
    },
    {
      "cell_type": "code",
      "execution_count": 56,
      "metadata": {
        "colab": {
          "base_uri": "https://localhost:8080/"
        },
        "id": "3J4zx0ahxHCl",
        "outputId": "a284c0e7-8ee7-4f11-85fa-04eb2943a5d5"
      },
      "outputs": [
        {
          "name": "stdout",
          "output_type": "stream",
          "text": [
            "[ 0  1  2  3  4  5  6  7  8  9 10 11]\n",
            "True\n",
            "(3, 4)\n",
            "[[ 0  1  2  3]\n",
            " [ 4  5  6  7]\n",
            " [ 8  9 10 11]]\n"
          ]
        }
      ],
      "source": [
        "# copiar\n",
        "a = np.arange(12)\n",
        "print(a)\n",
        "# El operador = no hace copia de los datos, solo pasa la referencia al\n",
        "# puntero donde esta la informacion\n",
        "b = a\n",
        "print(b is a)\n",
        "\n",
        "# Los cambios realizados en b, tambien afectan al objeto a, esto sucede igual\n",
        "# al pasar parametros en una funcion\n",
        "b.resize(3,4)\n",
        "print(a.shape)\n",
        "\n",
        "# El metodo copy() hace una copia completa del objeto y de sus datos.\n",
        "c= np.copy(a)\n",
        "#c=a[:] -->no funciona con numPy\n",
        "print(c)\n",
        "\n",
        "# El copy apunta al mismo sitio que a, por lo que los cambios en c tambien\n",
        "# afectan al objeto a. Si se añade algo en el sitio, se cambian tanto en A como en C\n"
      ]
    },
    {
      "cell_type": "code",
      "execution_count": 57,
      "metadata": {
        "colab": {
          "base_uri": "https://localhost:8080/"
        },
        "id": "WPWdYhPCb2Oo",
        "outputId": "6e48edb5-e34b-4391-ab26-a2ba424e8be8"
      },
      "outputs": [
        {
          "name": "stdout",
          "output_type": "stream",
          "text": [
            "[[555   1   2   3]\n",
            " [  4   5   6   7]\n",
            " [  8   9  10  11]]\n",
            "[[555   1   2   3]\n",
            " [  4   5   6   7]\n",
            " [  8   9  10  11]]\n"
          ]
        }
      ],
      "source": [
        "c[0,0]=555\n",
        "print(a)\n",
        "print(c)"
      ]
    },
    {
      "cell_type": "markdown",
      "metadata": {
        "id": "IVX1SBEqkZmc"
      },
      "source": [
        "## Máscaras\n",
        "\n",
        "En muchas circunstancias, los conjuntos de datos pueden estar incompletos o contaminados por la presencia de datos no válidos. Por ejemplo, es posible que un sensor no haya podido registrar datos o haya registrado un valor no válido. El módulo numpy.ma proporciona una forma conveniente de abordar este problema mediante la introducción de matrices enmascaradas.\n",
        "\n",
        "Una matriz enmascarada es la combinación de un *numpy.ndarray* estándar y una máscara. Cuando un elemento de la máscara es *False*, el elemento correspondiente de la matriz asociada es válido y se dice que está desenmascarado. Cuando un elemento de la máscara es *True*, se dice que el elemento correspondiente de la matriz asociada está enmascarado (no válido)."
      ]
    },
    {
      "cell_type": "code",
      "execution_count": 2,
      "metadata": {
        "colab": {
          "base_uri": "https://localhost:8080/"
        },
        "id": "9pLZeVzGEUB2",
        "outputId": "22d8a768-3c1c-431c-d8e2-f98d5d6c50bd"
      },
      "outputs": [
        {
          "ename": "NameError",
          "evalue": "name 'np' is not defined",
          "output_type": "error",
          "traceback": [
            "\u001b[1;31m---------------------------------------------------------------------------\u001b[0m",
            "\u001b[1;31mNameError\u001b[0m                                 Traceback (most recent call last)",
            "Cell \u001b[1;32mIn[2], line 3\u001b[0m\n\u001b[0;32m      1\u001b[0m \u001b[38;5;28;01mimport\u001b[39;00m \u001b[38;5;21;01mnumpy\u001b[39;00m\u001b[38;5;21;01m.\u001b[39;00m\u001b[38;5;21;01mma\u001b[39;00m \u001b[38;5;28;01mas\u001b[39;00m \u001b[38;5;21;01mma\u001b[39;00m\n\u001b[1;32m----> 3\u001b[0m x \u001b[38;5;241m=\u001b[39m \u001b[43mnp\u001b[49m\u001b[38;5;241m.\u001b[39marray([\u001b[38;5;241m1\u001b[39m,\u001b[38;5;241m2\u001b[39m,\u001b[38;5;241m3\u001b[39m,\u001b[38;5;241m-\u001b[39m\u001b[38;5;241m1\u001b[39m,\u001b[38;5;241m4\u001b[39m])\n\u001b[0;32m      4\u001b[0m \u001b[38;5;28mprint\u001b[39m(x)\n\u001b[0;32m      6\u001b[0m \u001b[38;5;66;03m# Definimos el valor negativo como invalido\u001b[39;00m\n",
            "\u001b[1;31mNameError\u001b[0m: name 'np' is not defined"
          ]
        }
      ],
      "source": [
        "import numpy.ma as ma\n",
        "\n",
        "x = np.array([1,2,3,-1,4])\n",
        "print(x)\n",
        "\n",
        "# Definimos el valor negativo como invalido\n",
        "mask_array = ma.masked_array(x, mask = [0,0,0,1,0])\n",
        "print(mask_array)\n",
        "\n",
        "#También podemos definir la máscara directamente en el constructor de array del modulo ma.\n",
        "x = ma.array([1,2,3,-1,4], mask = [0,0,0,1,0])\n",
        "print(x)\n"
      ]
    },
    {
      "cell_type": "code",
      "execution_count": 5,
      "metadata": {
        "colab": {
          "base_uri": "https://localhost:8080/"
        },
        "id": "CZKu-kQ9FjpI",
        "outputId": "443d7818-3b88-45d5-f73a-3f6233fc0e07"
      },
      "outputs": [
        {
          "name": "stdout",
          "output_type": "stream",
          "text": [
            "[1 2 3 -- 4]\n",
            "[1 2 3 -- 4]\n"
          ]
        }
      ],
      "source": [
        "#Podemos crear un masked array que enmascare atendiendo a una condición\n",
        "x = np.array([1,2,3,-1,4])\n",
        "masked = ma.masked_equal(x, -1)\n",
        "print(masked)\n",
        "\n",
        "masked = ma.masked_not_equal(x, 2)\n",
        "#print(masked)\n",
        "\n",
        "masked = ma.masked_where(x<0, x)\n",
        "print(masked)\n"
      ]
    },
    {
      "cell_type": "code",
      "execution_count": 72,
      "metadata": {
        "colab": {
          "base_uri": "https://localhost:8080/"
        },
        "id": "aIpalfLmE7z7",
        "outputId": "10827c43-e568-4582-9a9c-7b183d20ebff"
      },
      "outputs": [
        {
          "data": {
            "text/plain": [
              "array([   1,    2,    3, 9999,    4])"
            ]
          },
          "execution_count": 72,
          "metadata": {},
          "output_type": "execute_result"
        }
      ],
      "source": [
        "#Podemos 'rellenar' los valores enmascarados con un valor concreto\n",
        "masked.filled(9999)"
      ]
    },
    {
      "cell_type": "markdown",
      "metadata": {
        "id": "xuHbzZikkeE8"
      },
      "source": [
        "### Constantes"
      ]
    },
    {
      "cell_type": "code",
      "execution_count": null,
      "metadata": {
        "id": "UfEU2pW_HgaR"
      },
      "outputs": [],
      "source": [
        "print(np.inf)                         #valor infinito positivo\n",
        "print(np.NINF)                        #valor infinito negativo\n",
        "print(np.nan)                         #Not a number - la que mas utilizaremos\n",
        "print(np.NZERO)                       #cero negativo\n",
        "print(np.PZERO)                       #cero positivo\n",
        "print(np.e)                           #numero e\n",
        "print(np.pi)                          #numero pi\n"
      ]
    },
    {
      "cell_type": "markdown",
      "metadata": {
        "id": "vWPJFDpgcs6I"
      },
      "source": [
        "https://www.w3resource.com/numpy/index.php"
      ]
    },
    {
      "cell_type": "markdown",
      "metadata": {
        "id": "eUSqOTkkkkPH"
      },
      "source": [
        "## Ejercicios\n"
      ]
    },
    {
      "cell_type": "markdown",
      "metadata": {
        "id": "JL9IHS66IKL8"
      },
      "source": [
        "### Ejercicio 1\n",
        "\n",
        "Crea 3 nuevos arrays.\n",
        "- Array de tipo entero, que contenga solo los números impares del 1 al 100.\n",
        "- Array de tipo cadena con tu nombre y apellidos\n",
        "- Array de tipo fechas, que contenga todos los días desde el 01Enero2020 al 04Febrero2020"
      ]
    },
    {
      "cell_type": "code",
      "execution_count": 2,
      "metadata": {
        "id": "yenwJpbqIP28"
      },
      "outputs": [
        {
          "name": "stdout",
          "output_type": "stream",
          "text": [
            "[ 1  3  5  7  9 11 13 15 17 19 21 23 25 27 29 31 33 35 37 39 41 43 45 47\n",
            " 49 51 53 55 57 59 61 63 65 67 69 71 73 75 77 79 81 83 85 87 89 91 93 95\n",
            " 97 99]\n",
            "['Andrei' 'Miu']\n"
          ]
        }
      ],
      "source": [
        "import numpy as np\n",
        "\n",
        "arrayEntero = np.array([], dtype='int')\n",
        "for i in range(101):\n",
        "    if(i%2==1):\n",
        "        arrayEntero = np.append(arrayEntero,i)\n",
        "print(arrayEntero)\n",
        "\n",
        "\n",
        "arrayCadena = np.array(['Andrei','Miu'], dtype='str')\n",
        "print(arrayCadena)\n"
      ]
    },
    {
      "cell_type": "markdown",
      "metadata": {
        "id": "uufm017xIQS5"
      },
      "source": [
        "### Ejercicio 2\n",
        "\n",
        "Recupera los últimos 10 elementos del array de impares"
      ]
    },
    {
      "cell_type": "code",
      "execution_count": 12,
      "metadata": {
        "id": "G9NThzPvIYlE"
      },
      "outputs": [
        {
          "name": "stdout",
          "output_type": "stream",
          "text": [
            "[81 83 85 87 89 91 93 95 97 99]\n",
            "[False  True False  True False  True False  True False  True False  True\n",
            " False  True False  True False  True False  True False  True False  True\n",
            " False  True False  True False  True False  True False  True False  True\n",
            " False  True False  True False  True False  True False  True False  True\n",
            " False  True False  True False  True False  True False  True False  True\n",
            " False  True False  True False  True False  True False  True False  True\n",
            " False  True False  True False  True False  True False  True False  True\n",
            " False  True False  True False  True False  True False  True False  True\n",
            " False  True False  True]\n"
          ]
        }
      ],
      "source": []
    },
    {
      "cell_type": "markdown",
      "metadata": {
        "id": "T-x18TgGImTY"
      },
      "source": [
        "### Ejercicio 3\n",
        "\n",
        "Genera la siguiente matriz.\n",
        "\n",
        "$A = \\begin{pmatrix}\n",
        "10 & 1 & 8 & 4 \\\\\n",
        "3 & 7 & 2 & 1 \\\\\n",
        "0 & 2 & 20 & 12 \\\\\n",
        "\\end{pmatrix}$\n",
        "\n",
        "¿De qué tipo es?\n",
        "Luego, implementa una máscara a todos los números de la matriz mayores o iguales a 10"
      ]
    },
    {
      "cell_type": "code",
      "execution_count": null,
      "metadata": {
        "id": "pQf79IFCrITc"
      },
      "outputs": [],
      "source": []
    }
  ],
  "metadata": {
    "colab": {
      "collapsed_sections": [
        "yQobmjDsblUO",
        "JmhKw9dakPfH",
        "P8jPnyEACuoQ",
        "nRrRKhnUDslN"
      ],
      "provenance": []
    },
    "kernelspec": {
      "display_name": "Python 3",
      "language": "python",
      "name": "python3"
    },
    "language_info": {
      "codemirror_mode": {
        "name": "ipython",
        "version": 3
      },
      "file_extension": ".py",
      "mimetype": "text/x-python",
      "name": "python",
      "nbconvert_exporter": "python",
      "pygments_lexer": "ipython3",
      "version": "3.12.3"
    }
  },
  "nbformat": 4,
  "nbformat_minor": 0
}
