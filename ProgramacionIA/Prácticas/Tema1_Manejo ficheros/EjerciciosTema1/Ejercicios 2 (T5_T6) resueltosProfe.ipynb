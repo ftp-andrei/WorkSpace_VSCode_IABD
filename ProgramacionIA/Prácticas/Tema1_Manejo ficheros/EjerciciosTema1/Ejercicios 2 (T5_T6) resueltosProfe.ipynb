{
  "cells": [
    {
      "cell_type": "markdown",
      "metadata": {
        "id": "2DH14gf8ijL8"
      },
      "source": [
        "**Ejercicio 1**. Suma acumulativa: Escribe una función que tome una lista de números como argumento y devuelva una nueva lista donde cada elemento sea la suma acumulativa de los elementos anteriores en la lista."
      ]
    },
    {
      "cell_type": "code",
      "execution_count": null,
      "metadata": {
        "id": "A-0QgBQ5ijL-"
      },
      "outputs": [],
      "source": [
        "def suma_acumulativa(lista):\n",
        "    suma = 0\n",
        "    nueva_lista = []\n",
        "    for num in lista:\n",
        "        suma += num\n",
        "        nueva_lista.append(suma)\n",
        "    return nueva_lista"
      ]
    },
    {
      "cell_type": "markdown",
      "metadata": {
        "id": "FJX2XPajijL_"
      },
      "source": [
        "**Ejercicio 2**. Número de ocurrencias: Escribe una función que tome una lista y un elemento como argumentos, y devuelva el número de veces que ese elemento aparece en la lista."
      ]
    },
    {
      "cell_type": "code",
      "execution_count": null,
      "metadata": {
        "id": "MJhw9hltijMA"
      },
      "outputs": [],
      "source": [
        "def contar_ocurrencias(lista, elemento):\n",
        "    contador = lista.count(elemento)\n",
        "    return contador\n"
      ]
    },
    {
      "cell_type": "markdown",
      "metadata": {
        "id": "Harunx2LijMB"
      },
      "source": [
        "**Ejercicio 3**. Intercambio de elementos: Escribe una función que tome una lista como argumento y devuelva una nueva lista donde el primer elemento y el último estén intercambiados."
      ]
    },
    {
      "cell_type": "code",
      "execution_count": null,
      "metadata": {
        "id": "Xp0BblZcijMB"
      },
      "outputs": [],
      "source": [
        "def intercambiar_extremos(lista):\n",
        "    if len(lista) < 2:\n",
        "        return lista\n",
        "    else:\n",
        "        nueva_lista = lista[:]\n",
        "        nueva_lista[0], nueva_lista[-1] = nueva_lista[-1], nueva_lista[0]\n",
        "        return nueva_lista\n"
      ]
    },
    {
      "cell_type": "markdown",
      "metadata": {
        "id": "6D_nk2oaijMC"
      },
      "source": [
        "**Ejercicio 4**. Palabras más cortas: Escribe una función que tome una lista de palabras como argumento y devuelva la palabra más corta."
      ]
    },
    {
      "cell_type": "code",
      "execution_count": null,
      "metadata": {
        "id": "zilwn_a9ijMC"
      },
      "outputs": [],
      "source": [
        "def palabras_mas_cortas(lista_palabras):\n",
        "    palabra_corta = lista_palabras[0]\n",
        "    for palabra in lista_palabras:\n",
        "        if(len(palabra_corta)>len(palabra)):\n",
        "            palabra_corta= palabra\n",
        "    return palabra_corta\n"
      ]
    },
    {
      "cell_type": "markdown",
      "metadata": {
        "id": "Lm3K0txOijMD"
      },
      "source": [
        "**Ejercicio 5**. Lista sin elementos repetidos: Escribe una función que tome una lista como argumento y devuelva una nueva lista sin elementos repetidos, manteniendo el orden original."
      ]
    },
    {
      "cell_type": "code",
      "execution_count": null,
      "metadata": {
        "id": "ODpUzHtMijMD"
      },
      "outputs": [],
      "source": [
        "def eliminar_repetidos(lista):\n",
        "    nueva_lista = []\n",
        "    for elemento in lista:\n",
        "        if elemento not in nueva_lista:\n",
        "            nueva_lista.append(elemento)\n",
        "    return nueva_lista\n"
      ]
    },
    {
      "cell_type": "markdown",
      "metadata": {
        "id": "KWxal8K-ijME"
      },
      "source": [
        "**Ejercicio 6**. Concatenar y ordenar: Escribe una función que tome dos listas de números como argumentos, las concatene y devuelva una nueva lista ordenada de forma ascendente."
      ]
    },
    {
      "cell_type": "code",
      "execution_count": null,
      "metadata": {
        "id": "E25gcZKFijME"
      },
      "outputs": [],
      "source": [
        "def concatenar_ordenar(lista1, lista2):\n",
        "    nueva_lista = lista1 + lista2\n",
        "    nueva_lista.sort()\n",
        "    return nueva_lista\n"
      ]
    },
    {
      "cell_type": "markdown",
      "metadata": {
        "id": "dSB5oV8TijMF"
      },
      "source": [
        "**Ejercicio 7**. Escribe una función que tome una lista y un elemento como argumentos, y devuelva una lista con los índices donde se encuentra ese elemento en la lista."
      ]
    },
    {
      "cell_type": "code",
      "execution_count": null,
      "metadata": {
        "id": "FL6ajeW2ijMF"
      },
      "outputs": [],
      "source": [
        "def indices_elemento(lista, elemento):\n",
        "    indices = []\n",
        "    i=0\n",
        "    for el in lista:\n",
        "        if el == elemento:\n",
        "            indices.append(i)\n",
        "        i = i+1\n",
        "    return indices"
      ]
    },
    {
      "cell_type": "markdown",
      "metadata": {
        "id": "2xH2TvVDijMF"
      },
      "source": [
        "**Ejercicio 8**. Promedio de elementos: Escribe una función que tome una lista de números como argumento y devuelva el promedio de los elementos."
      ]
    },
    {
      "cell_type": "code",
      "execution_count": null,
      "metadata": {
        "id": "yPfq1eSVijMF"
      },
      "outputs": [],
      "source": [
        "def promedio_elementos(lista):\n",
        "    if len(lista) == 0:\n",
        "        return 0\n",
        "    suma = sum(lista)\n",
        "    promedio = suma / len(lista)\n",
        "    return promedio\n"
      ]
    },
    {
      "cell_type": "markdown",
      "metadata": {
        "id": "_Sm5dP0HijMG"
      },
      "source": [
        "**Ejercicio 9**. Palíndromos: Escribe una función que tome una lista de palabras como argumento y devuelva una lista con las palabras que son palíndromos (se leen igual de izquierda a derecha y de derecha a izquierda)."
      ]
    },
    {
      "cell_type": "code",
      "execution_count": null,
      "metadata": {
        "id": "BfzP2xiCijMG"
      },
      "outputs": [],
      "source": [
        "def palindromos(lista_palabras):\n",
        "    palindromos = [palabra for palabra in lista_palabras if palabra == palabra[::-1]]\n",
        "    return palindromos\n"
      ]
    },
    {
      "cell_type": "markdown",
      "metadata": {
        "id": "uBGFRdvTijMG"
      },
      "source": [
        "**Ejercicio 10**. Duplicar elementos: Escribe una función que tome una lista como argumento y devuelva una nueva lista donde cada elemento se duplica."
      ]
    },
    {
      "cell_type": "code",
      "execution_count": null,
      "metadata": {
        "id": "y4R-fPXdijMH"
      },
      "outputs": [],
      "source": [
        "def duplicar_elementos(lista):\n",
        "    nueva_lista = [elemento * 2 for elemento in lista]\n",
        "    return nueva_lista"
      ]
    },
    {
      "cell_type": "markdown",
      "metadata": {
        "id": "95gFBBDbijMH"
      },
      "source": [
        "**Ejercicio 11**. Suma de elementos: Escribe una función que tome una tupla de números como argumento y devuelva la suma de todos los elementos de la tupla."
      ]
    },
    {
      "cell_type": "code",
      "execution_count": null,
      "metadata": {
        "id": "RRJo3YR7ijMH"
      },
      "outputs": [],
      "source": [
        "def suma_elementos(tupla):\n",
        "    suma = sum(tupla)\n",
        "    return suma"
      ]
    },
    {
      "cell_type": "markdown",
      "metadata": {
        "id": "ro7Z-xVGijMI"
      },
      "source": [
        "**Ejercicio 12**. Número máximo y mínimo: Escribe una función que tome una tupla de números como argumento y devuelva el número máximo y mínimo de la tupla."
      ]
    },
    {
      "cell_type": "code",
      "execution_count": null,
      "metadata": {
        "id": "F9yEelDrijMI"
      },
      "outputs": [],
      "source": [
        "def maximo_minimo(tupla):\n",
        "    maximo = max(tupla)\n",
        "    minimo = min(tupla)\n",
        "    return maximo, minimo\n"
      ]
    },
    {
      "cell_type": "markdown",
      "metadata": {
        "id": "5SOXUuQLijMI"
      },
      "source": [
        "**Ejercicio 13**. Contar elementos: Escribe una función que tome una tupla y un elemento como argumentos, y devuelva el número de veces que ese elemento aparece en la tupla."
      ]
    },
    {
      "cell_type": "code",
      "execution_count": null,
      "metadata": {
        "id": "CH7i3cWlijMI"
      },
      "outputs": [],
      "source": [
        "def contar_elementos(tupla, elemento):\n",
        "    contador = tupla.count(elemento)\n",
        "    return contador\n"
      ]
    },
    {
      "cell_type": "markdown",
      "metadata": {
        "id": "bqTP2u88ijMJ"
      },
      "source": [
        "**Ejercicio 14**. Concatenar tuplas: Escribe una función que tome dos tuplas como argumentos y devuelva una nueva tupla que contenga todos los elementos de ambas tuplas."
      ]
    },
    {
      "cell_type": "code",
      "execution_count": null,
      "metadata": {
        "id": "qMr0lZ_dijMJ"
      },
      "outputs": [],
      "source": [
        "def concatenar_tuplas(tupla1, tupla2):\n",
        "    nueva_tupla = tupla1 + tupla2\n",
        "    return nueva_tupla"
      ]
    },
    {
      "cell_type": "markdown",
      "metadata": {
        "id": "rHMarKoKijMJ"
      },
      "source": [
        "**Ejercicio 15**. Tamaño de la tupla: Escribe una función que tome una tupla como argumento y devuelva el número de elementos que contiene."
      ]
    },
    {
      "cell_type": "code",
      "execution_count": null,
      "metadata": {
        "id": "CtslkSJVijMJ"
      },
      "outputs": [],
      "source": [
        "def tamano_tupla(tupla):\n",
        "    tamano = len(tupla)\n",
        "    return tamano"
      ]
    },
    {
      "cell_type": "markdown",
      "metadata": {
        "id": "OvBFlOW5ijMK"
      },
      "source": [
        "**Ejercicio 16**. Tupla al revés: Escribe una función que tome una tupla como argumento y devuelva una nueva tupla con los elementos en orden inverso."
      ]
    },
    {
      "cell_type": "code",
      "execution_count": null,
      "metadata": {
        "id": "5_dDiOtNijMK"
      },
      "outputs": [],
      "source": [
        "def tupla_al_reves(tupla):\n",
        "    nueva_tupla = tupla[::-1]\n",
        "    return nueva_tupla\n"
      ]
    },
    {
      "cell_type": "markdown",
      "metadata": {
        "id": "hes1B6vMijMK"
      },
      "source": [
        "**Ejercicio 17**. Índices de elementos: Escribe una función que tome una tupla y un elemento como argumentos, y devuelva una lista con los índices donde se encuentra ese elemento en la tupla."
      ]
    },
    {
      "cell_type": "code",
      "execution_count": null,
      "metadata": {
        "id": "6g00926OijMK"
      },
      "outputs": [],
      "source": [
        "def indices_elemento(tupla, elemento):\n",
        "    indices = [i for i in range(len(tupla)) if tupla[i] == elemento]\n",
        "    return indices\n"
      ]
    },
    {
      "cell_type": "markdown",
      "metadata": {
        "id": "jSBH9LEZijMK"
      },
      "source": [
        "**Ejercicio 18**. Eliminar elementos específicos: Escribe una función que tome una tupla y un elemento como argumentos, y devuelva una nueva tupla donde se eliminan todas las ocurrencias de ese elemento."
      ]
    },
    {
      "cell_type": "code",
      "execution_count": null,
      "metadata": {
        "id": "xnG1Xmf-ijML"
      },
      "outputs": [],
      "source": [
        "def eliminar_elementos(tupla, elemento):\n",
        "    nueva_tupla = tuple(valor for valor in tupla if valor != elemento)\n",
        "    return nueva_tupla\n"
      ]
    },
    {
      "cell_type": "markdown",
      "metadata": {
        "id": "SWjfRO4zijML"
      },
      "source": [
        "**Ejercicio 19**. Subtupla: Escribe una función que tome una tupla y dos índices como argumentos, y devuelva una nueva tupla que contenga los elementos desde el primer índice (incluido) hasta el segundo índice (excluido)."
      ]
    },
    {
      "cell_type": "code",
      "execution_count": null,
      "metadata": {
        "id": "CVV6f09BijMM"
      },
      "outputs": [],
      "source": [
        "def obtener_subtupla(tupla, indice_inicio, indice_fin):\n",
        "    nueva_tupla = tupla[indice_inicio:indice_fin]\n",
        "    return nueva_tupla\n"
      ]
    },
    {
      "cell_type": "markdown",
      "metadata": {
        "id": "sQYc8pdsijMM"
      },
      "source": [
        "**Ejercicio 20**. Unión de tuplas: Escribe una función que tome una lista de tuplas como argumento y devuelva una nueva tupla que contenga todos los elementos de las tuplas originales."
      ]
    },
    {
      "cell_type": "code",
      "execution_count": null,
      "metadata": {
        "id": "WNUs6iovijMM"
      },
      "outputs": [],
      "source": [
        "def union_tuplas(lista_tuplas):\n",
        "    nueva_tupla = tuple(elemento for tupla in lista_tuplas for elemento in tupla)\n",
        "    return nueva_tupla"
      ]
    },
    {
      "cell_type": "markdown",
      "source": [
        "**Ejercicio 21**. Crear un diccionario que utilice como claves nombres de personas y como valor un número (este número puede representar las personas de clase que se llaman asi)."
      ],
      "metadata": {
        "id": "wg2AzrHgjgZS"
      }
    },
    {
      "cell_type": "code",
      "source": [
        "diccionario_personas = {'Juan': 5, 'Maria': 8, 'Carlos': 3, 'Ana': 6, 'Pedro': 4}"
      ],
      "metadata": {
        "id": "y1Q-AWXDkH0q"
      },
      "execution_count": 1,
      "outputs": []
    },
    {
      "cell_type": "markdown",
      "source": [
        "**Ejercicio 21.a.** Agrega una nueva entrada al diccionario, la nueva entrada será un nombre (que no exista ya en el diccionario) y un entero."
      ],
      "metadata": {
        "id": "CHF8EE7fjqrq"
      }
    },
    {
      "cell_type": "code",
      "source": [
        "diccionario_personas['Tadeo']= 10"
      ],
      "metadata": {
        "id": "TH_0st7ikGOq"
      },
      "execution_count": 2,
      "outputs": []
    },
    {
      "cell_type": "markdown",
      "source": [
        "**Ejercicio 21.b.** Modifica el valor entero que has asignado en el anterior ejercicio por otro valor entero y comprueba que se ha cambiado."
      ],
      "metadata": {
        "id": "jc86yUa4jscz"
      }
    },
    {
      "cell_type": "code",
      "source": [
        "\n",
        "# Acceder a la cantidad de personas llamadas 'Juan', y si no hay ninguna devolverá 0\n",
        "cantidad_tadeo = diccionario_personas.get('Tadeo', 0)\n",
        "print(f\"La cantidad de personas llamadas Tadeo antes de modificar: {cantidad_tadeo}\")\n",
        "\n",
        "diccionario_personas['Tadeo']= 5\n",
        "\n",
        "\n",
        "# Acceder a la cantidad de personas llamadas 'Juan', y si no hay ninguna devolverá 0\n",
        "cantidad_tadeo = diccionario_personas.get('Tadeo', 0)\n",
        "print(f\"La cantidad de personas llamadas Tadeo despues de modificar: {cantidad_tadeo}\")"
      ],
      "metadata": {
        "colab": {
          "base_uri": "https://localhost:8080/"
        },
        "id": "qi4TdPgekFXK",
        "outputId": "11efc8f0-bd45-4fe1-cb91-f00c853d6dd6"
      },
      "execution_count": 3,
      "outputs": [
        {
          "output_type": "stream",
          "name": "stdout",
          "text": [
            "La cantidad de personas llamadas Tadeo antes de modificar: 10\n",
            "La cantidad de personas llamadas Tadeo despues de modificar: 5\n"
          ]
        }
      ]
    },
    {
      "cell_type": "markdown",
      "source": [
        "**Ejercicio 21.c.** Calcula la suma de todos los valores enteros asociados a los nombres."
      ],
      "metadata": {
        "id": "iq-u6DUcjum7"
      }
    },
    {
      "cell_type": "code",
      "source": [
        "suma =0\n",
        "for n in diccionario_personas:\n",
        "  suma = suma + diccionario_personas[n]\n",
        "\n",
        "print(suma)"
      ],
      "metadata": {
        "colab": {
          "base_uri": "https://localhost:8080/"
        },
        "id": "4AmZyCUWj_TU",
        "outputId": "8b043cda-2bc6-4d6c-8f51-5868d2584228"
      },
      "execution_count": 4,
      "outputs": [
        {
          "output_type": "stream",
          "name": "stdout",
          "text": [
            "31\n"
          ]
        }
      ]
    },
    {
      "cell_type": "markdown",
      "source": [
        "**Ejercicio 22**.  Dado un diccionario con nombres y edades, filtrar aquellos cuya edad sea mayor que 25."
      ],
      "metadata": {
        "id": "0aRZwJTkjvYC"
      }
    },
    {
      "cell_type": "code",
      "source": [
        "dic_nombre_edades = {'Ana': 15, 'Carlos': 32, 'Eva': 60,'Juan': 21, 'Laura': 60, 'Pedro': 55 }\n",
        "\n",
        "dic_nuevo= {}\n",
        "for k,n in dic_nombre_edades.items():\n",
        "  if n<25:\n",
        "    dic_nuevo[k] = n\n",
        "\n",
        "print(dic_nuevo)"
      ],
      "metadata": {
        "colab": {
          "base_uri": "https://localhost:8080/"
        },
        "id": "YAmzsezYj-n1",
        "outputId": "d1e26cf1-8862-46be-ca18-f6334d4fdf4c"
      },
      "execution_count": 5,
      "outputs": [
        {
          "output_type": "stream",
          "name": "stdout",
          "text": [
            "{'Ana': 15, 'Juan': 21}\n"
          ]
        }
      ]
    },
    {
      "cell_type": "markdown",
      "source": [
        "**Ejercicio 23**. Crea una función que dada una frase, devuelva un diccionario en el que aparezca cuántas veces aparece cada palabra."
      ],
      "metadata": {
        "id": "8ezUtKG0jzfk"
      }
    },
    {
      "cell_type": "code",
      "source": [
        "def contar_palabras(frase):\n",
        "  frase_troceada = frase.split(' ')\n",
        "\n",
        "  # Contar ocurrencias\n",
        "  ocurrencias = {}\n",
        "  for palabra in frase_troceada:\n",
        "      ocurrencias[palabra] = ocurrencias.get(palabra, 0) + 1\n",
        "\n",
        "  print(ocurrencias)"
      ],
      "metadata": {
        "id": "Qf37TWEzj1L0"
      },
      "execution_count": 6,
      "outputs": []
    },
    {
      "cell_type": "code",
      "source": [
        "contar_palabras(\"hola mundo mundo hola carlos\")"
      ],
      "metadata": {
        "colab": {
          "base_uri": "https://localhost:8080/"
        },
        "id": "lrAwnxUtj8Kb",
        "outputId": "d1c7efda-a3f4-473b-a70d-c4dc160c0a3e"
      },
      "execution_count": 7,
      "outputs": [
        {
          "output_type": "stream",
          "name": "stdout",
          "text": [
            "{'hola': 2, 'mundo': 2, 'carlos': 1}\n"
          ]
        }
      ]
    },
    {
      "cell_type": "markdown",
      "source": [
        "**Ejercicio 24**. Crea una función en la que dado un diccionario cuya clave es el nombre de un producto y el valor su precio, devuelva un diccionario con aquellos productos cuyo precio sea menor de 20."
      ],
      "metadata": {
        "id": "nRg4H92Bj1oT"
      }
    },
    {
      "cell_type": "code",
      "source": [
        "def filtro_precio(dic):\n",
        "  dic_nuevo= {}\n",
        "  for k,n in dic.items():\n",
        "    if n<20:\n",
        "      dic_nuevo[k] = n\n",
        "\n",
        "  return dic_nuevo"
      ],
      "metadata": {
        "id": "xW-w2V0Wj4g7"
      },
      "execution_count": 8,
      "outputs": []
    },
    {
      "cell_type": "code",
      "source": [
        "filtro_precio( {'manzana': 15, 'banana': 25, 'pera': 18, 'uva': 30})"
      ],
      "metadata": {
        "colab": {
          "base_uri": "https://localhost:8080/"
        },
        "id": "mVtHuPsIj521",
        "outputId": "29f3b6cb-7180-4052-b922-5763e86d30c2"
      },
      "execution_count": 9,
      "outputs": [
        {
          "output_type": "execute_result",
          "data": {
            "text/plain": [
              "{'manzana': 15, 'pera': 18}"
            ]
          },
          "metadata": {},
          "execution_count": 9
        }
      ]
    }
  ],
  "metadata": {
    "kernelspec": {
      "display_name": "Python 3 (ipykernel)",
      "language": "python",
      "name": "python3"
    },
    "language_info": {
      "codemirror_mode": {
        "name": "ipython",
        "version": 3
      },
      "file_extension": ".py",
      "mimetype": "text/x-python",
      "name": "python",
      "nbconvert_exporter": "python",
      "pygments_lexer": "ipython3",
      "version": "3.10.9"
    },
    "toc": {
      "base_numbering": 1,
      "nav_menu": {
        "height": "462px",
        "width": "608px"
      },
      "number_sections": true,
      "sideBar": true,
      "skip_h1_title": false,
      "title_cell": "Contenido",
      "title_sidebar": "Contents",
      "toc_cell": true,
      "toc_position": {},
      "toc_section_display": true,
      "toc_window_display": false
    },
    "colab": {
      "provenance": []
    }
  },
  "nbformat": 4,
  "nbformat_minor": 0
}