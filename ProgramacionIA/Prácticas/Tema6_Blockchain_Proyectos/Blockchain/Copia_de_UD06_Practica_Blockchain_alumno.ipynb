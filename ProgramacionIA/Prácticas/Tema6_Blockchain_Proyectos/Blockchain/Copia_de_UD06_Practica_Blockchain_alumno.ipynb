{
  "cells": [
    {
      "cell_type": "markdown",
      "metadata": {
        "id": "y31s2Q3hd5Rs"
      },
      "source": [
        "**Ejercicio 1**. Crea una clase que represente un bloque dentro de nuestra estructura de blockchain. Esta clase se llamará \"Block\" deberá tener como atributos:\n",
        "\n",
        "*   index: que representa el índice dentro de la cadena de bloques.\n",
        "*   timestamp: marca de tiempo sobre el bloque.\n",
        "*   data: información que va a contener el bloque.\n",
        "*   previous_hash: hash del bloque anterior.\n",
        "*   nonce: numero entero que nos va a permitir el minado.\n",
        "*   hash: hash del bloque.\n",
        "\n",
        "**Ejercicio 2.** Crea un constructor (`__init__`) que inicialice dichos atributos a partir de: index, timestamp, data y previous_hash.\n",
        "\n",
        "**Ejercicio 3.** Dentro de la clase Block, debes crear las siguientes funciones:\n",
        "\n",
        "* ```def calculate_hash(self)``` Devolverá el hash del bloque. Puedes hacer uso de la función `hashlib.sha256(<str>)` a la que se le pasa un string por parámetro.\n",
        "\n",
        "* ```def __str__(self)``` Devolverá un string con información de todos los atributos del bloque: index, timestamp, data, previous_hash, nonce, y hash.\n",
        "\n",
        "* ```def mine_block(self, difficulty)``` Función que servirá para minar el bloque. El minado consistirá en ir cambiando el valor de nonce hasta que el hash obtenido tenga tantos ceros al principio como indique el parámetro `difficulty`.  \n",
        "\n",
        "\n",
        "\n"
      ]
    },
    {
      "cell_type": "code",
      "execution_count": 1,
      "metadata": {
        "id": "B3Eqd1e7vHIW"
      },
      "outputs": [],
      "source": [
        "import hashlib\n",
        "import time"
      ]
    },
    {
      "cell_type": "code",
      "execution_count": 2,
      "metadata": {
        "id": "GVMSeN6Rd3C4"
      },
      "outputs": [],
      "source": [
        "class Block:\n",
        "    def __init__(self, index, timestamp, data, previous_hash):\n",
        "        self.index = index\n",
        "        self.timestamp = timestamp\n",
        "        self.data = data\n",
        "        self.previous_hash = previous_hash\n",
        "        self.nonce = 0\n",
        "        self.hash = self.calculate_hash()\n",
        "\n",
        "    def calculate_hash(self):\n",
        "        block_content = f\"{self.index}{self.timestamp}{self.data}{self.previous_hash}{self.nonce}\".encode()\n",
        "        return hashlib.sha256(block_content).hexdigest()\n",
        "\n",
        "    def mine_block(self, difficulty):\n",
        "        target = '0' * difficulty\n",
        "        while not self.hash.startswith(target):\n",
        "            self.nonce += 1\n",
        "            self.hash = self.calculate_hash()\n",
        "\n",
        "    def __str__(self):\n",
        "        return f\"Block(Index: {self.index}, Timestamp: {self.timestamp}, Data: {self.data}, Previous Hash: {self.previous_hash}, Nonce: {self.nonce}, Hash: {self.hash})\"\n"
      ]
    },
    {
      "cell_type": "markdown",
      "metadata": {
        "id": "u3zjRORMifjC"
      },
      "source": [
        "**Ejercicio 4**. Crea una clase llamada \"Blockchain\" que tenga como atributos:\n",
        "\n",
        "*   chain: es una lista de objetos de tipo Block, donde el primer bloque seá el bloque génesis.\n",
        "*   difficulty: es la dificultad (número entero) que tendrá la cadena de bloques para ir minando nuevos bloques.\n",
        "\n",
        "\n",
        "**Ejercicio 5**. Crea un constructor de Blockchain que le asigne por defecto una dificultad 4 y el bloque génesis. Este bloque tendrá como índice el 0, como timestamp el momento de la llamada, data será \"génesis block\" y el previous_hash será 0.\n",
        "\n",
        "\n",
        "**Ejercicio 6**. Crea dentro de la clase Blockchain los siguientes métodos:\n",
        "\n",
        "*  `def create_genesis_block(self)` devolverá un bloque con índice igual a 0, como timestamp el momento de la llamada, data será \"génesis block\" y el previous_hash será 0.\n",
        "\n",
        "* `def get_latest_block(self)` devolverá el último bloque de la cadena.\n",
        "\n",
        "* `def is_chain_valid(self)` devolverá verdadero si la cadena de blockchain es correcta o no.\n",
        "\n",
        "* `def add_block(self, new_block)` minará new_block para poder ser introducido a la cadena de blockchain.\n"
      ]
    },
    {
      "cell_type": "code",
      "execution_count": 3,
      "metadata": {
        "id": "HrQjLh5BiLRw"
      },
      "outputs": [],
      "source": [
        "class Blockchain:\n",
        "    def __init__(self):\n",
        "        self.difficulty = 4\n",
        "        self.chain = [self.create_genesis_block()]\n",
        "\n",
        "    def create_genesis_block(self):\n",
        "        return Block(0, time.time(), \"Genesis Block\", \"0\")\n",
        "\n",
        "    def get_latest_block(self):\n",
        "        return self.chain[-1]\n",
        "\n",
        "    def add_block(self, new_block):\n",
        "        new_block.previous_hash = self.get_latest_block().hash\n",
        "        new_block.mine_block(self.difficulty)\n",
        "        self.chain.append(new_block)\n",
        "\n",
        "    def is_chain_valid(self):\n",
        "        for i in range(1, len(self.chain)):\n",
        "            current_block = self.chain[i]\n",
        "            previous_block = self.chain[i - 1]\n",
        "            if current_block.hash != current_block.calculate_hash():\n",
        "                return False\n",
        "            if current_block.previous_hash != previous_block.hash:\n",
        "                return False\n",
        "        return True"
      ]
    },
    {
      "cell_type": "markdown",
      "metadata": {
        "id": "T9sYevkZu7Gl"
      },
      "source": [
        "\n",
        "**Ejercicio 7**. Crea una cadena de blockchain y genera 3 bloques válidos."
      ]
    },
    {
      "cell_type": "code",
      "execution_count": 10,
      "metadata": {
        "colab": {
          "background_save": true,
          "base_uri": "https://localhost:8080/"
        },
        "id": "OCtgu3yZiNQq",
        "outputId": "bf3f1521-63e7-4eaf-bab6-88ae5a6af15f"
      },
      "outputs": [
        {
          "name": "stdout",
          "output_type": "stream",
          "text": [
            "Block(Index: 0, Timestamp: 1743084571.7298968, Data: Genesis Block, Previous Hash: 0, Nonce: 0, Hash: 471f6aeb8d5c22c06b174b6c27eb35bdc69ae25c395d18bd5f44c9e7c1508470)\n",
            "Block(Index: 1, Timestamp: 1743084571.7299614, Data: Block 1 Data, Previous Hash: 471f6aeb8d5c22c06b174b6c27eb35bdc69ae25c395d18bd5f44c9e7c1508470, Nonce: 180647, Hash: 00001ebac4005428125ffb8a168240fb81a5811e981b2f714ff3398759ff0a08)\n",
            "Block(Index: 2, Timestamp: 1743084572.0922358, Data: Block 2 Data, Previous Hash: 00001ebac4005428125ffb8a168240fb81a5811e981b2f714ff3398759ff0a08, Nonce: 39602, Hash: 0000772a21df1c6d78fc81e6a7c870a765e0e14baf5a39f7d4ffd4d77559d1e1)\n",
            "Block(Index: 3, Timestamp: 1743084572.170819, Data: Block 3 Data, Previous Hash: 0000772a21df1c6d78fc81e6a7c870a765e0e14baf5a39f7d4ffd4d77559d1e1, Nonce: 21423, Hash: 00000d3d6ad5aa5e2e183b8eb55cbabdfabfbd035bc74dc68983b9f0e2589a89)\n"
          ]
        }
      ],
      "source": [
        "\n",
        "# Ejemplo de uso\n",
        "blockchain = Blockchain()\n",
        "blockchain.add_block(Block(1, time.time(), \"Block 1 Data\", blockchain.get_latest_block().hash))\n",
        "blockchain.add_block(Block(2, time.time(), \"Block 2 Data\", blockchain.get_latest_block().hash))\n",
        "blockchain.add_block(Block(3, time.time(), \"Block 3 Data\", blockchain.get_latest_block().hash))\n",
        "\n",
        "for block in blockchain.chain:\n",
        "    print(block)"
      ]
    },
    {
      "cell_type": "markdown",
      "metadata": {
        "id": "Ky4Jd4uYvuXr"
      },
      "source": [
        "# Mejoras para convertir el sistema en distribuido."
      ]
    },
    {
      "cell_type": "markdown",
      "metadata": {
        "id": "PxMtRFKtw0V0"
      },
      "source": [
        "El sistema se podría convertir en distribuido implementando un mecanismo en el que diferentes nodos colaboren para validar y propagar los bloques. Posibles formas:\n",
        "\n",
        "1. Nodos de la red: Cada nodo ejecutaría una copia del código de la cadena de bloques y sería capaz de recibir y transmitir bloques a otros nodos en la red.\n",
        "\n",
        "2. Protocolo de consenso: Necesitarías implementar un protocolo de consenso para que los nodos acuerden qué cadena de bloques es la válida cuando hay múltiples versiones. Algunas opciones comunes incluyen Prueba de Trabajo (Proof of Work), Prueba de Participación (Proof of Stake), o algoritmos de consenso más avanzados como Practical Byzantine Fault Tolerance (PBFT) o Delegated Proof of Stake (DPoS).\n",
        "\n",
        "3. Transmisión de bloques: Necesitarías establecer un mecanismo para que los nodos puedan transmitir bloques a través de la red. Esto podría hacerse a través de una red peer-to-peer (P2P) utilizando sockets o protocolos específicos como HTTP o WebSockets.\n",
        "\n",
        "4. Los nodos deben verificar que los bloques que reciben son válidos antes de agregarlos a su propia cadena. Esto implica verificar la estructura del bloque, su hash, su validez en términos de reglas de consenso, y su relación con la cadena existente.\n",
        "\n",
        "5. **Incentivos: Podrías considerar la introducción de un sistema de incentivos para motivar a los nodos a participar honestamente en el mantenimiento de la red. Esto podría incluir recompensas en forma de criptomonedas o tarifas de transacción.**"
      ]
    }
  ],
  "metadata": {
    "colab": {
      "provenance": []
    },
    "kernelspec": {
      "display_name": "Python 3",
      "name": "python3"
    },
    "language_info": {
      "codemirror_mode": {
        "name": "ipython",
        "version": 3
      },
      "file_extension": ".py",
      "mimetype": "text/x-python",
      "name": "python",
      "nbconvert_exporter": "python",
      "pygments_lexer": "ipython3",
      "version": "3.13.0"
    }
  },
  "nbformat": 4,
  "nbformat_minor": 0
}
