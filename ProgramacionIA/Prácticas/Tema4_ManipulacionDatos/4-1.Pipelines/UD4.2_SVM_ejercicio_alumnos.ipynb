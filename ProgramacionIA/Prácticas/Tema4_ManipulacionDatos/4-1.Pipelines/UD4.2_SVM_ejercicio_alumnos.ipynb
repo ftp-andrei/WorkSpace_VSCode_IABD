{
 "cells": [
  {
   "cell_type": "markdown",
   "metadata": {},
   "source": [
    "# Ejercicio clasificación con SVM"
   ]
  },
  {
   "cell_type": "markdown",
   "metadata": {},
   "source": [
    "1. Carga el conjunto de datos MNIST utilizando sklearn.datasets.load_digits()."
   ]
  },
  {
   "cell_type": "code",
   "execution_count": 1,
   "metadata": {},
   "outputs": [],
   "source": [
    "from sklearn.datasets import load_digits\n",
    "from sklearn.model_selection import train_test_split\n",
    "from sklearn.svm import SVC\n",
    "from sklearn.metrics import accuracy_score, confusion_matrix\n",
    "import matplotlib.pyplot as plt\n",
    "import numpy as np\n",
    "\n",
    "# Paso 1: Cargar el conjunto de datos MNIST\n",
    "digits = load_digits()"
   ]
  },
  {
   "cell_type": "markdown",
   "metadata": {},
   "source": [
    "Divide el conjunto de datos en un conjunto de entrenamiento y otro de prueba. Llamalos X_train, y_train, X_test, e y_test.  "
   ]
  },
  {
   "cell_type": "code",
   "execution_count": 3,
   "metadata": {},
   "outputs": [
    {
     "name": "stdout",
     "output_type": "stream",
     "text": [
      "X_train shape: (1257, 64)\n",
      "X_test shape: (540, 64)\n",
      "y_train shape: (1257,)\n",
      "y_test shape: (540,)\n"
     ]
    }
   ],
   "source": [
    "# Paso 2: Dividir el conjunto de datos en entrenamiento y prueba\n",
    "X_train, X_test, y_train, y_test = train_test_split(digits.data, digits.target, test_size=0.3, random_state=42)\n",
    "\n",
    "# Mostrar las formas de los conjuntos de datos\n",
    "print(f\"X_train shape: {X_train.shape}\")\n",
    "print(f\"X_test shape: {X_test.shape}\")\n",
    "print(f\"y_train shape: {y_train.shape}\")\n",
    "print(f\"y_test shape: {y_test.shape}\")"
   ]
  },
  {
   "cell_type": "markdown",
   "metadata": {},
   "source": [
    "Crea un transformador llamado *NormalizadorPixels* que normalice el valor de los pixeles, dicha normalización consistirá en dividir cada píxel por 255."
   ]
  },
  {
   "cell_type": "code",
   "execution_count": 4,
   "metadata": {},
   "outputs": [],
   "source": [
    "from sklearn.base import BaseEstimator, TransformerMixin\n",
    "\n",
    "class NormalizadorPixels(BaseEstimator, TransformerMixin):\n",
    "    def fit(self, X, y=None):\n",
    "        # No es necesario ajustar nada en este caso, por lo que simplemente retornamos X\n",
    "        return self\n",
    "\n",
    "    def transform(self, X):\n",
    "        # Normalizamos los valores de los píxeles dividiendo entre 255\n",
    "        return X / 255.0"
   ]
  },
  {
   "cell_type": "markdown",
   "metadata": {},
   "source": [
    "Define un Pipeline en el que se llame al anterior transformador y posteriormente se entrene un clasificador SVM utilizando sklearn.svm.SVC."
   ]
  },
  {
   "cell_type": "code",
   "execution_count": 5,
   "metadata": {},
   "outputs": [
    {
     "name": "stdout",
     "output_type": "stream",
     "text": [
      "Accuracy: 0.987037037037037\n",
      "Matriz de Confusión:\n",
      "[[53  0  0  0  0  0  0  0  0  0]\n",
      " [ 0 50  0  0  0  0  0  0  0  0]\n",
      " [ 0  0 47  0  0  0  0  0  0  0]\n",
      " [ 0  0  0 53  0  0  0  0  1  0]\n",
      " [ 0  0  0  0 60  0  0  0  0  0]\n",
      " [ 0  0  0  0  0 65  1  0  0  0]\n",
      " [ 0  0  0  0  0  0 53  0  0  0]\n",
      " [ 0  0  0  0  0  0  0 54  0  1]\n",
      " [ 0  0  0  0  0  0  0  0 42  1]\n",
      " [ 0  0  0  1  0  0  0  1  1 56]]\n"
     ]
    }
   ],
   "source": [
    "from sklearn.pipeline import Pipeline\n",
    "from sklearn.svm import SVC\n",
    "from sklearn.model_selection import train_test_split\n",
    "from sklearn.metrics import accuracy_score\n",
    "\n",
    "# Paso 1: Crear el Pipeline\n",
    "pipeline = Pipeline([\n",
    "    ('normalizador', NormalizadorPixels()),  # Aplicar normalización\n",
    "    ('svm', SVC())  # Clasificador SVM\n",
    "])\n",
    "\n",
    "# Paso 2: Dividir el conjunto de datos en entrenamiento y prueba\n",
    "X_train, X_test, y_train, y_test = train_test_split(digits.data, digits.target, test_size=0.3, random_state=42)\n",
    "\n",
    "# Paso 3: Entrenar el modelo con el pipeline\n",
    "pipeline.fit(X_train, y_train)\n",
    "\n",
    "# Paso 4: Realizar predicciones y evaluar el modelo\n",
    "y_pred = pipeline.predict(X_test)\n",
    "print(f\"Accuracy: {accuracy_score(y_test, y_pred)}\")\n",
    "\n",
    "# Mostrar la matriz de confusión\n",
    "print(\"Matriz de Confusión:\")\n",
    "print(confusion_matrix(y_test, y_pred))"
   ]
  },
  {
   "cell_type": "markdown",
   "metadata": {},
   "source": [
    "Evalúa el rendimiento del clasificador en el conjunto de prueba utilizando métricas como la precisión, el recall y la matriz de confusión."
   ]
  },
  {
   "cell_type": "code",
   "execution_count": 6,
   "metadata": {},
   "outputs": [
    {
     "name": "stdout",
     "output_type": "stream",
     "text": [
      "Precisión del clasificador SVM: 0.987037037037037\n",
      "Matriz de confusión:\n",
      "\n",
      "[[53  0  0  0  0  0  0  0  0  0]\n",
      " [ 0 50  0  0  0  0  0  0  0  0]\n",
      " [ 0  0 47  0  0  0  0  0  0  0]\n",
      " [ 0  0  0 53  0  0  0  0  1  0]\n",
      " [ 0  0  0  0 60  0  0  0  0  0]\n",
      " [ 0  0  0  0  0 65  1  0  0  0]\n",
      " [ 0  0  0  0  0  0 53  0  0  0]\n",
      " [ 0  0  0  0  0  0  0 54  0  1]\n",
      " [ 0  0  0  0  0  0  0  0 42  1]\n",
      " [ 0  0  0  1  0  0  0  1  1 56]]\n"
     ]
    }
   ],
   "source": [
    "# Paso 5: Evaluar el rendimiento del clasificador\n",
    "y_pred = pipeline.predict(X_test)\n",
    "accuracy = accuracy_score(y_test, y_pred)\n",
    "conf_matrix = confusion_matrix(y_test, y_pred)\n",
    "\n",
    "print(\"Precisión del clasificador SVM:\", accuracy)\n",
    "print(\"Matriz de confusión:\")\n",
    "print()\n",
    "print(conf_matrix)"
   ]
  },
  {
   "cell_type": "markdown",
   "metadata": {},
   "source": [
    "Experimenta con diferentes kernels (lineal, polinomial, radial) y otros hiperparámetros de SVM para ver cómo afectan al rendimiento del modelo."
   ]
  },
  {
   "cell_type": "code",
   "execution_count": 8,
   "metadata": {},
   "outputs": [
    {
     "name": "stdout",
     "output_type": "stream",
     "text": [
      "Fitting 3 folds for each of 72 candidates, totalling 216 fits\n",
      "Mejores parámetros encontrados:\n",
      "{'svm__C': 10, 'svm__degree': 2, 'svm__gamma': 'scale', 'svm__kernel': 'rbf'}\n",
      "Accuracy: 0.9888888888888889\n",
      "Matriz de Confusión:\n",
      "[[53  0  0  0  0  0  0  0  0  0]\n",
      " [ 0 50  0  0  0  0  0  0  0  0]\n",
      " [ 0  0 47  0  0  0  0  0  0  0]\n",
      " [ 0  0  1 52  0  1  0  0  0  0]\n",
      " [ 0  0  0  0 60  0  0  0  0  0]\n",
      " [ 0  0  0  0  0 65  0  0  0  1]\n",
      " [ 0  0  0  0  0  0 53  0  0  0]\n",
      " [ 0  0  0  0  0  0  0 54  0  1]\n",
      " [ 0  0  0  0  0  0  0  0 43  0]\n",
      " [ 0  0  0  0  0  0  0  1  1 57]]\n"
     ]
    }
   ],
   "source": [
    "from sklearn.svm import SVC\n",
    "from sklearn.model_selection import GridSearchCV\n",
    "\n",
    "# Definir el pipeline con el transformador y el clasificador SVM\n",
    "pipeline = Pipeline([\n",
    "    ('normalizador', NormalizadorPixels()),\n",
    "    ('svm', SVC())\n",
    "])\n",
    "\n",
    "# Definir los hiperparámetros que quieres experimentar con GridSearchCV\n",
    "param_grid = {\n",
    "    'svm__kernel': ['linear', 'poly', 'rbf'],  # Diferentes kernels\n",
    "    'svm__C': [0.1, 1, 10],  # Diferentes valores de C\n",
    "    'svm__degree': [2, 3],  # Solo para el kernel polinomial\n",
    "    'svm__gamma': ['scale', 'auto', 0.1, 1]  # Diferentes valores de gamma\n",
    "}\n",
    "\n",
    "# Usar GridSearchCV para encontrar la mejor combinación de hiperparámetros\n",
    "grid_search = GridSearchCV(pipeline, param_grid, cv=3, verbose=1, n_jobs=-1)\n",
    "\n",
    "# Entrenar el modelo con los datos de entrenamiento\n",
    "grid_search.fit(X_train, y_train)\n",
    "\n",
    "# Mostrar los mejores parámetros y el rendimiento\n",
    "print(\"Mejores parámetros encontrados:\")\n",
    "print(grid_search.best_params_)\n",
    "\n",
    "# Evaluar el modelo con el conjunto de prueba\n",
    "y_pred = grid_search.predict(X_test)\n",
    "print(f\"Accuracy: {accuracy_score(y_test, y_pred)}\")\n",
    "\n",
    "# Mostrar la matriz de confusión\n",
    "print(\"Matriz de Confusión:\")\n",
    "print(confusion_matrix(y_test, y_pred))\n"
   ]
  },
  {
   "cell_type": "markdown",
   "metadata": {},
   "source": [
    "Visualiza algunos ejemplos de imágenes mal clasificadas para entender en qué casos el modelo tiene dificultades."
   ]
  },
  {
   "cell_type": "code",
   "execution_count": 9,
   "metadata": {},
   "outputs": [
    {
     "data": {
      "image/png": "[encoded data removed]",
      "text/plain": [
       "<Figure size 1000x800 with 6 Axes>"
      ]
     },
     "metadata": {},
     "output_type": "display_data"
    }
   ],
   "source": [
    "# Paso 6: Visualizar algunos ejemplos de imágenes mal clasificadas\n",
    "misclassified_idx = np.where(y_pred != y_test)[0]\n",
    "plt.figure(figsize=(10, 8))\n",
    "\n",
    "for i, idx in enumerate(misclassified_idx[:10]):\n",
    "    plt.subplot(2, 5, i + 1)\n",
    "    plt.imshow(X_test[idx].reshape(8, 8), cmap='gray')\n",
    "    plt.title(f\"Pred: {y_pred[idx]}, Actual: {y_test[idx]}\")\n",
    "    plt.axis('off')\n",
    "plt.show()\n"
   ]
  }
 ],
 "metadata": {
  "colab": {
   "provenance": [
    {
     "file_id": "1Pbk20lt7DEn4p14CMDfBr1qRLhJ6MyFM",
     "timestamp": 1668939874557
    },
    {
     "file_id": "1zixmkzgYpLlQC8O72r62R7v4Vh4L1Cjl",
     "timestamp": 1667900745482
    },
    {
     "file_id": "1cnWjQpAg5KDC6M-2nDHBvQuWKilMN1E2",
     "timestamp": 1658588546391
    }
   ]
  },
  "kernelspec": {
   "display_name": "Python 3",
   "name": "python3"
  },
  "language_info": {
   "codemirror_mode": {
    "name": "ipython",
    "version": 3
   },
   "file_extension": ".py",
   "mimetype": "text/x-python",
   "name": "python",
   "nbconvert_exporter": "python",
   "pygments_lexer": "ipython3",
   "version": "3.13.0"
  }
 },
 "nbformat": 4,
 "nbformat_minor": 0
}
