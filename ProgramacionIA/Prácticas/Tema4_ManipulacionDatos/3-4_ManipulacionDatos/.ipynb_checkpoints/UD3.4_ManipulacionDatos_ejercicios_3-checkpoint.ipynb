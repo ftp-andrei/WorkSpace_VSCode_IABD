{
 "cells": [
  {
   "cell_type": "markdown",
   "metadata": {
    "id": "QBmeRj3pi_kb"
   },
   "source": [
    "# Manipulación de datos (preprocesamiento)\n"
   ]
  },
  {
   "cell_type": "markdown",
   "metadata": {
    "id": "mIjx59KSTN0o"
   },
   "source": [
    "**Ejercicio 1.** Descarga del aula virtual el dataset y crea un dataframe llamado df_diabetes para trabajar con el.  "
   ]
  },
  {
   "cell_type": "code",
   "execution_count": 2,
   "metadata": {
    "colab": {
     "base_uri": "https://localhost:8080/",
     "height": 282
    },
    "id": "btICyqiWc8kY",
    "outputId": "94206444-dc82-45a7-8d5d-b0a8dd9c378c"
   },
   "outputs": [
    {
     "data": {
      "text/html": [
       "<div>\n",
       "<style scoped>\n",
       "    .dataframe tbody tr th:only-of-type {\n",
       "        vertical-align: middle;\n",
       "    }\n",
       "\n",
       "    .dataframe tbody tr th {\n",
       "        vertical-align: top;\n",
       "    }\n",
       "\n",
       "    .dataframe thead th {\n",
       "        text-align: right;\n",
       "    }\n",
       "</style>\n",
       "<table border=\"1\" class=\"dataframe\">\n",
       "  <thead>\n",
       "    <tr style=\"text-align: right;\">\n",
       "      <th></th>\n",
       "      <th>gender</th>\n",
       "      <th>age</th>\n",
       "      <th>hypertension</th>\n",
       "      <th>heart_disease</th>\n",
       "      <th>smoking_history</th>\n",
       "      <th>bmi</th>\n",
       "      <th>HbA1c_level</th>\n",
       "      <th>blood_glucose_level</th>\n",
       "      <th>diabetes</th>\n",
       "    </tr>\n",
       "  </thead>\n",
       "  <tbody>\n",
       "    <tr>\n",
       "      <th>0</th>\n",
       "      <td>Female</td>\n",
       "      <td>80.0</td>\n",
       "      <td>0</td>\n",
       "      <td>1</td>\n",
       "      <td>never</td>\n",
       "      <td>25.19</td>\n",
       "      <td>6.6</td>\n",
       "      <td>140</td>\n",
       "      <td>0</td>\n",
       "    </tr>\n",
       "    <tr>\n",
       "      <th>1</th>\n",
       "      <td>Female</td>\n",
       "      <td>54.0</td>\n",
       "      <td>0</td>\n",
       "      <td>0</td>\n",
       "      <td>No Info</td>\n",
       "      <td>27.32</td>\n",
       "      <td>6.6</td>\n",
       "      <td>80</td>\n",
       "      <td>0</td>\n",
       "    </tr>\n",
       "    <tr>\n",
       "      <th>2</th>\n",
       "      <td>Male</td>\n",
       "      <td>28.0</td>\n",
       "      <td>0</td>\n",
       "      <td>0</td>\n",
       "      <td>never</td>\n",
       "      <td>27.32</td>\n",
       "      <td>5.7</td>\n",
       "      <td>158</td>\n",
       "      <td>0</td>\n",
       "    </tr>\n",
       "    <tr>\n",
       "      <th>3</th>\n",
       "      <td>Female</td>\n",
       "      <td>36.0</td>\n",
       "      <td>0</td>\n",
       "      <td>0</td>\n",
       "      <td>current</td>\n",
       "      <td>23.45</td>\n",
       "      <td>5.0</td>\n",
       "      <td>155</td>\n",
       "      <td>0</td>\n",
       "    </tr>\n",
       "    <tr>\n",
       "      <th>4</th>\n",
       "      <td>Male</td>\n",
       "      <td>76.0</td>\n",
       "      <td>1</td>\n",
       "      <td>1</td>\n",
       "      <td>current</td>\n",
       "      <td>20.14</td>\n",
       "      <td>4.8</td>\n",
       "      <td>155</td>\n",
       "      <td>0</td>\n",
       "    </tr>\n",
       "  </tbody>\n",
       "</table>\n",
       "</div>"
      ],
      "text/plain": [
       "   gender   age  hypertension  heart_disease smoking_history    bmi  \\\n",
       "0  Female  80.0             0              1           never  25.19   \n",
       "1  Female  54.0             0              0         No Info  27.32   \n",
       "2    Male  28.0             0              0           never  27.32   \n",
       "3  Female  36.0             0              0         current  23.45   \n",
       "4    Male  76.0             1              1         current  20.14   \n",
       "\n",
       "   HbA1c_level  blood_glucose_level  diabetes  \n",
       "0          6.6                  140         0  \n",
       "1          6.6                   80         0  \n",
       "2          5.7                  158         0  \n",
       "3          5.0                  155         0  \n",
       "4          4.8                  155         0  "
      ]
     },
     "execution_count": 2,
     "metadata": {},
     "output_type": "execute_result"
    }
   ],
   "source": [
    "import pandas as pd\n",
    "\n",
    "# Ruta del archivo CSV\n",
    "file_path = r'diabetes_prediction_dataset.csv'\n",
    "\n",
    "# Cargar el archivo CSV en un DataFrame\n",
    "df_diabetes = pd.read_csv(file_path)\n",
    "\n",
    "# Mostrar las primeras filas para verificar que se cargó correctamente\n",
    "df_diabetes.head()"
   ]
  },
  {
   "cell_type": "markdown",
   "metadata": {},
   "source": [
    "**Ejercicio 2.** Obten una lista de todas las columnas que tiene."
   ]
  },
  {
   "cell_type": "code",
   "execution_count": 2,
   "metadata": {
    "colab": {
     "base_uri": "https://localhost:8080/"
    },
    "id": "3SsXGiIgTOlw",
    "outputId": "329476ce-b362-4dc1-a2e4-9ce53c53e50d"
   },
   "outputs": [
    {
     "name": "stdout",
     "output_type": "stream",
     "text": [
      "['gender', 'age', 'hypertension', 'heart_disease', 'smoking_history', 'bmi', 'HbA1c_level', 'blood_glucose_level', 'diabetes']\n"
     ]
    }
   ],
   "source": [
    "# Obtener una lista de todas las columnas del DataFrame\n",
    "columnas = df_diabetes.columns.tolist()\n",
    "\n",
    "# Mostrar las columnas\n",
    "print(columnas)\n"
   ]
  },
  {
   "cell_type": "markdown",
   "metadata": {},
   "source": [
    "**Ejercicio 3.** Identifica qué columas con categóricas y cuales numéricas"
   ]
  },
  {
   "cell_type": "code",
   "execution_count": 3,
   "metadata": {},
   "outputs": [
    {
     "name": "stdout",
     "output_type": "stream",
     "text": [
      "Columnas numéricas: ['age', 'hypertension', 'heart_disease', 'bmi', 'HbA1c_level', 'blood_glucose_level', 'diabetes']\n",
      "Columnas categóricas: ['gender', 'smoking_history']\n"
     ]
    }
   ],
   "source": [
    "# Identificar las columnas numéricas\n",
    "columnas_numericas = df_diabetes.select_dtypes(include=['int64', 'float64']).columns.tolist()\n",
    "\n",
    "# Identificar las columnas categóricas\n",
    "columnas_categoricas = df_diabetes.select_dtypes(include=['object', 'category']).columns.tolist()\n",
    "\n",
    "# Mostrar los resultados\n",
    "print(f\"Columnas numéricas: {columnas_numericas}\")\n",
    "print(f\"Columnas categóricas: {columnas_categoricas}\")\n"
   ]
  },
  {
   "cell_type": "markdown",
   "metadata": {},
   "source": [
    "**Ejercicio 4.** De la lista de columnas categóricas identifica de qué tipo son: ordinales o nominales. "
   ]
  },
  {
   "cell_type": "code",
   "execution_count": null,
   "metadata": {},
   "outputs": [
    {
     "name": "stdout",
     "output_type": "stream",
     "text": [
      "Columnas categóricas: ['gender', 'smoking_history']\n",
      "Columna: gender\n",
      "Categorías: ['Female' 'Male' 'Other']\n",
      "Columna: smoking_history\n",
      "Categorías: ['never' 'No Info' 'current' 'former' 'ever' 'not current']\n"
     ]
    }
   ],
   "source": [
    "# Ver las columnas categóricas\n",
    "print(f\"Columnas categóricas: {columnas_categoricas}\")\n",
    "\n",
    "# Revisar las categorías de cada columna categórica para identificar si son ordinales o nominales\n",
    "for col in columnas_categoricas:\n",
    "    print(f\"Columna: {col}\")\n",
    "    print(f\"Categorías: {df_diabetes[col].unique()}\")\n",
    "\n",
    "# Si, por ejemplo, columna1 tiene valores 'mujer', 'hombre' y columna2 tiene valores 'bajo', 'medio', 'alto', entonces:\n",
    "    # columna1 sería nominal.\n",
    "    # columna2 sería ordinal.\n"
   ]
  },
  {
   "cell_type": "markdown",
   "metadata": {},
   "source": [
    "**Ejercicio 5.** Estamos interesados en transformar las columnas categóricas a numéricas. Implementa dicha transformación teniendo en cuenta que 'smoking_history' es considerado como una variable categórica ordinal. "
   ]
  },
  {
   "cell_type": "code",
   "execution_count": 7,
   "metadata": {},
   "outputs": [
    {
     "data": {
      "text/html": [
       "<div>\n",
       "<style scoped>\n",
       "    .dataframe tbody tr th:only-of-type {\n",
       "        vertical-align: middle;\n",
       "    }\n",
       "\n",
       "    .dataframe tbody tr th {\n",
       "        vertical-align: top;\n",
       "    }\n",
       "\n",
       "    .dataframe thead th {\n",
       "        text-align: right;\n",
       "    }\n",
       "</style>\n",
       "<table border=\"1\" class=\"dataframe\">\n",
       "  <thead>\n",
       "    <tr style=\"text-align: right;\">\n",
       "      <th></th>\n",
       "      <th>age</th>\n",
       "      <th>hypertension</th>\n",
       "      <th>heart_disease</th>\n",
       "      <th>smoking_history</th>\n",
       "      <th>bmi</th>\n",
       "      <th>HbA1c_level</th>\n",
       "      <th>blood_glucose_level</th>\n",
       "      <th>diabetes</th>\n",
       "      <th>gender_Female</th>\n",
       "      <th>gender_Male</th>\n",
       "      <th>gender_Other</th>\n",
       "    </tr>\n",
       "  </thead>\n",
       "  <tbody>\n",
       "    <tr>\n",
       "      <th>0</th>\n",
       "      <td>80.0</td>\n",
       "      <td>0</td>\n",
       "      <td>1</td>\n",
       "      <td>NaN</td>\n",
       "      <td>25.19</td>\n",
       "      <td>6.6</td>\n",
       "      <td>140</td>\n",
       "      <td>0</td>\n",
       "      <td>True</td>\n",
       "      <td>False</td>\n",
       "      <td>False</td>\n",
       "    </tr>\n",
       "    <tr>\n",
       "      <th>1</th>\n",
       "      <td>54.0</td>\n",
       "      <td>0</td>\n",
       "      <td>0</td>\n",
       "      <td>NaN</td>\n",
       "      <td>27.32</td>\n",
       "      <td>6.6</td>\n",
       "      <td>80</td>\n",
       "      <td>0</td>\n",
       "      <td>True</td>\n",
       "      <td>False</td>\n",
       "      <td>False</td>\n",
       "    </tr>\n",
       "    <tr>\n",
       "      <th>2</th>\n",
       "      <td>28.0</td>\n",
       "      <td>0</td>\n",
       "      <td>0</td>\n",
       "      <td>NaN</td>\n",
       "      <td>27.32</td>\n",
       "      <td>5.7</td>\n",
       "      <td>158</td>\n",
       "      <td>0</td>\n",
       "      <td>False</td>\n",
       "      <td>True</td>\n",
       "      <td>False</td>\n",
       "    </tr>\n",
       "    <tr>\n",
       "      <th>3</th>\n",
       "      <td>36.0</td>\n",
       "      <td>0</td>\n",
       "      <td>0</td>\n",
       "      <td>NaN</td>\n",
       "      <td>23.45</td>\n",
       "      <td>5.0</td>\n",
       "      <td>155</td>\n",
       "      <td>0</td>\n",
       "      <td>True</td>\n",
       "      <td>False</td>\n",
       "      <td>False</td>\n",
       "    </tr>\n",
       "    <tr>\n",
       "      <th>4</th>\n",
       "      <td>76.0</td>\n",
       "      <td>1</td>\n",
       "      <td>1</td>\n",
       "      <td>NaN</td>\n",
       "      <td>20.14</td>\n",
       "      <td>4.8</td>\n",
       "      <td>155</td>\n",
       "      <td>0</td>\n",
       "      <td>False</td>\n",
       "      <td>True</td>\n",
       "      <td>False</td>\n",
       "    </tr>\n",
       "  </tbody>\n",
       "</table>\n",
       "</div>"
      ],
      "text/plain": [
       "    age  hypertension  heart_disease  smoking_history    bmi  HbA1c_level  \\\n",
       "0  80.0             0              1              NaN  25.19          6.6   \n",
       "1  54.0             0              0              NaN  27.32          6.6   \n",
       "2  28.0             0              0              NaN  27.32          5.7   \n",
       "3  36.0             0              0              NaN  23.45          5.0   \n",
       "4  76.0             1              1              NaN  20.14          4.8   \n",
       "\n",
       "   blood_glucose_level  diabetes  gender_Female  gender_Male  gender_Other  \n",
       "0                  140         0           True        False         False  \n",
       "1                   80         0           True        False         False  \n",
       "2                  158         0          False         True         False  \n",
       "3                  155         0           True        False         False  \n",
       "4                  155         0          False         True         False  "
      ]
     },
     "execution_count": 7,
     "metadata": {},
     "output_type": "execute_result"
    }
   ],
   "source": [
    "import pandas as pd\n",
    "from sklearn.preprocessing import LabelEncoder\n",
    "\n",
    "# Primero, identificamos las columnas categóricas\n",
    "columnas_categoricas = df_diabetes.select_dtypes(include=['object', 'category']).columns.tolist()\n",
    "\n",
    "# Creamos el objeto LabelEncoder para convertir variables ordinales a numéricas\n",
    "label_encoder = LabelEncoder()\n",
    "\n",
    "# Mapeo manual para la variable ordinal 'smoking_history' (ajusta los valores según el orden real)\n",
    "# Ejemplo: {'never smoked': 0, 'previously smoked': 1, 'smokes': 2}\n",
    "df_diabetes['smoking_history'] = df_diabetes['smoking_history'].map({\n",
    "    'never smoked': 0,\n",
    "    'previously smoked': 1,\n",
    "    'smokes': 2\n",
    "})\n",
    "\n",
    "# Aplicamos One-Hot Encoding a las variables nominales\n",
    "df_diabetes = pd.get_dummies(df_diabetes, columns=[col for col in columnas_categoricas if col != 'smoking_history'])\n",
    "\n",
    "# Mostrar las primeras filas del DataFrame transformado\n",
    "df_diabetes.head()"
   ]
  },
  {
   "cell_type": "markdown",
   "metadata": {},
   "source": [
    "**Ejercicio 6.** Elimina aquellas ocurrencias en las que el genero no sea ni femenino ni masculino. Antes de eliminarlas identifica qué porcentaje de todas las ocurrencias vas a eliminar. "
   ]
  },
  {
   "cell_type": "code",
   "execution_count": 10,
   "metadata": {},
   "outputs": [
    {
     "name": "stdout",
     "output_type": "stream",
     "text": [
      "Index(['age', 'hypertension', 'heart_disease', 'smoking_history', 'bmi',\n",
      "       'HbA1c_level', 'blood_glucose_level', 'diabetes', 'gender_Female',\n",
      "       'gender_Male', 'gender_Other'],\n",
      "      dtype='object')\n",
      "Porcentaje de ocurrencias eliminadas: 0.00%\n"
     ]
    },
    {
     "data": {
      "text/html": [
       "<div>\n",
       "<style scoped>\n",
       "    .dataframe tbody tr th:only-of-type {\n",
       "        vertical-align: middle;\n",
       "    }\n",
       "\n",
       "    .dataframe tbody tr th {\n",
       "        vertical-align: top;\n",
       "    }\n",
       "\n",
       "    .dataframe thead th {\n",
       "        text-align: right;\n",
       "    }\n",
       "</style>\n",
       "<table border=\"1\" class=\"dataframe\">\n",
       "  <thead>\n",
       "    <tr style=\"text-align: right;\">\n",
       "      <th></th>\n",
       "      <th>age</th>\n",
       "      <th>hypertension</th>\n",
       "      <th>heart_disease</th>\n",
       "      <th>smoking_history</th>\n",
       "      <th>bmi</th>\n",
       "      <th>HbA1c_level</th>\n",
       "      <th>blood_glucose_level</th>\n",
       "      <th>diabetes</th>\n",
       "      <th>gender_Female</th>\n",
       "      <th>gender_Male</th>\n",
       "      <th>gender_Other</th>\n",
       "    </tr>\n",
       "  </thead>\n",
       "  <tbody>\n",
       "    <tr>\n",
       "      <th>0</th>\n",
       "      <td>80.0</td>\n",
       "      <td>0</td>\n",
       "      <td>1</td>\n",
       "      <td>NaN</td>\n",
       "      <td>25.19</td>\n",
       "      <td>6.6</td>\n",
       "      <td>140</td>\n",
       "      <td>0</td>\n",
       "      <td>True</td>\n",
       "      <td>False</td>\n",
       "      <td>False</td>\n",
       "    </tr>\n",
       "    <tr>\n",
       "      <th>1</th>\n",
       "      <td>54.0</td>\n",
       "      <td>0</td>\n",
       "      <td>0</td>\n",
       "      <td>NaN</td>\n",
       "      <td>27.32</td>\n",
       "      <td>6.6</td>\n",
       "      <td>80</td>\n",
       "      <td>0</td>\n",
       "      <td>True</td>\n",
       "      <td>False</td>\n",
       "      <td>False</td>\n",
       "    </tr>\n",
       "    <tr>\n",
       "      <th>2</th>\n",
       "      <td>28.0</td>\n",
       "      <td>0</td>\n",
       "      <td>0</td>\n",
       "      <td>NaN</td>\n",
       "      <td>27.32</td>\n",
       "      <td>5.7</td>\n",
       "      <td>158</td>\n",
       "      <td>0</td>\n",
       "      <td>False</td>\n",
       "      <td>True</td>\n",
       "      <td>False</td>\n",
       "    </tr>\n",
       "    <tr>\n",
       "      <th>3</th>\n",
       "      <td>36.0</td>\n",
       "      <td>0</td>\n",
       "      <td>0</td>\n",
       "      <td>NaN</td>\n",
       "      <td>23.45</td>\n",
       "      <td>5.0</td>\n",
       "      <td>155</td>\n",
       "      <td>0</td>\n",
       "      <td>True</td>\n",
       "      <td>False</td>\n",
       "      <td>False</td>\n",
       "    </tr>\n",
       "    <tr>\n",
       "      <th>4</th>\n",
       "      <td>76.0</td>\n",
       "      <td>1</td>\n",
       "      <td>1</td>\n",
       "      <td>NaN</td>\n",
       "      <td>20.14</td>\n",
       "      <td>4.8</td>\n",
       "      <td>155</td>\n",
       "      <td>0</td>\n",
       "      <td>False</td>\n",
       "      <td>True</td>\n",
       "      <td>False</td>\n",
       "    </tr>\n",
       "  </tbody>\n",
       "</table>\n",
       "</div>"
      ],
      "text/plain": [
       "    age  hypertension  heart_disease  smoking_history    bmi  HbA1c_level  \\\n",
       "0  80.0             0              1              NaN  25.19          6.6   \n",
       "1  54.0             0              0              NaN  27.32          6.6   \n",
       "2  28.0             0              0              NaN  27.32          5.7   \n",
       "3  36.0             0              0              NaN  23.45          5.0   \n",
       "4  76.0             1              1              NaN  20.14          4.8   \n",
       "\n",
       "   blood_glucose_level  diabetes  gender_Female  gender_Male  gender_Other  \n",
       "0                  140         0           True        False         False  \n",
       "1                   80         0           True        False         False  \n",
       "2                  158         0          False         True         False  \n",
       "3                  155         0           True        False         False  \n",
       "4                  155         0          False         True         False  "
      ]
     },
     "execution_count": 10,
     "metadata": {},
     "output_type": "execute_result"
    }
   ],
   "source": [
    "# Verificar todas las columnas del DataFrame\n",
    "print(df_diabetes.columns)\n",
    "\n",
    "# Filtrar las filas donde no hay valores de género asignados (es decir, todas las columnas de género son 0)\n",
    "df_filtered = df_diabetes[(df_diabetes['gender_Female'] == 1) | \n",
    "                          (df_diabetes['gender_Male'] == 1) |\n",
    "                          (df_diabetes['gender_Other'] == 1)]\n",
    "\n",
    "# Calcular el porcentaje de ocurrencias eliminadas\n",
    "porcentaje_eliminado = 100 * (len(df_diabetes) - len(df_filtered)) / len(df_diabetes)\n",
    "print(f\"Porcentaje de ocurrencias eliminadas: {porcentaje_eliminado:.2f}%\")\n",
    "\n",
    "# Eliminar las filas del dataframe original\n",
    "df_diabetes = df_filtered\n",
    "\n",
    "# Mostrar las primeras filas para comprobar el cambio\n",
    "df_diabetes.head()\n",
    "\n"
   ]
  },
  {
   "cell_type": "markdown",
   "metadata": {},
   "source": [
    "**Ejercicio 7.** La columnas a predecir se llama diabetes, identifica qué valores diferentes toma. "
   ]
  },
  {
   "cell_type": "code",
   "execution_count": 13,
   "metadata": {
    "colab": {
     "base_uri": "https://localhost:8080/",
     "height": 314
    },
    "id": "f4wbULBPUsgJ",
    "outputId": "4404f351-c86f-4012-bccf-3bcaf530b917"
   },
   "outputs": [
    {
     "name": "stdout",
     "output_type": "stream",
     "text": [
      "[0 1]\n"
     ]
    }
   ],
   "source": [
    "# Identificar los valores únicos de la columna 'diabetes'\n",
    "valores_diabetes = df_diabetes['diabetes'].unique()\n",
    "\n",
    "# Mostrar los valores únicos\n",
    "print(valores_diabetes)"
   ]
  },
  {
   "cell_type": "markdown",
   "metadata": {
    "id": "QvlBWrpxfNZn"
   },
   "source": [
    "**Ejercicio 8.** Identifica si el dataset está balanceado de acuerdo al número de personas con género masculino y femenino. Consideraremos que está balanceado si ninguno de ellos supera el 60% del total de ocurrencias. **No hace falta que lo balancees.** "
   ]
  },
  {
   "cell_type": "code",
   "execution_count": 14,
   "metadata": {
    "id": "uj5dYnW7fRDl"
   },
   "outputs": [
    {
     "name": "stdout",
     "output_type": "stream",
     "text": [
      "Porcentaje de personas con género femenino: 58.55%\n",
      "Porcentaje de personas con género masculino: 41.43%\n",
      "¿Está el dataset balanceado? Sí\n"
     ]
    }
   ],
   "source": [
    "# Calcular el número total de registros\n",
    "total_registros = len(df_diabetes)\n",
    "\n",
    "# Calcular el número de personas por género\n",
    "num_femenino = df_diabetes['gender_Female'].sum()\n",
    "num_masculino = df_diabetes['gender_Male'].sum()\n",
    "\n",
    "# Calcular el porcentaje de cada género\n",
    "porcentaje_femenino = (num_femenino / total_registros) * 100\n",
    "porcentaje_masculino = (num_masculino / total_registros) * 100\n",
    "\n",
    "# Verificar si alguno de los géneros supera el 60%\n",
    "balanceado = porcentaje_femenino <= 60 and porcentaje_masculino <= 60\n",
    "\n",
    "# Mostrar los resultados\n",
    "print(f\"Porcentaje de personas con género femenino: {porcentaje_femenino:.2f}%\")\n",
    "print(f\"Porcentaje de personas con género masculino: {porcentaje_masculino:.2f}%\")\n",
    "print(f\"¿Está el dataset balanceado? {'Sí' if balanceado else 'No'}\")"
   ]
  },
  {
   "cell_type": "markdown",
   "metadata": {
    "id": "ep56GLk3f_oS"
   },
   "source": [
    "**Ejercicio 9.** Identifica si el dataset está balanceado de acuerdo a la variable a predecir. "
   ]
  },
  {
   "cell_type": "code",
   "execution_count": 15,
   "metadata": {
    "colab": {
     "base_uri": "https://localhost:8080/"
    },
    "id": "YUqZjS8pgJpa",
    "outputId": "c51bcd68-c5cf-42c0-922d-21e106500d75"
   },
   "outputs": [
    {
     "name": "stdout",
     "output_type": "stream",
     "text": [
      "Porcentaje de personas con diabetes: 8.50%\n",
      "Porcentaje de personas sin diabetes: 91.50%\n",
      "¿Está el dataset balanceado? No\n"
     ]
    }
   ],
   "source": [
    "# Calcular el número total de registros\n",
    "total_registros = len(df_diabetes)\n",
    "\n",
    "# Calcular el número de personas con y sin diabetes\n",
    "num_con_diabetes = df_diabetes['diabetes'].sum()\n",
    "num_sin_diabetes = total_registros - num_con_diabetes\n",
    "\n",
    "# Calcular el porcentaje de personas con y sin diabetes\n",
    "porcentaje_con_diabetes = (num_con_diabetes / total_registros) * 100\n",
    "porcentaje_sin_diabetes = (num_sin_diabetes / total_registros) * 100\n",
    "\n",
    "# Verificar si alguno de los grupos supera el 60%\n",
    "balanceado = porcentaje_con_diabetes <= 60 and porcentaje_sin_diabetes <= 60\n",
    "\n",
    "# Mostrar los resultados\n",
    "print(f\"Porcentaje de personas con diabetes: {porcentaje_con_diabetes:.2f}%\")\n",
    "print(f\"Porcentaje de personas sin diabetes: {porcentaje_sin_diabetes:.2f}%\")\n",
    "print(f\"¿Está el dataset balanceado? {'Sí' if balanceado else 'No'}\")"
   ]
  },
  {
   "cell_type": "markdown",
   "metadata": {},
   "source": [
    "**Ejercicio 10.** Balancea el dataset de acuerdo a la variable a predecir. El balanceamiento lo debes hacer de tal forma que el número de ocurrencias sea un valor intermedio entre el que más tiene y el que menos. "
   ]
  },
  {
   "cell_type": "code",
   "execution_count": 3,
   "metadata": {},
   "outputs": [
    {
     "name": "stdout",
     "output_type": "stream",
     "text": [
      "Nuevo número de registros con diabetes: 8500\n",
      "Nuevo número de registros sin diabetes: 50000\n",
      "Total de registros balanceados: 58500\n"
     ]
    }
   ],
   "source": [
    "import pandas as pd\n",
    "from sklearn.utils import resample\n",
    "\n",
    "# Calcular el número de ocurrencias de cada clase en la variable 'diabetes'\n",
    "num_con_diabetes = df_diabetes[df_diabetes['diabetes'] == 1]\n",
    "num_sin_diabetes = df_diabetes[df_diabetes['diabetes'] == 0]\n",
    "\n",
    "# Calcular el número intermedio entre el grupo con más ocurrencias y el grupo con menos\n",
    "num_intermedio = (len(num_con_diabetes) + len(num_sin_diabetes)) // 2\n",
    "\n",
    "# Realizar undersampling o oversampling según sea necesario\n",
    "if len(num_con_diabetes) > len(num_sin_diabetes):\n",
    "    # Hacer undersampling en el grupo mayoritario (con diabetes)\n",
    "    num_con_diabetes = resample(num_con_diabetes, replace=False, n_samples=num_intermedio, random_state=42)\n",
    "    # El grupo con diabetes ya está reducido a 'num_intermedio' registros\n",
    "elif len(num_sin_diabetes) > len(num_con_diabetes):\n",
    "    # Hacer oversampling en el grupo minoritario (sin diabetes)\n",
    "    num_sin_diabetes = resample(num_sin_diabetes, replace=True, n_samples=num_intermedio, random_state=42)\n",
    "    # El grupo sin diabetes ya está aumentado a 'num_intermedio' registros\n",
    "\n",
    "# Combinar los dos grupos balanceados\n",
    "df_balanceado = pd.concat([num_con_diabetes, num_sin_diabetes])\n",
    "\n",
    "# Mostrar el nuevo balance\n",
    "print(f\"Nuevo número de registros con diabetes: {len(num_con_diabetes)}\")\n",
    "print(f\"Nuevo número de registros sin diabetes: {len(num_sin_diabetes)}\")\n",
    "print(f\"Total de registros balanceados: {len(df_balanceado)}\")"
   ]
  },
  {
   "cell_type": "markdown",
   "metadata": {
    "id": "sePcywd-lL5-"
   },
   "source": [
    "**Ejercicio 11.** Identifica aquellas columnas que tengan más del 3% de sus ocurrencias con valores nulos. "
   ]
  },
  {
   "cell_type": "code",
   "execution_count": 4,
   "metadata": {
    "colab": {
     "base_uri": "https://localhost:8080/"
    },
    "id": "6y6z2strQL6n",
    "outputId": "28ddc75c-36a8-45fc-80b5-27b8744cdc46"
   },
   "outputs": [
    {
     "name": "stdout",
     "output_type": "stream",
     "text": [
      "Series([], dtype: float64)\n"
     ]
    }
   ],
   "source": [
    "# Calcular el porcentaje de valores nulos por columna\n",
    "porcentaje_nulos = df_diabetes.isnull().mean() * 100\n",
    "\n",
    "# Filtrar las columnas que tienen más del 3% de valores nulos\n",
    "columnas_mas_3porciento_nulos = porcentaje_nulos[porcentaje_nulos > 3]\n",
    "\n",
    "# Mostrar las columnas con más del 3% de valores nulos\n",
    "print(columnas_mas_3porciento_nulos)"
   ]
  },
  {
   "cell_type": "markdown",
   "metadata": {},
   "source": [
    "**Ejercicio 12.** Completa los valores nulos de la columna smoking_history con el valor 0. "
   ]
  },
  {
   "cell_type": "code",
   "execution_count": 5,
   "metadata": {},
   "outputs": [
    {
     "name": "stdout",
     "output_type": "stream",
     "text": [
      "0\n"
     ]
    }
   ],
   "source": [
    "# Completar los valores nulos de la columna 'smoking_history' con el valor 0\n",
    "df_diabetes['smoking_history'] = df_diabetes['smoking_history'].fillna(0)\n",
    "\n",
    "# Verificar que se han completado los valores nulos\n",
    "print(df_diabetes['smoking_history'].isnull().sum())  # Debería devolver 0 si no hay valores nulos"
   ]
  },
  {
   "cell_type": "markdown",
   "metadata": {},
   "source": [
    "**Ejercicio 13.** Mostrar aquellas ocurrencias que la hipertension sea 0, que el bmi se encuentre entre 7 y 103, que el blood_glucose_level se encuentre entre 100 y 159, y que sea hombre de menos de 30 años que sufra de alguna enfermedad del corazón. \n",
    "\n",
    "OJO. Únicamente muestralas, no hace falta que modifiques el dataset."
   ]
  },
  {
   "cell_type": "code",
   "execution_count": 10,
   "metadata": {},
   "outputs": [
    {
     "name": "stdout",
     "output_type": "stream",
     "text": [
      "      gender   age  hypertension  heart_disease smoking_history    bmi  \\\n",
      "47089   Male  10.0             0              1         No Info  29.48   \n",
      "67003   Male  27.0             0              1           never  26.61   \n",
      "76293   Male  12.0             0              1         No Info  16.23   \n",
      "89531   Male   2.0             0              1         No Info  27.42   \n",
      "\n",
      "       HbA1c_level  blood_glucose_level  diabetes  \n",
      "47089          6.0                  158         0  \n",
      "67003          3.5                  130         0  \n",
      "76293          4.5                  100         0  \n",
      "89531          4.5                  100         0  \n"
     ]
    }
   ],
   "source": [
    "# Filtrar las ocurrencias que cumplan con todas las condiciones\n",
    "resultado = df_diabetes[\n",
    "    (df_diabetes['hypertension'] == 0) & \n",
    "    (df_diabetes['bmi'] >= 7) & (df_diabetes['bmi'] <= 103) & \n",
    "    (df_diabetes['blood_glucose_level'] >= 100) & (df_diabetes['blood_glucose_level'] <= 159) & \n",
    "    (df_diabetes['gender'] == 'Male') & \n",
    "    (df_diabetes['age'] < 30) & \n",
    "    (df_diabetes['heart_disease'] == 1)\n",
    "]\n",
    "\n",
    "# Mostrar el resultado\n",
    "print(resultado)"
   ]
  },
  {
   "cell_type": "markdown",
   "metadata": {},
   "source": [
    "**Ejercicio 14**. Divide el dataset en 3 grupos, el primero será el conjunto de entrenamiento y tendrá el 75% de las ocurrencias, el segundo será el conjunto de test con un 15% de las ocurrencias y finalmente el último con un 10% será el conjunto de validación. "
   ]
  },
  {
   "cell_type": "code",
   "execution_count": 11,
   "metadata": {},
   "outputs": [
    {
     "name": "stdout",
     "output_type": "stream",
     "text": [
      "Conjunto de entrenamiento: 75000 ocurrencias\n",
      "Conjunto de test: 15000 ocurrencias\n",
      "Conjunto de validación: 10000 ocurrencias\n"
     ]
    }
   ],
   "source": [
    "from sklearn.model_selection import train_test_split\n",
    "\n",
    "# Dividir el dataset en conjunto de entrenamiento (75%) y el resto (25%)\n",
    "train_data, temp_data = train_test_split(df_diabetes, test_size=0.25, random_state=42)\n",
    "\n",
    "# Dividir el \"resto\" (25%) en conjunto de test (15%) y validación (10%)\n",
    "test_data, validation_data = train_test_split(temp_data, test_size=0.4, random_state=42)\n",
    "\n",
    "# Verificar el tamaño de cada conjunto\n",
    "print(f\"Conjunto de entrenamiento: {train_data.shape[0]} ocurrencias\")\n",
    "print(f\"Conjunto de test: {test_data.shape[0]} ocurrencias\")\n",
    "print(f\"Conjunto de validación: {validation_data.shape[0]} ocurrencias\")"
   ]
  },
  {
   "cell_type": "markdown",
   "metadata": {},
   "source": [
    "**Ejercicio 15**. Comprobar que los tamaños de los datasets concuerdan con el enunciado que he indicado anteriormente. "
   ]
  },
  {
   "cell_type": "code",
   "execution_count": 12,
   "metadata": {},
   "outputs": [
    {
     "name": "stdout",
     "output_type": "stream",
     "text": [
      "Tamaño total del dataset: 100000 ocurrencias\n",
      "Tamaño del conjunto de entrenamiento: 75000 ocurrencias (75.00%)\n",
      "Tamaño del conjunto de test: 15000 ocurrencias (15.00%)\n",
      "Tamaño del conjunto de validación: 10000 ocurrencias (10.00%)\n"
     ]
    }
   ],
   "source": [
    "# Calcular el total de ocurrencias en el dataset original\n",
    "total_data = df_diabetes.shape[0]\n",
    "\n",
    "# Calcular los tamaños de los conjuntos\n",
    "train_size = train_data.shape[0]\n",
    "test_size = test_data.shape[0]\n",
    "validation_size = validation_data.shape[0]\n",
    "\n",
    "# Calcular el porcentaje de cada conjunto\n",
    "train_percentage = (train_size / total_data) * 100\n",
    "test_percentage = (test_size / total_data) * 100\n",
    "validation_percentage = (validation_size / total_data) * 100\n",
    "\n",
    "# Mostrar los resultados\n",
    "print(f\"Tamaño total del dataset: {total_data} ocurrencias\")\n",
    "print(f\"Tamaño del conjunto de entrenamiento: {train_size} ocurrencias ({train_percentage:.2f}%)\")\n",
    "print(f\"Tamaño del conjunto de test: {test_size} ocurrencias ({test_percentage:.2f}%)\")\n",
    "print(f\"Tamaño del conjunto de validación: {validation_size} ocurrencias ({validation_percentage:.2f}%)\")\n"
   ]
  }
 ],
 "metadata": {
  "colab": {
   "collapsed_sections": [
    "-wVJm3ZycO5X",
    "QvlBWrpxfNZn",
    "0akOwJPPfjMd",
    "trQrtkSDfz9R",
    "ep56GLk3f_oS",
    "9ftSVtzug0Fp"
   ],
   "provenance": [],
   "toc_visible": true
  },
  "kernelspec": {
   "display_name": "Python 3 (ipykernel)",
   "language": "python",
   "name": "python3"
  },
  "language_info": {
   "codemirror_mode": {
    "name": "ipython",
    "version": 3
   },
   "file_extension": ".py",
   "mimetype": "text/x-python",
   "name": "python",
   "nbconvert_exporter": "python",
   "pygments_lexer": "ipython3",
   "version": "3.12.3"
  }
 },
 "nbformat": 4,
 "nbformat_minor": 4
}
