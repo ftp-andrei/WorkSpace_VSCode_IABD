{
 "cells": [
  {
   "cell_type": "markdown",
   "metadata": {
    "id": "rxxSwJixoREG"
   },
   "source": [
    "**Ejercicio 1**. Suma acumulativa: Escribe una función que tome una lista de números como argumento y devuelva una nueva lista donde cada elemento sea la suma acumulativa de los elementos anteriores en la lista."
   ]
  },
  {
   "cell_type": "code",
   "execution_count": 1,
   "metadata": {
    "id": "CqzeTEN2oREM"
   },
   "outputs": [
    {
     "name": "stdout",
     "output_type": "stream",
     "text": [
      "[1, 3, 6, 10]\n"
     ]
    }
   ],
   "source": [
    "def sumaAcumulativa(lista):\n",
    "    arrSumaAcumulativa = [] \n",
    "    suma = 0 \n",
    "    for num in lista:\n",
    "        suma = suma + num \n",
    "        arrSumaAcumulativa.append(suma)\n",
    "    print(arrSumaAcumulativa)\n",
    "\n",
    "lista = [1, 2, 3, 4]\n",
    "sumaAcumulativa(lista)\n"
   ]
  },
  {
   "cell_type": "markdown",
   "metadata": {
    "id": "vFsgoehGoREN"
   },
   "source": [
    "**Ejercicio 2**. Número de ocurrencias: Escribe una función que tome una lista y un elemento como argumentos, y devuelva el número de veces que ese elemento aparece en la lista."
   ]
  },
  {
   "cell_type": "code",
   "execution_count": 4,
   "metadata": {
    "id": "C4_Wd1bxoREN"
   },
   "outputs": [
    {
     "name": "stdout",
     "output_type": "stream",
     "text": [
      "El numero 4 aparece 1 veces\n"
     ]
    }
   ],
   "source": [
    "def numOcurrencias(lista,elemento):\n",
    "    suma=0\n",
    "    for i in lista:\n",
    "        if(i==elemento):\n",
    "            suma=suma+1\n",
    "    print(f'El numero {elemento} aparece {suma} veces')\n",
    "\n",
    "\n",
    "lista = [1, 2, 3, 4, 1, 3, 3, 1]\n",
    "elemento = 4\n",
    "\n",
    "numOcurrencias(lista,elemento)"
   ]
  },
  {
   "cell_type": "markdown",
   "metadata": {
    "id": "iB-zjIERoREN"
   },
   "source": [
    "**Ejercicio 3**. Intercambio de elementos: Escribe una función que tome una lista como argumento y devuelva una nueva lista donde el primer elemento y el último estén intercambiados."
   ]
  },
  {
   "cell_type": "code",
   "execution_count": 31,
   "metadata": {
    "id": "q7kxrziDoREN"
   },
   "outputs": [
    {
     "name": "stdout",
     "output_type": "stream",
     "text": [
      "Lista original: [5, 2, 3, 4, 1, 3, 3, 10]\n",
      "Lista modificada: [10, 2, 3, 4, 1, 3, 3, 5]\n"
     ]
    }
   ],
   "source": [
    "def intercambioElementos(lista):\n",
    "    print(f'Lista original: {lista}')\n",
    "    \n",
    "    nuevaLista=lista\n",
    "    aux=lista[len(lista)-1]\n",
    "    nuevaLista[len(lista)-1]=lista[0]\n",
    "    nuevaLista[0]=aux\n",
    "    \n",
    "    print(f'Lista modificada: {nuevaLista}')\n",
    "\n",
    "lista = [5, 2, 3, 4, 1, 3, 3, 10]\n",
    "elemento = 1\n",
    "\n",
    "intercambioElementos(lista)"
   ]
  },
  {
   "cell_type": "markdown",
   "metadata": {
    "id": "c_u78GqyoREO"
   },
   "source": [
    "**Ejercicio 4**. Palabras más cortas: Escribe una función que tome una lista de palabras como argumento y devuelva la palabra más corta."
   ]
  },
  {
   "cell_type": "code",
   "execution_count": 4,
   "metadata": {
    "id": "JGC6dyiAoREO"
   },
   "outputs": [
    {
     "name": "stdout",
     "output_type": "stream",
     "text": [
      "La palabra mas corta es: que\n"
     ]
    }
   ],
   "source": [
    "def palabraMasCorta(lista):\n",
    "    masCorta='a' * 10**4\n",
    "    for i in range(len(lista)):\n",
    "        if(len(lista[i])<len(masCorta)):\n",
    "            masCorta=lista[i]\n",
    "            \n",
    "    print(f'La palabra mas corta es: {masCorta}')\n",
    "\n",
    "lista = ['hola','que','tal','estas','hoy']\n",
    "elemento = 1\n",
    "\n",
    "palabraMasCorta(lista)"
   ]
  },
  {
   "cell_type": "markdown",
   "metadata": {
    "id": "b36l-aRyoREO"
   },
   "source": [
    "**Ejercicio 5**. Lista sin elementos repetidos: Escribe una función que tome una lista como argumento y devuelva una nueva lista sin elementos repetidos, manteniendo el orden original."
   ]
  },
  {
   "cell_type": "code",
   "execution_count": 24,
   "metadata": {
    "id": "mTtGgPF6oREO"
   },
   "outputs": [
    {
     "data": {
      "text/plain": [
       "['hola', 'X', 'hoy']"
      ]
     },
     "execution_count": 24,
     "metadata": {},
     "output_type": "execute_result"
    }
   ],
   "source": [
    "def elementosSinRepetir(lista):\n",
    "\n",
    "    listaSinRepetir = []\n",
    "\n",
    "    for elemento in lista:\n",
    "        if elemento not in listaSinRepetir:\n",
    "            listaSinRepetir.append(elemento)\n",
    "\n",
    "    return listaSinRepetir\n",
    "\n",
    "lista = ['hola','X','hola','hola','hoy']\n",
    "elemento = 1\n",
    "\n",
    "elementosSinRepetir(lista)"
   ]
  },
  {
   "cell_type": "markdown",
   "metadata": {
    "id": "tBbnGd1MoREP"
   },
   "source": [
    "**Ejercicio 6**. Concatenar y ordenar: Escribe una función que tome dos listas de números como argumentos, las concatene y devuelva una nueva lista ordenada de forma ascendente."
   ]
  },
  {
   "cell_type": "code",
   "execution_count": 7,
   "metadata": {
    "id": "st-TOZfvoREP"
   },
   "outputs": [
    {
     "name": "stdout",
     "output_type": "stream",
     "text": [
      "Lista 1:  [10, 9, 3, 7, 5]\n",
      "Lista 2:  [6, 4, 8, 2, 1]\n",
      "Lista 3:  [1, 2, 3, 4, 5, 6, 7, 8, 9, 10]\n"
     ]
    }
   ],
   "source": [
    "def concatenarOrdena(lista1,lista2):\n",
    "    lista3 = lista1 + lista2\n",
    "    lista3.sort()\n",
    "    print(\"Lista 1: \", lista1)\n",
    "    print(\"Lista 2: \", lista2)\n",
    "    print(\"Lista 3: \", lista3)\n",
    "lista1 = [10, 9, 3, 7, 5]\n",
    "lista2 = [6, 4, 8, 2, 1]\n",
    "\n",
    "concatenarOrdena(lista1, lista2)\n",
    "\n"
   ]
  },
  {
   "cell_type": "markdown",
   "metadata": {
    "id": "9ttCa16ioREP"
   },
   "source": [
    "**Ejercicio 7**. Escribe una función que tome una lista y un elemento como argumentos, y devuelva una lista con los índices donde se encuentra ese elemento en la lista."
   ]
  },
  {
   "cell_type": "code",
   "execution_count": 127,
   "metadata": {
    "id": "OZvgIgrOoREP"
   },
   "outputs": [
    {
     "name": "stdout",
     "output_type": "stream",
     "text": [
      "Lista: [1, 2, 3, 4, 1, 2, 3]\n"
     ]
    },
    {
     "data": {
      "text/plain": [
       "'El elemento 1 se encuentra en los indices: [0, 4]'"
      ]
     },
     "execution_count": 127,
     "metadata": {},
     "output_type": "execute_result"
    }
   ],
   "source": [
    "def indicesLista(lista,elemento):\n",
    "    print(f'Lista: {lista}')\n",
    "    indicesLista=[]\n",
    "    for i in range(len(lista)):\n",
    "        if lista[i] == elemento:\n",
    "            indicesLista.append(i)\n",
    "    return f'El elemento {elemento} se encuentra en los indices: {indicesLista}'\n",
    "\n",
    "lista= [1,2,3,4,1,2,3]\n",
    "elemento= 1\n",
    "\n",
    "indicesLista(lista,elemento)\n",
    "    "
   ]
  },
  {
   "cell_type": "markdown",
   "metadata": {
    "id": "xI078A9AoREP"
   },
   "source": [
    "**Ejercicio 8**. Promedio de elementos: Escribe una función que tome una lista de números como argumento y devuelva el promedio de los elementos."
   ]
  },
  {
   "cell_type": "code",
   "execution_count": 17,
   "metadata": {
    "id": "Qa7e5M2UoREQ"
   },
   "outputs": [
    {
     "data": {
      "text/plain": [
       "3.875"
      ]
     },
     "execution_count": 17,
     "metadata": {},
     "output_type": "execute_result"
    }
   ],
   "source": [
    "def promedio(lista):\n",
    "    suma=0\n",
    "    for i in lista:\n",
    "        suma=suma+i\n",
    "    return suma/len(lista)\n",
    "\n",
    "lista = [5,6,1,3,5,7,1,3]\n",
    "promedio(lista)"
   ]
  },
  {
   "cell_type": "markdown",
   "metadata": {
    "id": "lC2k3mbVoREQ"
   },
   "source": [
    "**Ejercicio 9**. Palíndromos: Escribe una función que tome una lista de palabras como argumento y devuelva una lista con las palabras que son palíndromos (se leen igual de izquierda a derecha y de derecha a izquierda)."
   ]
  },
  {
   "cell_type": "code",
   "execution_count": 126,
   "metadata": {
    "id": "nms30bVZoREQ"
   },
   "outputs": [
    {
     "data": {
      "text/plain": [
       "[('hola', 'aloh'), ('si', 'is')]"
      ]
     },
     "execution_count": 126,
     "metadata": {},
     "output_type": "execute_result"
    }
   ],
   "source": [
    "def palindromo(lista):\n",
    "    palindromosLista = []\n",
    "    for i in range(len(lista)):\n",
    "        for j in range(i + 1, len(lista)): \n",
    "            if lista[i] == lista[j][::-1]:\n",
    "                palindromosLista.append((lista[i], lista[j]))\n",
    "    return palindromosLista\n",
    "        \n",
    "\n",
    "lista = ['hola', 'que', 'si', 'aloh', 'is']\n",
    "palindromo(lista)\n",
    "\n"
   ]
  },
  {
   "cell_type": "markdown",
   "metadata": {
    "id": "xG10i8lXoREQ"
   },
   "source": [
    "**Ejercicio 10**. Duplicar elementos: Escribe una función que tome una lista como argumento y devuelva una nueva lista donde cada elemento se duplica."
   ]
  },
  {
   "cell_type": "code",
   "execution_count": 28,
   "metadata": {
    "id": "JF-o2mI1oREQ"
   },
   "outputs": [
    {
     "data": {
      "text/plain": [
       "[1, 1, 2, 2, 3, 3, 4, 4, 5, 5]"
      ]
     },
     "execution_count": 28,
     "metadata": {},
     "output_type": "execute_result"
    }
   ],
   "source": [
    "def duplicarElementos(lista):\n",
    "    duplicaLista = lista*2\n",
    "    duplicaLista.sort()\n",
    "    return duplicaLista\n",
    "lista = [1,2,3,4,5]\n",
    "duplicarElementos(lista)"
   ]
  },
  {
   "cell_type": "markdown",
   "metadata": {
    "id": "qBcCYn0koREQ"
   },
   "source": [
    "**Ejercicio 11**. Suma de elementos: Escribe una función que tome una tupla de números como argumento y devuelva la suma de todos los elementos de la tupla."
   ]
  },
  {
   "cell_type": "code",
   "execution_count": 30,
   "metadata": {
    "id": "1uCN9B0yoRER"
   },
   "outputs": [
    {
     "data": {
      "text/plain": [
       "'La suma es 15'"
      ]
     },
     "execution_count": 30,
     "metadata": {},
     "output_type": "execute_result"
    }
   ],
   "source": [
    "def sumaElementos(lista):\n",
    "    suma=0\n",
    "    for i in lista:\n",
    "        suma=suma+i\n",
    "    return f'La suma es {suma}'\n",
    "\n",
    "lista=[1,5,1,2,3,3]\n",
    "sumaElementos(lista)"
   ]
  },
  {
   "cell_type": "markdown",
   "metadata": {
    "id": "TpCfjKvaoRER"
   },
   "source": [
    "**Ejercicio 12**. Número máximo y mínimo: Escribe una función que tome una tupla de números como argumento y devuelva el número máximo y mínimo de la tupla."
   ]
  },
  {
   "cell_type": "code",
   "execution_count": 125,
   "metadata": {
    "id": "epK1LDx9oRER"
   },
   "outputs": [
    {
     "data": {
      "text/plain": [
       "'El maximo es 31 y el minimo -1'"
      ]
     },
     "execution_count": 125,
     "metadata": {},
     "output_type": "execute_result"
    }
   ],
   "source": [
    "def buscaMinMax(lista):\n",
    "    min = lista[0]\n",
    "    max = lista[0]\n",
    "    for i in range(len(lista)):\n",
    "        if lista[i] < min:\n",
    "            min = lista[i]\n",
    "        if lista[i] > max:\n",
    "            max = lista[i]\n",
    "    return f'El maximo es {max} y el minimo {min}'\n",
    "\n",
    "lista=[4,6,10,0,2,-1,31,0]\n",
    "buscaMinMax(lista)"
   ]
  },
  {
   "cell_type": "markdown",
   "metadata": {
    "id": "KFeKpFGNoRER"
   },
   "source": [
    "**Ejercicio 13**. Contar elementos: Escribe una función que tome una tupla y un elemento como argumentos, y devuelva el número de veces que ese elemento aparece en la tupla."
   ]
  },
  {
   "cell_type": "code",
   "execution_count": 123,
   "metadata": {
    "id": "5CmhWNjIoRER"
   },
   "outputs": [
    {
     "data": {
      "text/plain": [
       "2"
      ]
     },
     "execution_count": 123,
     "metadata": {},
     "output_type": "execute_result"
    }
   ],
   "source": [
    "def contarElementos(lista,elemento):\n",
    "    contador = 0\n",
    "    for i in lista:\n",
    "        if i == elemento:\n",
    "            contador += 1\n",
    "    return contador\n",
    "lista= [1,'b',3,4,5,6,'ñ',8,9,'','1',2,3,'z',5,6,'b',8,9,'*']\n",
    "contarElementos(lista, 'b')\n",
    "# ¿si es string cuenta como numero de vez que aparece?"
   ]
  },
  {
   "cell_type": "markdown",
   "metadata": {
    "id": "wYIcJTadoRER"
   },
   "source": [
    "**Ejercicio 14**. Concatenar tuplas: Escribe una función que tome dos tuplas como argumentos y devuelva una nueva tupla que contenga todos los elementos de ambas tuplas."
   ]
  },
  {
   "cell_type": "code",
   "execution_count": 110,
   "metadata": {
    "id": "lu829bVUoRES"
   },
   "outputs": [
    {
     "data": {
      "text/plain": [
       "[1, 'ñ', 3, '', 5, 6, 'adssa', ' ', 9, 10]"
      ]
     },
     "execution_count": 110,
     "metadata": {},
     "output_type": "execute_result"
    }
   ],
   "source": [
    "def concatenarTuplas(lista1,lista2):\n",
    "    lista3 = lista1 + lista2\n",
    "    return lista3   \n",
    "\n",
    "lista1=[1,'ñ',3,'',5]\n",
    "lista2=[6,'adssa',' ',9,10]\n",
    "concatenarTuplas(lista1, lista2)"
   ]
  },
  {
   "cell_type": "markdown",
   "metadata": {
    "id": "WPu-11T0oRES"
   },
   "source": [
    "**Ejercicio 15**. Tamaño de la tupla: Escribe una función que tome una tupla como argumento y devuelva el número de elementos que contiene."
   ]
  },
  {
   "cell_type": "code",
   "execution_count": 114,
   "metadata": {
    "id": "hV8BCA43oRES"
   },
   "outputs": [
    {
     "name": "stdout",
     "output_type": "stream",
     "text": [
      "5\n"
     ]
    }
   ],
   "source": [
    "def tamanoTupla(lista):\n",
    "    return len(lista)\n",
    "lista = (-2,'@','ñ','',5)\n",
    "tamanoTupla(lista)"
   ]
  },
  {
   "cell_type": "markdown",
   "metadata": {
    "id": "G_3E56iCoRES"
   },
   "source": [
    "**Ejercicio 16**. Tupla al revés: Escribe una función que tome una tupla como argumento y devuelva una nueva tupla con los elementos en orden inverso."
   ]
  },
  {
   "cell_type": "code",
   "execution_count": 117,
   "metadata": {
    "id": "yuDm9xjFoRES"
   },
   "outputs": [
    {
     "data": {
      "text/plain": [
       "[10, 9, 8, 7, 6, 5, 4, 3, 2, 1]"
      ]
     },
     "execution_count": 117,
     "metadata": {},
     "output_type": "execute_result"
    }
   ],
   "source": [
    "def tuplaAlReves(lista):\n",
    "    return lista[::-1]\n",
    "\n",
    "lista = [1, 2, 3, 4, 5, 6, 7, 8, 9, 10]\n",
    "tuplaAlReves(lista)"
   ]
  },
  {
   "cell_type": "markdown",
   "metadata": {
    "id": "YN1AL2swoRES"
   },
   "source": [
    "**Ejercicio 17**. Índices de elementos: Escribe una función que tome una tupla y un elemento como argumentos, y devuelva una lista con los índices donde se encuentra ese elemento en la tupla."
   ]
  },
  {
   "cell_type": "code",
   "execution_count": null,
   "metadata": {
    "id": "oWTk0qC3oRET"
   },
   "outputs": [],
   "source": []
  },
  {
   "cell_type": "markdown",
   "metadata": {
    "id": "A-ihmg0WoRET"
   },
   "source": [
    "**Ejercicio 18**. Eliminar elementos específicos: Escribe una función que tome una tupla y un elemento como argumentos, y devuelva una nueva tupla donde se eliminan todas las ocurrencias de ese elemento."
   ]
  },
  {
   "cell_type": "code",
   "execution_count": null,
   "metadata": {
    "id": "ezXXIIx-oRET"
   },
   "outputs": [],
   "source": []
  },
  {
   "cell_type": "markdown",
   "metadata": {
    "id": "w12YBfs0oRET"
   },
   "source": [
    "**Ejercicio 19**. Subtupla: Escribe una función que tome una tupla y dos índices como argumentos, y devuelva una nueva tupla que contenga los elementos desde el primer índice (incluido) hasta el segundo índice (excluido)."
   ]
  },
  {
   "cell_type": "code",
   "execution_count": null,
   "metadata": {
    "id": "qUA_c_yDoREU"
   },
   "outputs": [],
   "source": []
  },
  {
   "cell_type": "markdown",
   "metadata": {
    "id": "8THs_4nVoREU"
   },
   "source": [
    "**Ejercicio 20**. Unión de tuplas: Escribe una función que tome una lista de tuplas como argumento y devuelva una nueva tupla que contenga todos los elementos de las tuplas originales."
   ]
  },
  {
   "cell_type": "code",
   "execution_count": null,
   "metadata": {
    "id": "6_aBtLy6oREU"
   },
   "outputs": [],
   "source": []
  },
  {
   "cell_type": "markdown",
   "metadata": {
    "id": "Olx5EiUDb5pI"
   },
   "source": [
    "**Ejercicio 21**. Crear un diccionario que utilice como claves nombres de personas y como valor un número (este número puede representar las personas de clase que se llaman asi)."
   ]
  },
  {
   "cell_type": "code",
   "execution_count": null,
   "metadata": {
    "id": "CDHjAXtFcEvw"
   },
   "outputs": [],
   "source": []
  },
  {
   "cell_type": "markdown",
   "metadata": {
    "id": "wqjQCYcrczI2"
   },
   "source": [
    "**Ejercicio 21.a.** Agrega una nueva entrada al diccionario, la nueva entrada será un nombre (que no exista ya en el diccionario) y un entero."
   ]
  },
  {
   "cell_type": "code",
   "execution_count": 7,
   "metadata": {
    "executionInfo": {
     "elapsed": 418,
     "status": "ok",
     "timestamp": 1706117351132,
     "user": {
      "displayName": "Carlos Sáenz Adán",
      "userId": "11771268543856387653"
     },
     "user_tz": -60
    },
    "id": "EyXi-XQMc3bW"
   },
   "outputs": [],
   "source": []
  },
  {
   "cell_type": "markdown",
   "metadata": {
    "id": "6D52352Wc2U-"
   },
   "source": [
    "**Ejercicio 21.b.** Modifica el valor entero que has asignado en el anterior ejercicio por otro valor entero y comprueba que se ha cambiado."
   ]
  },
  {
   "cell_type": "code",
   "execution_count": null,
   "metadata": {
    "id": "s5AN4ikndWlm"
   },
   "outputs": [],
   "source": []
  },
  {
   "cell_type": "markdown",
   "metadata": {
    "id": "xR4Ypb0tc2zH"
   },
   "source": [
    "**Ejercicio 21.c.** Calcula la suma de todos los valores enteros asociados a los nombres."
   ]
  },
  {
   "cell_type": "code",
   "execution_count": null,
   "metadata": {
    "id": "dwQm_-H_g3Xk"
   },
   "outputs": [],
   "source": []
  },
  {
   "cell_type": "markdown",
   "metadata": {
    "id": "aq7ZusYAb6j_"
   },
   "source": [
    "**Ejercicio 22**.  Dado un diccionario con nombres y edades, filtrar aquellos cuya edad sea mayor que 25."
   ]
  },
  {
   "cell_type": "code",
   "execution_count": null,
   "metadata": {
    "id": "gpws5KzGcFpW"
   },
   "outputs": [],
   "source": []
  },
  {
   "cell_type": "markdown",
   "metadata": {
    "id": "19vLHZLfb6-i"
   },
   "source": [
    "**Ejercicio 23**. Crea una función que dada una frase, devuelva un diccionario en el que aparezca cuántas veces aparece cada palabra."
   ]
  },
  {
   "cell_type": "code",
   "execution_count": 15,
   "metadata": {
    "executionInfo": {
     "elapsed": 239,
     "status": "ok",
     "timestamp": 1706117756007,
     "user": {
      "displayName": "Carlos Sáenz Adán",
      "userId": "11771268543856387653"
     },
     "user_tz": -60
    },
    "id": "_7oH2a7scGN3"
   },
   "outputs": [],
   "source": []
  },
  {
   "cell_type": "markdown",
   "metadata": {
    "id": "FzxIxTurb7HO"
   },
   "source": [
    "**Ejercicio 24**. Crea una función en la que dado un diccionario cuya clave es el nombre de un producto y el valor su precio, devuelva un diccionario con aquellos productos cuyo precio sea menor de 20."
   ]
  },
  {
   "cell_type": "code",
   "execution_count": 25,
   "metadata": {
    "executionInfo": {
     "elapsed": 256,
     "status": "ok",
     "timestamp": 1706117928951,
     "user": {
      "displayName": "Carlos Sáenz Adán",
      "userId": "11771268543856387653"
     },
     "user_tz": -60
    },
    "id": "HTktH7B-cGlH"
   },
   "outputs": [],
   "source": []
  }
 ],
 "metadata": {
  "colab": {
   "provenance": []
  },
  "kernelspec": {
   "display_name": "Python 3",
   "language": "python",
   "name": "python3"
  },
  "language_info": {
   "codemirror_mode": {
    "name": "ipython",
    "version": 3
   },
   "file_extension": ".py",
   "mimetype": "text/x-python",
   "name": "python",
   "nbconvert_exporter": "python",
   "pygments_lexer": "ipython3",
   "version": "3.13.0"
  },
  "toc": {
   "base_numbering": 1,
   "nav_menu": {
    "height": "462px",
    "width": "608px"
   },
   "number_sections": true,
   "sideBar": true,
   "skip_h1_title": false,
   "title_cell": "Contenido",
   "title_sidebar": "Contents",
   "toc_cell": true,
   "toc_position": {},
   "toc_section_display": true,
   "toc_window_display": false
  }
 },
 "nbformat": 4,
 "nbformat_minor": 4
}
