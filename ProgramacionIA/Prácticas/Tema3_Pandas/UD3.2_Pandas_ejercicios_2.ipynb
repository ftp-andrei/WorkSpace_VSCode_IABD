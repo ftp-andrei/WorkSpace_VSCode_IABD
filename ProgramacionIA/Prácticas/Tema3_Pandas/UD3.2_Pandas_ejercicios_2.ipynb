{
 "cells": [
  {
   "cell_type": "code",
   "execution_count": 14,
   "metadata": {},
   "outputs": [
    {
     "data": {
      "text/html": [
       "<div>\n",
       "<style scoped>\n",
       "    .dataframe tbody tr th:only-of-type {\n",
       "        vertical-align: middle;\n",
       "    }\n",
       "\n",
       "    .dataframe tbody tr th {\n",
       "        vertical-align: top;\n",
       "    }\n",
       "\n",
       "    .dataframe thead th {\n",
       "        text-align: right;\n",
       "    }\n",
       "</style>\n",
       "<table border=\"1\" class=\"dataframe\">\n",
       "  <thead>\n",
       "    <tr style=\"text-align: right;\">\n",
       "      <th></th>\n",
       "      <th>city</th>\n",
       "      <th>year</th>\n",
       "      <th>population</th>\n",
       "    </tr>\n",
       "  </thead>\n",
       "  <tbody>\n",
       "    <tr>\n",
       "      <th>one</th>\n",
       "      <td>Mumbai</td>\n",
       "      <td>2010</td>\n",
       "      <td>10.0</td>\n",
       "    </tr>\n",
       "    <tr>\n",
       "      <th>two</th>\n",
       "      <td>Mumbai</td>\n",
       "      <td>2011</td>\n",
       "      <td>10.1</td>\n",
       "    </tr>\n",
       "    <tr>\n",
       "      <th>three</th>\n",
       "      <td>Mumbai</td>\n",
       "      <td>2012</td>\n",
       "      <td>10.2</td>\n",
       "    </tr>\n",
       "    <tr>\n",
       "      <th>four</th>\n",
       "      <td>Hyderabad</td>\n",
       "      <td>2010</td>\n",
       "      <td>5.2</td>\n",
       "    </tr>\n",
       "    <tr>\n",
       "      <th>five</th>\n",
       "      <td>Hyderabad</td>\n",
       "      <td>2011</td>\n",
       "      <td>5.3</td>\n",
       "    </tr>\n",
       "    <tr>\n",
       "      <th>six</th>\n",
       "      <td>Hyderabad</td>\n",
       "      <td>2012</td>\n",
       "      <td>5.5</td>\n",
       "    </tr>\n",
       "  </tbody>\n",
       "</table>\n",
       "</div>"
      ],
      "text/plain": [
       "            city  year  population\n",
       "one       Mumbai  2010        10.0\n",
       "two       Mumbai  2011        10.1\n",
       "three     Mumbai  2012        10.2\n",
       "four   Hyderabad  2010         5.2\n",
       "five   Hyderabad  2011         5.3\n",
       "six    Hyderabad  2012         5.5"
      ]
     },
     "execution_count": 14,
     "metadata": {},
     "output_type": "execute_result"
    }
   ],
   "source": [
    "import pandas as pd\n",
    "import numpy as np\n",
    "\n",
    "data = {'city': ['Mumbai', 'Mumbai', 'Mumbai', 'Hyderabad', 'Hyderabad', 'Hyderabad'],\n",
    "        'year': [2010, 2011, 2012, 2010, 2011, 2012,],\n",
    "        'population': [10.0, 10.1, 10.2, 5.2, 5.3, 5.5]}\n",
    "\n",
    "df_ejercicios = pd.DataFrame(data,index = ['one', 'two', 'three', 'four', 'five', 'six'])\n",
    "df_ejercicios"
   ]
  },
  {
   "cell_type": "markdown",
   "metadata": {
    "id": "uKLU6kjEqAfI"
   },
   "source": [
    "**Ejercicio 1.** Escribe un programa que muestre las 3 primeras filas de df_ejercicios"
   ]
  },
  {
   "cell_type": "code",
   "execution_count": 3,
   "metadata": {
    "id": "pdE7V5vAAzXU"
   },
   "outputs": [
    {
     "data": {
      "text/html": [
       "<div>\n",
       "<style scoped>\n",
       "    .dataframe tbody tr th:only-of-type {\n",
       "        vertical-align: middle;\n",
       "    }\n",
       "\n",
       "    .dataframe tbody tr th {\n",
       "        vertical-align: top;\n",
       "    }\n",
       "\n",
       "    .dataframe thead th {\n",
       "        text-align: right;\n",
       "    }\n",
       "</style>\n",
       "<table border=\"1\" class=\"dataframe\">\n",
       "  <thead>\n",
       "    <tr style=\"text-align: right;\">\n",
       "      <th></th>\n",
       "      <th>city</th>\n",
       "      <th>year</th>\n",
       "      <th>population</th>\n",
       "    </tr>\n",
       "  </thead>\n",
       "  <tbody>\n",
       "    <tr>\n",
       "      <th>one</th>\n",
       "      <td>Mumbai</td>\n",
       "      <td>2010</td>\n",
       "      <td>10.0</td>\n",
       "    </tr>\n",
       "    <tr>\n",
       "      <th>two</th>\n",
       "      <td>Mumbai</td>\n",
       "      <td>2011</td>\n",
       "      <td>10.1</td>\n",
       "    </tr>\n",
       "    <tr>\n",
       "      <th>three</th>\n",
       "      <td>Mumbai</td>\n",
       "      <td>2012</td>\n",
       "      <td>10.2</td>\n",
       "    </tr>\n",
       "  </tbody>\n",
       "</table>\n",
       "</div>"
      ],
      "text/plain": [
       "         city  year  population\n",
       "one    Mumbai  2010        10.0\n",
       "two    Mumbai  2011        10.1\n",
       "three  Mumbai  2012        10.2"
      ]
     },
     "execution_count": 3,
     "metadata": {},
     "output_type": "execute_result"
    }
   ],
   "source": [
    "df_ejercicios.head(3)"
   ]
  },
  {
   "cell_type": "markdown",
   "metadata": {
    "id": "lKoQISrDzX1W"
   },
   "source": [
    "**Ejericicio 2 .** Crea una función que dado un dataframe y el nombre de una columna, muestre los valores de dicha columna. "
   ]
  },
  {
   "cell_type": "code",
   "execution_count": 6,
   "metadata": {
    "id": "jkOXvyZVzoTX"
   },
   "outputs": [
    {
     "name": "stdout",
     "output_type": "stream",
     "text": [
      "one         Mumbai\n",
      "two         Mumbai\n",
      "three       Mumbai\n",
      "four     Hyderabad\n",
      "five     Hyderabad\n",
      "six      Hyderabad\n",
      "Name: city, dtype: object\n"
     ]
    }
   ],
   "source": [
    "def mostrar_columna(dataframe, columna):\n",
    "    # Verifica si la columna existe en el DataFrame\n",
    "    if columna in dataframe.columns:\n",
    "        # Muestra los valores de la columna\n",
    "        print(dataframe[columna])\n",
    "    else:\n",
    "        print(f\"La columna '{columna}' no existe en el DataFrame.\")\n",
    "\n",
    "mostrar_columna(df_ejercicios, 'city')"
   ]
  },
  {
   "cell_type": "markdown",
   "metadata": {
    "id": "o8WVswrHy3KV"
   },
   "source": [
    "**Ejercicio 3.** Crea una función que dado un dataframe y el nombre de un índice, muestre los valores de dicha fila."
   ]
  },
  {
   "cell_type": "code",
   "execution_count": 9,
   "metadata": {
    "id": "uEZL6FmOduq8"
   },
   "outputs": [
    {
     "name": "stdout",
     "output_type": "stream",
     "text": [
      "city          Mumbai\n",
      "year            2011\n",
      "population      10.1\n",
      "Name: two, dtype: object\n"
     ]
    }
   ],
   "source": [
    "def mostrar_fila(dataframe, indice):\n",
    "    # Verifica si el índice existe en el DataFrame\n",
    "    if indice in dataframe.index:\n",
    "        # Muestra los valores de la fila correspondiente al índice\n",
    "        print(dataframe.loc[indice])\n",
    "    else:\n",
    "        print(f\"El índice '{indice}' no existe en el DataFrame.\")\n",
    "\n",
    "mostrar_fila(df_ejercicios, 'two')"
   ]
  },
  {
   "cell_type": "markdown",
   "metadata": {
    "id": "75CNb95pK8Ne"
   },
   "source": [
    "**Ejercicio 4.** Crea una función que dado un dataframe y un array de índices, muestre los valores de dichas filas."
   ]
  },
  {
   "cell_type": "code",
   "execution_count": 13,
   "metadata": {
    "id": "67b-_qChK887"
   },
   "outputs": [
    {
     "name": "stdout",
     "output_type": "stream",
     "text": [
      "         city  year  population\n",
      "one    Mumbai  2010        10.0\n",
      "three  Mumbai  2012        10.2\n",
      "Los siguientes índices no existen en el DataFrame: [3, 7, 9]\n"
     ]
    }
   ],
   "source": [
    "\n",
    "def mostrar_filas(dataframe, indices):\n",
    "    # Verifica si los índices existen en el DataFrame\n",
    "    indices_existentes = [indice for indice in indices if indice in dataframe.index]\n",
    "    indices_no_existentes = [indice for indice in indices if indice not in dataframe.index]\n",
    "\n",
    "    # Muestra las filas correspondientes a los índices existentes\n",
    "    if indices_existentes:\n",
    "        print(dataframe.loc[indices_existentes])\n",
    "    \n",
    "    # Mensaje para los índices que no existen en el DataFrame\n",
    "    if indices_no_existentes:\n",
    "        print(f\"Los siguientes índices no existen en el DataFrame: {indices_no_existentes}\")\n",
    "\n",
    "\n",
    "mostrar_filas(df_ejercicios, ['one', 3, 'three', 7, 9])"
   ]
  },
  {
   "cell_type": "markdown",
   "metadata": {
    "id": "uIVZdmb6L9Nw"
   },
   "source": [
    "**Ejercicio 5.** Escribe un programa que modifique la columna population con valores obtenidos aleatoriamente entre 5 y 10."
   ]
  },
  {
   "cell_type": "code",
   "execution_count": 21,
   "metadata": {
    "id": "GRZw4vyQLBa6"
   },
   "outputs": [
    {
     "data": {
      "text/html": [
       "<div>\n",
       "<style scoped>\n",
       "    .dataframe tbody tr th:only-of-type {\n",
       "        vertical-align: middle;\n",
       "    }\n",
       "\n",
       "    .dataframe tbody tr th {\n",
       "        vertical-align: top;\n",
       "    }\n",
       "\n",
       "    .dataframe thead th {\n",
       "        text-align: right;\n",
       "    }\n",
       "</style>\n",
       "<table border=\"1\" class=\"dataframe\">\n",
       "  <thead>\n",
       "    <tr style=\"text-align: right;\">\n",
       "      <th></th>\n",
       "      <th>city</th>\n",
       "      <th>year</th>\n",
       "      <th>population</th>\n",
       "    </tr>\n",
       "  </thead>\n",
       "  <tbody>\n",
       "    <tr>\n",
       "      <th>one</th>\n",
       "      <td>Mumbai</td>\n",
       "      <td>2010</td>\n",
       "      <td>8.119936</td>\n",
       "    </tr>\n",
       "    <tr>\n",
       "      <th>two</th>\n",
       "      <td>Mumbai</td>\n",
       "      <td>2011</td>\n",
       "      <td>8.646731</td>\n",
       "    </tr>\n",
       "    <tr>\n",
       "      <th>three</th>\n",
       "      <td>Mumbai</td>\n",
       "      <td>2012</td>\n",
       "      <td>5.094922</td>\n",
       "    </tr>\n",
       "    <tr>\n",
       "      <th>four</th>\n",
       "      <td>Hyderabad</td>\n",
       "      <td>2010</td>\n",
       "      <td>7.484502</td>\n",
       "    </tr>\n",
       "    <tr>\n",
       "      <th>five</th>\n",
       "      <td>Hyderabad</td>\n",
       "      <td>2011</td>\n",
       "      <td>8.742753</td>\n",
       "    </tr>\n",
       "  </tbody>\n",
       "</table>\n",
       "</div>"
      ],
      "text/plain": [
       "            city  year  population\n",
       "one       Mumbai  2010    8.119936\n",
       "two       Mumbai  2011    8.646731\n",
       "three     Mumbai  2012    5.094922\n",
       "four   Hyderabad  2010    7.484502\n",
       "five   Hyderabad  2011    8.742753"
      ]
     },
     "execution_count": 21,
     "metadata": {},
     "output_type": "execute_result"
    }
   ],
   "source": [
    "# Supongamos que df_ejercicios es el DataFrame con la columna 'population'\n",
    "# Genera valores aleatorios entre 5 y 10 para toda la columna 'population'\n",
    "df_ejercicios['population'] = np.random.uniform(5, 10, size=len(df_ejercicios))\n",
    "df_ejercicios.head()"
   ]
  },
  {
   "cell_type": "markdown",
   "metadata": {
    "id": "1bZYHS_cMS3I"
   },
   "source": [
    "**Ejercicio 6.** Elimina la columna population.\n"
   ]
  },
  {
   "cell_type": "code",
   "execution_count": 22,
   "metadata": {},
   "outputs": [
    {
     "data": {
      "text/html": [
       "<div>\n",
       "<style scoped>\n",
       "    .dataframe tbody tr th:only-of-type {\n",
       "        vertical-align: middle;\n",
       "    }\n",
       "\n",
       "    .dataframe tbody tr th {\n",
       "        vertical-align: top;\n",
       "    }\n",
       "\n",
       "    .dataframe thead th {\n",
       "        text-align: right;\n",
       "    }\n",
       "</style>\n",
       "<table border=\"1\" class=\"dataframe\">\n",
       "  <thead>\n",
       "    <tr style=\"text-align: right;\">\n",
       "      <th></th>\n",
       "      <th>city</th>\n",
       "      <th>year</th>\n",
       "    </tr>\n",
       "  </thead>\n",
       "  <tbody>\n",
       "    <tr>\n",
       "      <th>one</th>\n",
       "      <td>Mumbai</td>\n",
       "      <td>2010</td>\n",
       "    </tr>\n",
       "    <tr>\n",
       "      <th>two</th>\n",
       "      <td>Mumbai</td>\n",
       "      <td>2011</td>\n",
       "    </tr>\n",
       "    <tr>\n",
       "      <th>three</th>\n",
       "      <td>Mumbai</td>\n",
       "      <td>2012</td>\n",
       "    </tr>\n",
       "    <tr>\n",
       "      <th>four</th>\n",
       "      <td>Hyderabad</td>\n",
       "      <td>2010</td>\n",
       "    </tr>\n",
       "    <tr>\n",
       "      <th>five</th>\n",
       "      <td>Hyderabad</td>\n",
       "      <td>2011</td>\n",
       "    </tr>\n",
       "  </tbody>\n",
       "</table>\n",
       "</div>"
      ],
      "text/plain": [
       "            city  year\n",
       "one       Mumbai  2010\n",
       "two       Mumbai  2011\n",
       "three     Mumbai  2012\n",
       "four   Hyderabad  2010\n",
       "five   Hyderabad  2011"
      ]
     },
     "execution_count": 22,
     "metadata": {},
     "output_type": "execute_result"
    }
   ],
   "source": [
    "# Elimina la columna 'population' del DataFrame\n",
    "df_ejercicios = df_ejercicios.drop('population', axis=1)\n",
    "df_ejercicios.head()"
   ]
  }
 ],
 "metadata": {
  "colab": {
   "provenance": []
  },
  "kernelspec": {
   "display_name": "Python 3",
   "name": "python3"
  },
  "language_info": {
   "codemirror_mode": {
    "name": "ipython",
    "version": 3
   },
   "file_extension": ".py",
   "mimetype": "text/x-python",
   "name": "python",
   "nbconvert_exporter": "python",
   "pygments_lexer": "ipython3",
   "version": "3.13.0"
  }
 },
 "nbformat": 4,
 "nbformat_minor": 0
}
