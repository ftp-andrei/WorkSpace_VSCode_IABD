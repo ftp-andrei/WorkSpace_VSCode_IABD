{
 "cells": [
  {
   "cell_type": "code",
   "execution_count": 2,
   "metadata": {
    "id": "pxtqMA7kp7vl"
   },
   "outputs": [],
   "source": [
    "import numpy as np"
   ]
  },
  {
   "cell_type": "markdown",
   "metadata": {
    "id": "uKLU6kjEqAfI"
   },
   "source": [
    "**Ejercicio 1.** Crear un vector con valores entre 20 a 59"
   ]
  },
  {
   "cell_type": "code",
   "execution_count": 9,
   "metadata": {
    "id": "pdE7V5vAAzXU"
   },
   "outputs": [
    {
     "name": "stdout",
     "output_type": "stream",
     "text": [
      "[20 21 22 23 24 25 26 27 28 29 30 31 32 33 34 35 36 37 38 39 40 41 42 43\n",
      " 44 45 46 47 48 49 50 51 52 53 54 55 56 57 58 59]\n"
     ]
    }
   ],
   "source": [
    "array = np.arange(20,60,1)\n",
    "print(array)"
   ]
  },
  {
   "cell_type": "markdown",
   "metadata": {
    "id": "lKoQISrDzX1W"
   },
   "source": [
    "**Ejericicio 2.** Crear un vector de 25 números aleatorios."
   ]
  },
  {
   "cell_type": "code",
   "execution_count": null,
   "metadata": {
    "id": "jkOXvyZVzoTX"
   },
   "outputs": [
    {
     "name": "stdout",
     "output_type": "stream",
     "text": [
      "[-0.99008238  0.61200692  0.03186282 -0.31162631  1.52699602  1.18673298\n",
      "  1.54538604 -0.78776526  0.02918306 -0.05960632  0.49980329 -0.56948802\n",
      "  0.53284036  0.73909548 -0.34964997  0.86110547 -0.01177411 -0.81213376\n",
      "  0.99090745  0.49389156 -1.6284303  -0.62276647  0.35256906 -1.58759716\n",
      " -0.58097084]\n",
      "[36 69 90 81 64 86 22 47 49 67 56 25 23 24 57  5 98 60 60 47 89 49 47 72\n",
      " 69]\n"
     ]
    }
   ],
   "source": [
    "vector1 = np.random.randn(25)\n",
    "# randint(valorMinimo,valorMaximo,numeroDeValores)\n",
    "vector2 = np.random.randint(0,100,25) \n",
    "print(vector1)\n",
    "print(vector2)"
   ]
  },
  {
   "cell_type": "markdown",
   "metadata": {
    "id": "o8WVswrHy3KV"
   },
   "source": [
    "**Ejercicio 3.** Crear un vector con los números pares comprendidos entre 20-59"
   ]
  },
  {
   "cell_type": "code",
   "execution_count": 12,
   "metadata": {
    "id": "pVF2LY3_mfY0"
   },
   "outputs": [
    {
     "name": "stdout",
     "output_type": "stream",
     "text": [
      "[20 22 24 26 28 30 32 34 36 38 40 42 44 46 48 50 52 54 56 58]\n"
     ]
    }
   ],
   "source": [
    "array = np.arange(20,60,2)\n",
    "print(array)"
   ]
  },
  {
   "cell_type": "markdown",
   "metadata": {
    "id": "SOGO1ofr7W76"
   },
   "source": [
    "**Ejercicio 4.** Crear una matriz 3x3 con valores de 0 a 8"
   ]
  },
  {
   "cell_type": "code",
   "execution_count": null,
   "metadata": {
    "id": "4kBD11qtmf0b"
   },
   "outputs": [
    {
     "name": "stdout",
     "output_type": "stream",
     "text": [
      "[[0 1 2]\n",
      " [3 4 5]\n",
      " [6 7 8]]\n"
     ]
    }
   ],
   "source": [
    "# np.arange(9) genera un arreglo unidimensional con valores del 0 al 8.\n",
    "# .reshape(3, 3) convierte este arreglo en una matriz de 3x3.\n",
    "matriz = np.arange(9).reshape(3, 3)\n",
    "\n",
    "print(matriz)\n"
   ]
  },
  {
   "cell_type": "markdown",
   "metadata": {
    "id": "vXDeVTfVqFFH"
   },
   "source": [
    "**Ejercicio 5.** Crear una matriz 3x3 con valores entre 5 a 15"
   ]
  },
  {
   "cell_type": "code",
   "execution_count": 28,
   "metadata": {
    "id": "pGO8eyuC7Vzg"
   },
   "outputs": [
    {
     "name": "stdout",
     "output_type": "stream",
     "text": [
      "[[ 5  6  7]\n",
      " [ 8  9 10]\n",
      " [11 12 13]]\n"
     ]
    }
   ],
   "source": [
    "matriz = np.arange(5,14,1).reshape(3,3)\n",
    "print(matriz)"
   ]
  },
  {
   "cell_type": "markdown",
   "metadata": {
    "id": "msvHO0tgqLac"
   },
   "source": [
    "**Ejercicio 6.** Crear la matriz identidad de 9x9"
   ]
  },
  {
   "cell_type": "code",
   "execution_count": 31,
   "metadata": {
    "id": "k9cSZgC3midz"
   },
   "outputs": [
    {
     "name": "stdout",
     "output_type": "stream",
     "text": [
      "[[1. 0. 0. 0. 0. 0. 0. 0. 0.]\n",
      " [0. 1. 0. 0. 0. 0. 0. 0. 0.]\n",
      " [0. 0. 1. 0. 0. 0. 0. 0. 0.]\n",
      " [0. 0. 0. 1. 0. 0. 0. 0. 0.]\n",
      " [0. 0. 0. 0. 1. 0. 0. 0. 0.]\n",
      " [0. 0. 0. 0. 0. 1. 0. 0. 0.]\n",
      " [0. 0. 0. 0. 0. 0. 1. 0. 0.]\n",
      " [0. 0. 0. 0. 0. 0. 0. 1. 0.]\n",
      " [0. 0. 0. 0. 0. 0. 0. 0. 1.]]\n",
      "[[0. 0. 0. 0. 0. 0. 0. 0. 1.]\n",
      " [0. 0. 0. 0. 0. 0. 0. 1. 0.]\n",
      " [0. 0. 0. 0. 0. 0. 1. 0. 0.]\n",
      " [0. 0. 0. 0. 0. 1. 0. 0. 0.]\n",
      " [0. 0. 0. 0. 1. 0. 0. 0. 0.]\n",
      " [0. 0. 0. 1. 0. 0. 0. 0. 0.]\n",
      " [0. 0. 1. 0. 0. 0. 0. 0. 0.]\n",
      " [0. 1. 0. 0. 0. 0. 0. 0. 0.]\n",
      " [1. 0. 0. 0. 0. 0. 0. 0. 0.]]\n"
     ]
    }
   ],
   "source": [
    "# Crear una matriz identidad de 9x9\n",
    "matriz_identidad = np.eye(9)\n",
    "print(matriz_identidad) \n",
    "# Invertir la matriz horizontalmente\n",
    "matriz_invertida = np.fliplr(matriz_identidad)\n",
    "print(matriz_invertida)"
   ]
  },
  {
   "cell_type": "markdown",
   "metadata": {
    "id": "ENPJCzMUqTPF"
   },
   "source": [
    "**Ejercicio 7.** Crear una matriz 8x8 con unos en los bordes y ceros en el interior"
   ]
  },
  {
   "cell_type": "code",
   "execution_count": 40,
   "metadata": {
    "id": "a9xeJB1VsX7j"
   },
   "outputs": [
    {
     "name": "stdout",
     "output_type": "stream",
     "text": [
      "[[1. 1. 1. 1. 1. 1. 1. 1.]\n",
      " [1. 0. 0. 0. 0. 0. 0. 1.]\n",
      " [1. 0. 0. 0. 0. 0. 0. 1.]\n",
      " [1. 0. 0. 0. 0. 0. 0. 1.]\n",
      " [1. 0. 0. 0. 0. 0. 0. 1.]\n",
      " [1. 0. 0. 0. 0. 0. 0. 1.]\n",
      " [1. 0. 0. 0. 0. 0. 0. 1.]\n",
      " [1. 1. 1. 1. 1. 1. 1. 1.]]\n"
     ]
    }
   ],
   "source": [
    "# Crear una matriz de 8x8 de unos\n",
    "matriz = np.ones((8, 8))\n",
    "\n",
    "# Colocar ceros en el interior (desde la fila y columna 1 hasta la 6)\n",
    "matriz[1:-1, 1:-1] = 0\n",
    "\n",
    "print(matriz)"
   ]
  },
  {
   "cell_type": "markdown",
   "metadata": {
    "id": "7WXeJKwsFWgO"
   },
   "source": [
    "**Ejercicio 8.** Encontrar los indices que no son ceros del array: [1,2,4,2,4,0,1,0,0,0,12,4,5,6,7,0]"
   ]
  },
  {
   "cell_type": "code",
   "execution_count": 60,
   "metadata": {
    "id": "ABpTFvDSFab7"
   },
   "outputs": [
    {
     "name": "stdout",
     "output_type": "stream",
     "text": [
      "[0, 1, 2, 3, 4, 6, 10, 11, 12, 13, 14]\n"
     ]
    }
   ],
   "source": [
    "array= [1,2,4,2,4,0,1,0,0,0,12,4,5,6,7,0]\n",
    "indices = []\n",
    "for i in range(len(array)):\n",
    "    if array[i] != 0:\n",
    "        indices.append(i)\n",
    "\n",
    "print(indices)"
   ]
  },
  {
   "cell_type": "markdown",
   "metadata": {
    "id": "thAbEucZ70jf"
   },
   "source": [
    "**Ejercicio 9.** Crear dos vectores al azar A y B, verificar si son iguales"
   ]
  },
  {
   "cell_type": "code",
   "execution_count": 59,
   "metadata": {
    "id": "C2wkHrvJ7x9f"
   },
   "outputs": [
    {
     "name": "stdout",
     "output_type": "stream",
     "text": [
      "[-0.40802337 -1.55883687  1.35997356  1.07030653 -2.73276753]\n",
      "[ 1.05788198 -0.98357106  0.60196593 -0.12335537 -0.45700467]\n",
      "False\n"
     ]
    }
   ],
   "source": [
    "vectorA= np.random.randn(5)\n",
    "print(vectorA)\n",
    "vectorB= np.random.randn(5)\n",
    "print(vectorB)\n",
    "iguales = np.array_equal(vectorA,vectorB)\n",
    "print(iguales)"
   ]
  },
  {
   "cell_type": "markdown",
   "metadata": {
    "id": "8r8zOWmmyVdJ"
   },
   "source": [
    "**Ejercicio 10.** Dada una matriz cualquier sumar todos sus elementos"
   ]
  },
  {
   "cell_type": "code",
   "execution_count": null,
   "metadata": {
    "id": "8R7ieU0O01Uy"
   },
   "outputs": [],
   "source": []
  },
  {
   "cell_type": "markdown",
   "metadata": {
    "id": "XZBoHQo7yaHE"
   },
   "source": [
    "**Ejercicio 11.**  Genera un array de los primeros 23 números pares."
   ]
  },
  {
   "cell_type": "code",
   "execution_count": 41,
   "metadata": {
    "id": "S5FzMTZUmtax"
   },
   "outputs": [
    {
     "name": "stdout",
     "output_type": "stream",
     "text": [
      "[ 0  2  4  6  8 10 12 14 16 18 20 22 24 26 28 30 32 34 36 38 40 42 44]\n"
     ]
    }
   ],
   "source": [
    "# Comienza en 0, termina en 23*2 (46), y saltos de 2 en 2\n",
    "array = np.arange(0, 23 * 2, 2)\n",
    "print(array)"
   ]
  },
  {
   "cell_type": "markdown",
   "metadata": {
    "id": "C1vONgRHyZ1n"
   },
   "source": [
    "**Ejercicio 12.** Escribe un programa para crar una comparación elemento a elemento de dos matrices dadas."
   ]
  },
  {
   "cell_type": "code",
   "execution_count": null,
   "metadata": {
    "id": "2ZwmkYxScRR3"
   },
   "outputs": [],
   "source": []
  },
  {
   "cell_type": "markdown",
   "metadata": {
    "id": "6q1fDIafyZ8o"
   },
   "source": [
    "**Ejercicio 13.** Escribe un programa  para crear una matriz cero 5x5 con elementos en la diagonal principal iguales a 1, 2, 3, 4, 5."
   ]
  },
  {
   "cell_type": "code",
   "execution_count": 1,
   "metadata": {
    "id": "P-yLdp8ichsI"
   },
   "outputs": [],
   "source": []
  }
 ],
 "metadata": {
  "colab": {
   "provenance": []
  },
  "kernelspec": {
   "display_name": "Python 3 (ipykernel)",
   "language": "python",
   "name": "python3"
  },
  "language_info": {
   "codemirror_mode": {
    "name": "ipython",
    "version": 3
   },
   "file_extension": ".py",
   "mimetype": "text/x-python",
   "name": "python",
   "nbconvert_exporter": "python",
   "pygments_lexer": "ipython3",
   "version": "3.12.3"
  }
 },
 "nbformat": 4,
 "nbformat_minor": 4
}
