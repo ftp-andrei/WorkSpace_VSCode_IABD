{
 "cells": [
  {
   "cell_type": "markdown",
   "metadata": {
    "id": "cMH6sBqrN3Jx"
   },
   "source": [
    "## Generación de DataFrames con Pandas\n",
    "\n"
   ]
  },
  {
   "cell_type": "code",
   "execution_count": 2,
   "metadata": {},
   "outputs": [],
   "source": [
    "import pandas as pd\n",
    "import numpy as np"
   ]
  },
  {
   "cell_type": "markdown",
   "metadata": {},
   "source": [
    "### Ejercicio 1. Genera un dataframe llamado df_instituto igual que el que se muestra a continuación\n",
    "\n",
    "```\n",
    "   id Nombre  Nota\n",
    "0  15   Juan     6\n",
    "1  16  María     9\n",
    "2  14  Pedro     5\n",
    "3  17  Lucía    10\n",
    "4  13   Juan     4\n",
    "5  18    Ada    10\n",
    "```"
   ]
  },
  {
   "cell_type": "code",
   "execution_count": 77,
   "metadata": {
    "colab": {
     "base_uri": "https://localhost:8080/"
    },
    "executionInfo": {
     "elapsed": 38,
     "status": "ok",
     "timestamp": 1682090742548,
     "user": {
      "displayName": "Carlos Sáenz Adán",
      "userId": "03415872180739491893"
     },
     "user_tz": -120
    },
    "id": "QHokKNxycwpW",
    "outputId": "6cee76fa-fc12-477a-c13f-d13273c568af"
   },
   "outputs": [
    {
     "name": "stdout",
     "output_type": "stream",
     "text": [
      "   id Nombre  Nota\n",
      "0  15   Juan     6\n",
      "1  16  María     9\n",
      "2  14  Pedro     5\n",
      "3  17  Lucía    10\n",
      "4  13   Juan     4\n",
      "5  18    Ada    10\n"
     ]
    }
   ],
   "source": [
    "datos = {\n",
    "    \"id\": [15,16,14,17,13,18],\n",
    "    \"Nombre\": [\"Juan\",\"María\",\"Pedro\",\"Lucía\",\"Juan\",\"Ada\"],\n",
    "    \"Nota\": [6,9,5,10,4,10]\n",
    "}\n",
    "\n",
    "# Crear el DataFrame\n",
    "df_instituto = pd.DataFrame(datos)\n",
    "\n",
    "# Mostrar el DataFrame\n",
    "print(df_instituto)"
   ]
  },
  {
   "cell_type": "markdown",
   "metadata": {},
   "source": [
    "### Ejercicio 2. Basándote en el anterior dataframe, crea un nuevo dataframe llamado df_instituto2 donde:\n",
    "\n",
    "1. La columna llamada **id** es el índice del dataframe\n",
    "2. La columna **id** no exista\n",
    "\n",
    "Resultado esperado:\n",
    "\n",
    "````\n",
    "   Nombre Nota\n",
    "15   Juan    6\n",
    "16  María    9\n",
    "14  Pedro    5\n",
    "17  Lucía   10\n",
    "13   Juan    4\n",
    "18    Ada   10\n",
    "````\n",
    "\n"
   ]
  },
  {
   "cell_type": "code",
   "execution_count": 78,
   "metadata": {},
   "outputs": [
    {
     "name": "stdout",
     "output_type": "stream",
     "text": [
      "   Nombre Nota\n",
      "15   Juan    6\n",
      "16  María    9\n",
      "14  Pedro    5\n",
      "17  Lucía   10\n",
      "13   Juan    4\n",
      "18    Ada   10\n"
     ]
    }
   ],
   "source": [
    "indice= df_instituto['id'];\n",
    "df_instituto = df_instituto.drop('id', axis=1)\n",
    "df_instituto2 = pd.DataFrame(data=df_instituto.values, index=indice.values,columns=df_instituto.columns)\n",
    "print(df_instituto2)"
   ]
  },
  {
   "cell_type": "markdown",
   "metadata": {},
   "source": [
    "### Ejercicio 3. Sobre el anterior dataframe 'df_instituto2':\n",
    "\n",
    "1. Guarda la columna Nota en una Serie llamada **serie_notas**. Los indices de la serie deben corresponde con los del dataframe.\n",
    "2. Devuelve la nota media de todos.\n",
    "3. Devuelve el/los índices de aquellos que mayor nota han tenido. \n",
    "\n",
    "\n",
    "Nota: si no has conseguido hacer el anterior ejercicio, puedes crearlo desde cero. "
   ]
  },
  {
   "cell_type": "code",
   "execution_count": 107,
   "metadata": {},
   "outputs": [
    {
     "name": "stdout",
     "output_type": "stream",
     "text": [
      "15     6\n",
      "16     9\n",
      "14     5\n",
      "17    10\n",
      "13     4\n",
      "18    10\n",
      "Name: Nota, dtype: object\n"
     ]
    },
    {
     "data": {
      "text/plain": [
       "count      6\n",
       "unique     5\n",
       "top       10\n",
       "freq       2\n",
       "Name: Nota, dtype: int64"
      ]
     },
     "execution_count": 107,
     "metadata": {},
     "output_type": "execute_result"
    }
   ],
   "source": [
    "#1. Guarda la columna Nota en una Serie llamada **serie_notas**. Los indices de la serie deben corresponde con los del dataframe.\n",
    "serie_notas = df_instituto2['Nota']\n",
    "print(serie_notas)"
   ]
  },
  {
   "cell_type": "code",
   "execution_count": 84,
   "metadata": {},
   "outputs": [
    {
     "name": "stdout",
     "output_type": "stream",
     "text": [
      "Nota media: 7.333333333333333\n"
     ]
    }
   ],
   "source": [
    "#2. Devuelve la nota media de todos.\n",
    "print(f'Nota media: {serie_notas.mean()}')"
   ]
  },
  {
   "cell_type": "code",
   "execution_count": 145,
   "metadata": {},
   "outputs": [
    {
     "name": "stdout",
     "output_type": "stream",
     "text": [
      "17\n",
      "18\n"
     ]
    }
   ],
   "source": [
    "#3. Devuelve el/los índices de aquellos que mayor nota han tenido.\n",
    "notaMaxima= serie_notas.max()\n",
    "count =0;\n",
    "for i in serie_notas.values:\n",
    "    if i == notaMaxima:\n",
    "        print(serie_notas.index[count])\n",
    "    count=count+1"
   ]
  },
  {
   "cell_type": "markdown",
   "metadata": {},
   "source": [
    "### Ejercicio 4. Genera un nuevo DataFrame que tenga una única columna llamada 'Convocatoria'. La columna tendrá 6 valores que corresponderán con un 1 o un 2 obenidos de forma aleatoria. "
   ]
  },
  {
   "cell_type": "code",
   "execution_count": 176,
   "metadata": {},
   "outputs": [
    {
     "name": "stdout",
     "output_type": "stream",
     "text": [
      "   Convocatoria\n",
      "0             2\n",
      "1             1\n",
      "2             1\n",
      "3             1\n",
      "4             1\n",
      "5             2\n"
     ]
    }
   ],
   "source": [
    "convocatoria = pd.DataFrame(data=np.random.randint(1,3,6), columns=['Convocatoria'])\n",
    "print(convocatoria)"
   ]
  },
  {
   "cell_type": "markdown",
   "metadata": {},
   "source": [
    "### Ejercicio 5. Genera un nuevo DataFrame que añada la columna 'Convocatoria' a df_instituto2. \n",
    "\n",
    "Si el anterior ejecicio no lo has hecho, puedes crear el dataframe desde 0."
   ]
  },
  {
   "cell_type": "code",
   "execution_count": 194,
   "metadata": {},
   "outputs": [
    {
     "name": "stdout",
     "output_type": "stream",
     "text": [
      "[2 1 1 1 1 2]\n",
      "   Nombre Nota  Convocatoria\n",
      "15   Juan    6           NaN\n",
      "16  María    9           NaN\n",
      "14  Pedro    5           NaN\n",
      "17  Lucía   10           NaN\n",
      "13   Juan    4           NaN\n",
      "18    Ada   10           NaN\n",
      "0     NaN  NaN           2.0\n",
      "1     NaN  NaN           1.0\n",
      "2     NaN  NaN           1.0\n",
      "3     NaN  NaN           1.0\n",
      "4     NaN  NaN           1.0\n",
      "5     NaN  NaN           2.0\n"
     ]
    }
   ],
   "source": [
    "print(convocatoria['Convocatoria'].values)\n",
    "df2 = pd.concat([df_instituto2, convocatoria['Convocatoria']])\n",
    "print(df2)"
   ]
  },
  {
   "cell_type": "markdown",
   "metadata": {},
   "source": [
    "### Ejercicio 6. Indica cuántas personas hay de Convocatoria 1 y cuantos de Convocatoria 2\n"
   ]
  },
  {
   "cell_type": "code",
   "execution_count": 196,
   "metadata": {},
   "outputs": [
    {
     "name": "stdout",
     "output_type": "stream",
     "text": [
      "Convocatoria\n",
      "1    4\n",
      "2    2\n",
      "Name: count, dtype: int64\n",
      "Numero de occurrencias NO: 4\n",
      "Numero de occurrencias SI: 2\n"
     ]
    }
   ],
   "source": [
    "print(convocatoria['Convocatoria'].value_counts())\n",
    "\n",
    "print(f\"Numero de occurrencias NO: {len(convocatoria[convocatoria.Convocatoria==1])}\")\n",
    "print(f\"Numero de occurrencias SI: {len(convocatoria[convocatoria.Convocatoria==2])}\")"
   ]
  },
  {
   "cell_type": "markdown",
   "metadata": {},
   "source": [
    "### Ejercicio 7. Muestra de qué tipo es cada una de las columnas de df_instituto2. "
   ]
  },
  {
   "cell_type": "code",
   "execution_count": 198,
   "metadata": {},
   "outputs": [
    {
     "name": "stdout",
     "output_type": "stream",
     "text": [
      "<class 'pandas.core.frame.DataFrame'>\n",
      "Index: 6 entries, 15 to 18\n",
      "Data columns (total 2 columns):\n",
      " #   Column  Non-Null Count  Dtype \n",
      "---  ------  --------------  ----- \n",
      " 0   Nombre  6 non-null      object\n",
      " 1   Nota    6 non-null      object\n",
      "dtypes: object(2)\n",
      "memory usage: 316.0+ bytes\n"
     ]
    }
   ],
   "source": [
    "df_instituto2.info()"
   ]
  },
  {
   "cell_type": "markdown",
   "metadata": {},
   "source": [
    "### Ejercicio 8. Genera una lista con el nombre de aquellas columnas cuyo tipo sea 'object'"
   ]
  },
  {
   "cell_type": "code",
   "execution_count": null,
   "metadata": {},
   "outputs": [],
   "source": []
  },
  {
   "cell_type": "markdown",
   "metadata": {},
   "source": [
    "### Ejercicio 9. Dividiremos el DataFrame df_instituto2 en dos DataFrames. El primero contendrá la información de aquellos que han aprobado (df_instituto2_aprobados) y el segundo la de aquellos que han suspendido (df_instituto2_suspensos). "
   ]
  },
  {
   "cell_type": "code",
   "execution_count": null,
   "metadata": {},
   "outputs": [],
   "source": []
  },
  {
   "cell_type": "markdown",
   "metadata": {},
   "source": [
    "### Ejercicio 10. Exporta el dataframe de aprobados a un csv llamado 'informacion_aprobados.csv'.\n",
    "\n",
    "Crealo desde cero si no has conseguido hacer el anterior ejercicio. "
   ]
  },
  {
   "cell_type": "code",
   "execution_count": null,
   "metadata": {},
   "outputs": [],
   "source": [
    "df_instituto2_aprobados.to_csv('informacion_aprobados.csv')"
   ]
  }
 ],
 "metadata": {
  "colab": {
   "authorship_tag": "ABX9TyM3X7dlkDCVKbTSgiPmCdwt",
   "provenance": []
  },
  "kernelspec": {
   "display_name": "Python 3 (ipykernel)",
   "language": "python",
   "name": "python3"
  },
  "language_info": {
   "codemirror_mode": {
    "name": "ipython",
    "version": 3
   },
   "file_extension": ".py",
   "mimetype": "text/x-python",
   "name": "python",
   "nbconvert_exporter": "python",
   "pygments_lexer": "ipython3",
   "version": "3.12.3"
  }
 },
 "nbformat": 4,
 "nbformat_minor": 4
}
