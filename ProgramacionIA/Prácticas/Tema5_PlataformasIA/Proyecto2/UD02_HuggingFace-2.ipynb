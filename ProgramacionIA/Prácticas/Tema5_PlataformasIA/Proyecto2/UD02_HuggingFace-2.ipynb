{
 "cells": [
  {
   "cell_type": "markdown",
   "metadata": {
    "id": "ltzIxUYFNLrm"
   },
   "source": [
    "# Trabajando con pipelines de Hugging Face\n",
    "\n",
    "Los [pipeline()](https://huggingface.co/docs/transformers/main/en/main_classes/pipelines#transformers.pipeline) son la forma más sencilla de utilizar modelos ya pre-entrenados.\n",
    "\n",
    "\n",
    "Soporta muchas funciones muy comunes como:\n",
    "\n",
    "**Text**:\n",
    "* Sentiment analysis: clasificar un texto dado por ejemplo diciendo si es toxico o no.\n",
    "* Text generation (in English): generar texto dando un input concreto.\n",
    "* Name entity recognition (NER): etiquetar cada palabra con una entidad que la representa como por ejemplo persona, fecha, localización, ...\n",
    "* Question answering: extraer una respuesta de un contexto dado, dado un contexto y una pregunta.\n",
    "* Fill-mask: rellenar un espacio en blanco dentro de un texto.\n",
    "* Summarization: generar resumenes de textos.\n",
    "* Translation: traducir texto a otro lenguaje.\n",
    "\n",
    "**Image**:\n",
    "* Image classification: clasificar una imagen\n",
    "* Image segmentation: clasificar cada pixel de una imagen.\n",
    "* Object detection: detectar objetos en una imagen.\n",
    "\n",
    "**Audio**:\n",
    "* Audio classification: asignar una etiqueta a un fragmento de audio.\n",
    "* Automatic speech recognition (ASR): transcribir audio a texto.\n",
    "\n",
    "<Tip>\n",
    "\n",
    "Para más detalles sobre [pipeline()](https://huggingface.co/docs/transformers/main/en/main_classes/pipelines#transformers.pipeline) and sus tareas asociadas, puedes hacer clic [aqui](https://huggingface.co/docs/transformers/main/en/./main_classes/pipelines).\n",
    "\n",
    "</Tip>\n",
    "\n",
    "\n"
   ]
  },
  {
   "cell_type": "markdown",
   "metadata": {
    "id": "K_eLpjEyOmxc"
   },
   "source": [
    "## Instalar librerías\n",
    "\n",
    "En el siguiente código vemos como instalar las librerías necesarias para que llevar a cabo determinadas funcionalidades relacionadas con la Inteligencia Artificial."
   ]
  },
  {
   "cell_type": "code",
   "execution_count": null,
   "metadata": {
    "colab": {
     "base_uri": "https://localhost:8080/"
    },
    "collapsed": true,
    "id": "w9Jm0s0JKHCI",
    "outputId": "1deeeb4d-e2d3-4705-93a7-0383fc718676"
   },
   "outputs": [
    {
     "name": "stdout",
     "output_type": "stream",
     "text": [
      "Defaulting to user installation because normal site-packages is not writeable\n",
      "Collecting torch\n",
      "  Downloading torch-2.5.1-cp312-cp312-win_amd64.whl.metadata (28 kB)\n",
      "Collecting filelock (from torch)\n",
      "  Downloading filelock-3.16.1-py3-none-any.whl.metadata (2.9 kB)\n",
      "Requirement already satisfied: typing-extensions>=4.8.0 in c:\\users\\vespertino\\appdata\\roaming\\python\\python312\\site-packages (from torch) (4.12.2)\n",
      "Collecting networkx (from torch)\n",
      "  Downloading networkx-3.4.2-py3-none-any.whl.metadata (6.3 kB)\n",
      "Requirement already satisfied: jinja2 in c:\\users\\vespertino\\appdata\\roaming\\python\\python312\\site-packages (from torch) (3.1.4)\n",
      "Collecting fsspec (from torch)\n",
      "  Downloading fsspec-2024.10.0-py3-none-any.whl.metadata (11 kB)\n",
      "Requirement already satisfied: setuptools in c:\\users\\vespertino\\appdata\\roaming\\python\\python312\\site-packages (from torch) (75.2.0)\n",
      "Collecting sympy==1.13.1 (from torch)\n",
      "  Downloading sympy-1.13.1-py3-none-any.whl.metadata (12 kB)\n",
      "Collecting mpmath<1.4,>=1.1.0 (from sympy==1.13.1->torch)\n",
      "  Downloading mpmath-1.3.0-py3-none-any.whl.metadata (8.6 kB)\n",
      "Requirement already satisfied: MarkupSafe>=2.0 in c:\\users\\vespertino\\appdata\\roaming\\python\\python312\\site-packages (from jinja2->torch) (3.0.1)\n",
      "Downloading torch-2.5.1-cp312-cp312-win_amd64.whl (203.0 MB)\n",
      "   ---------------------------------------- 0.0/203.0 MB ? eta -:--:--\n",
      "   ---------------------------------------- 1.6/203.0 MB 12.0 MB/s eta 0:00:17\n",
      "   - -------------------------------------- 5.8/203.0 MB 16.8 MB/s eta 0:00:12\n",
      "   - -------------------------------------- 9.7/203.0 MB 17.3 MB/s eta 0:00:12\n",
      "   -- ------------------------------------- 11.5/203.0 MB 15.4 MB/s eta 0:00:13\n",
      "   -- ------------------------------------- 14.7/203.0 MB 14.9 MB/s eta 0:00:13\n",
      "   --- ------------------------------------ 16.8/203.0 MB 14.5 MB/s eta 0:00:13\n",
      "   --- ------------------------------------ 19.7/203.0 MB 14.1 MB/s eta 0:00:13\n",
      "   ---- ----------------------------------- 22.3/203.0 MB 14.1 MB/s eta 0:00:13\n",
      "   ---- ----------------------------------- 24.4/203.0 MB 13.4 MB/s eta 0:00:14\n",
      "   ----- ---------------------------------- 26.5/203.0 MB 13.1 MB/s eta 0:00:14\n",
      "   ----- ---------------------------------- 28.6/203.0 MB 12.8 MB/s eta 0:00:14\n",
      "   ----- ---------------------------------- 30.4/203.0 MB 12.5 MB/s eta 0:00:14\n",
      "   ------ --------------------------------- 32.5/203.0 MB 12.4 MB/s eta 0:00:14\n",
      "   ------ --------------------------------- 34.9/203.0 MB 12.2 MB/s eta 0:00:14\n",
      "   ------- -------------------------------- 37.0/203.0 MB 12.0 MB/s eta 0:00:14\n",
      "   ------- -------------------------------- 39.3/203.0 MB 12.0 MB/s eta 0:00:14\n",
      "   -------- ------------------------------- 41.7/203.0 MB 11.9 MB/s eta 0:00:14\n",
      "   -------- ------------------------------- 44.0/203.0 MB 11.8 MB/s eta 0:00:14\n",
      "   --------- ------------------------------ 46.4/203.0 MB 11.8 MB/s eta 0:00:14\n",
      "   --------- ------------------------------ 48.8/203.0 MB 11.7 MB/s eta 0:00:14\n",
      "   ---------- ----------------------------- 50.9/203.0 MB 11.7 MB/s eta 0:00:14\n",
      "   ---------- ----------------------------- 53.2/203.0 MB 11.6 MB/s eta 0:00:13\n",
      "   ---------- ----------------------------- 55.6/203.0 MB 11.6 MB/s eta 0:00:13\n",
      "   ----------- ---------------------------- 57.7/203.0 MB 11.6 MB/s eta 0:00:13\n",
      "   ----------- ---------------------------- 60.3/203.0 MB 11.6 MB/s eta 0:00:13\n",
      "   ------------ --------------------------- 62.4/203.0 MB 11.6 MB/s eta 0:00:13\n",
      "   ------------ --------------------------- 65.0/203.0 MB 11.6 MB/s eta 0:00:12\n",
      "   ------------- -------------------------- 67.1/203.0 MB 11.6 MB/s eta 0:00:12\n",
      "   ------------- -------------------------- 69.5/203.0 MB 11.5 MB/s eta 0:00:12\n",
      "   -------------- ------------------------- 71.8/203.0 MB 11.5 MB/s eta 0:00:12\n",
      "   -------------- ------------------------- 74.2/203.0 MB 11.5 MB/s eta 0:00:12\n",
      "   --------------- ------------------------ 76.5/203.0 MB 11.5 MB/s eta 0:00:11\n",
      "   --------------- ------------------------ 78.9/203.0 MB 11.5 MB/s eta 0:00:11\n",
      "   ---------------- ----------------------- 81.5/203.0 MB 11.5 MB/s eta 0:00:11\n",
      "   ---------------- ----------------------- 83.9/203.0 MB 11.6 MB/s eta 0:00:11\n",
      "   ----------------- ---------------------- 86.5/203.0 MB 11.6 MB/s eta 0:00:11\n",
      "   ----------------- ---------------------- 88.9/203.0 MB 11.6 MB/s eta 0:00:10\n",
      "   ----------------- ---------------------- 91.2/203.0 MB 11.6 MB/s eta 0:00:10\n",
      "   ------------------ --------------------- 93.8/203.0 MB 11.6 MB/s eta 0:00:10\n",
      "   ------------------- -------------------- 96.5/203.0 MB 11.6 MB/s eta 0:00:10\n",
      "   ------------------- -------------------- 99.1/203.0 MB 11.6 MB/s eta 0:00:09\n",
      "   ------------------- ------------------- 101.4/203.0 MB 11.6 MB/s eta 0:00:09\n",
      "   -------------------- ------------------ 104.3/203.0 MB 11.7 MB/s eta 0:00:09\n",
      "   -------------------- ------------------ 107.0/203.0 MB 11.7 MB/s eta 0:00:09\n",
      "   --------------------- ----------------- 109.6/203.0 MB 11.7 MB/s eta 0:00:08\n",
      "   --------------------- ----------------- 112.5/203.0 MB 11.8 MB/s eta 0:00:08\n",
      "   ---------------------- ---------------- 115.3/203.0 MB 11.8 MB/s eta 0:00:08\n",
      "   ---------------------- ---------------- 118.0/203.0 MB 11.8 MB/s eta 0:00:08\n",
      "   ----------------------- --------------- 120.8/203.0 MB 11.8 MB/s eta 0:00:07\n",
      "   ----------------------- --------------- 123.7/203.0 MB 11.9 MB/s eta 0:00:07\n",
      "   ------------------------ -------------- 126.4/203.0 MB 11.9 MB/s eta 0:00:07\n",
      "   ------------------------ -------------- 129.2/203.0 MB 11.9 MB/s eta 0:00:07\n",
      "   ------------------------- ------------- 132.4/203.0 MB 12.0 MB/s eta 0:00:06\n",
      "   ------------------------- ------------- 135.3/203.0 MB 12.0 MB/s eta 0:00:06\n",
      "   -------------------------- ------------ 138.1/203.0 MB 12.0 MB/s eta 0:00:06\n",
      "   --------------------------- ----------- 141.0/203.0 MB 12.1 MB/s eta 0:00:06\n",
      "   --------------------------- ----------- 143.7/203.0 MB 12.1 MB/s eta 0:00:05\n",
      "   ---------------------------- ---------- 146.3/203.0 MB 12.1 MB/s eta 0:00:05\n",
      "   ---------------------------- ---------- 148.4/203.0 MB 12.0 MB/s eta 0:00:05\n",
      "   ---------------------------- ---------- 150.7/203.0 MB 12.0 MB/s eta 0:00:05\n",
      "   ----------------------------- --------- 153.1/203.0 MB 12.0 MB/s eta 0:00:05\n",
      "   ----------------------------- --------- 155.5/203.0 MB 12.0 MB/s eta 0:00:04\n",
      "   ------------------------------ -------- 157.8/203.0 MB 12.0 MB/s eta 0:00:04\n",
      "   ------------------------------ -------- 160.2/203.0 MB 12.0 MB/s eta 0:00:04\n",
      "   ------------------------------- ------- 162.8/203.0 MB 12.0 MB/s eta 0:00:04\n",
      "   ------------------------------- ------- 165.2/203.0 MB 12.0 MB/s eta 0:00:04\n",
      "   -------------------------------- ------ 167.8/203.0 MB 12.0 MB/s eta 0:00:03\n",
      "   -------------------------------- ------ 170.4/203.0 MB 12.0 MB/s eta 0:00:03\n",
      "   --------------------------------- ----- 173.0/203.0 MB 12.0 MB/s eta 0:00:03\n",
      "   --------------------------------- ----- 175.9/203.0 MB 12.0 MB/s eta 0:00:03\n",
      "   ---------------------------------- ---- 178.8/203.0 MB 12.0 MB/s eta 0:00:03\n",
      "   ---------------------------------- ---- 181.7/203.0 MB 12.1 MB/s eta 0:00:02\n",
      "   ----------------------------------- --- 184.5/203.0 MB 12.1 MB/s eta 0:00:02\n",
      "   ----------------------------------- --- 187.2/203.0 MB 12.1 MB/s eta 0:00:02\n",
      "   ------------------------------------ -- 189.3/203.0 MB 12.1 MB/s eta 0:00:02\n",
      "   ------------------------------------ -- 191.1/203.0 MB 12.0 MB/s eta 0:00:01\n",
      "   ------------------------------------- - 193.2/203.0 MB 12.0 MB/s eta 0:00:01\n",
      "   ------------------------------------- - 195.3/203.0 MB 12.0 MB/s eta 0:00:01\n",
      "   ------------------------------------- - 197.4/203.0 MB 12.0 MB/s eta 0:00:01\n",
      "   --------------------------------------  199.8/203.0 MB 11.9 MB/s eta 0:00:01\n",
      "   --------------------------------------  201.9/203.0 MB 11.9 MB/s eta 0:00:01\n",
      "   --------------------------------------  202.9/203.0 MB 11.9 MB/s eta 0:00:01\n",
      "   --------------------------------------- 203.0/203.0 MB 11.7 MB/s eta 0:00:00\n",
      "Downloading sympy-1.13.1-py3-none-any.whl (6.2 MB)\n",
      "   ---------------------------------------- 0.0/6.2 MB ? eta -:--:--\n",
      "   --------------- ------------------------ 2.4/6.2 MB 11.2 MB/s eta 0:00:01\n",
      "   ------------------------------ --------- 4.7/6.2 MB 11.0 MB/s eta 0:00:01\n",
      "   ---------------------------------------- 6.2/6.2 MB 10.8 MB/s eta 0:00:00\n",
      "Downloading filelock-3.16.1-py3-none-any.whl (16 kB)\n",
      "Downloading fsspec-2024.10.0-py3-none-any.whl (179 kB)\n",
      "Downloading networkx-3.4.2-py3-none-any.whl (1.7 MB)\n",
      "   ---------------------------------------- 0.0/1.7 MB ? eta -:--:--\n",
      "   ---------------------------------------- 1.7/1.7 MB 10.4 MB/s eta 0:00:00\n",
      "Downloading mpmath-1.3.0-py3-none-any.whl (536 kB)\n",
      "   ---------------------------------------- 0.0/536.2 kB ? eta -:--:--\n",
      "   ---------------------------------------- 536.2/536.2 kB 8.6 MB/s eta 0:00:00\n",
      "Installing collected packages: mpmath, sympy, networkx, fsspec, filelock, torch\n",
      "Successfully installed filelock-3.16.1 fsspec-2024.10.0 mpmath-1.3.0 networkx-3.4.2 sympy-1.13.1 torch-2.5.1\n"
     ]
    }
   ],
   "source": [
    "#asegurarse que en la configuración del cuaderno está activada la GPU (para generación de imágenes)\n",
    "\n",
    "!pip install torch\n",
    "!pip install tensorflow\n",
    "!pip install transformers\n",
    "!pip install diffusers --upgrade\n",
    "!pip install invisible_watermark accelerate safetensors\n",
    "\n",
    "#reiniciar entorno después de instalarlas (Entorno de ejecución --> Reiniciar entorno de ejecución)"
   ]
  },
  {
   "cell_type": "markdown",
   "metadata": {
    "id": "a_feM46yKHCb"
   },
   "source": [
    "## Tareas comunes en IA utilizando pipeline"
   ]
  },
  {
   "cell_type": "markdown",
   "metadata": {
    "id": "zpP-mwe1Pfbc"
   },
   "source": [
    "En primer lugar importo pipeline desde transformers"
   ]
  },
  {
   "cell_type": "code",
   "execution_count": null,
   "metadata": {
    "id": "UwK8bXq1Dhm-"
   },
   "outputs": [],
   "source": [
    "from transformers import pipeline"
   ]
  },
  {
   "cell_type": "markdown",
   "metadata": {
    "id": "9D17L0b5omhJ"
   },
   "source": [
    "Construyo el clasificador como un pipeline. La utilización de pipeline será muy sencilla:\n",
    "\n",
    "\n",
    "```python\n",
    "inteligenciaArtificial = pipeline(task=\"<tarea>\", model=\"<modelo a utilizar>\")\n",
    "\n",
    "```\n",
    "\n",
    "*   **tarea** será la tarea que llevaremos a cabo;por ejemplo, text-generation, text-classification, audio-classification, ...\n",
    "*   **modelo a utilizar** puedes utilizar cualquier modelo de https://huggingface.co/models"
   ]
  },
  {
   "cell_type": "markdown",
   "metadata": {
    "id": "lHovS0vlAfyG"
   },
   "source": [
    "### Generar texto acorde\n",
    "\n",
    "En este ejemplo veremos como generar texto acorde a una entrada, utilizaremos la tarea *text-generation* con el modelo *gpt2*"
   ]
  },
  {
   "cell_type": "code",
   "execution_count": null,
   "metadata": {
    "id": "tvPnuSvf6JSx"
   },
   "outputs": [],
   "source": [
    "text_generator = pipeline(task=\"text-generation\", model=\"gpt2\")\n",
    "texto1=text_generator(\"My name is Carlos Saenz Adan and I'm teaching IA\")\n",
    "\n",
    "print(texto1)"
   ]
  },
  {
   "cell_type": "markdown",
   "metadata": {
    "id": "b37YV7wHAuyf"
   },
   "source": [
    "### Identificar imágenes"
   ]
  },
  {
   "cell_type": "markdown",
   "metadata": {
    "id": "nrKW8miKIAdY"
   },
   "source": [
    "En primer lugar, lo que tengo que hacer es descargar una foto. En este caso es importante que se guarde con el nombre \"gato.jpg\" para que funcione el resto del código."
   ]
  },
  {
   "cell_type": "code",
   "execution_count": null,
   "metadata": {
    "id": "CEoTwKov_aFc"
   },
   "outputs": [],
   "source": [
    "from google.colab import files\n",
    "#si utilizas chrome\n",
    "#uploaded = files.upload()\n",
    "\n",
    "#descarga directa\n",
    "!wget -O ./gato.jpg https://st2.depositphotos.com/1814571/44220/i/1600/depositphotos_442208054-free-stock-photo-cute-sweet-little-gray-cat.jpg"
   ]
  },
  {
   "cell_type": "markdown",
   "metadata": {
    "id": "QleiyuDdIeUE"
   },
   "source": [
    "Utilizaremos la tarea *image-classification* con el modelo *microsoft/beit-base-patch16-224-pt22k-ft22k*\n",
    "\n"
   ]
  },
  {
   "cell_type": "code",
   "execution_count": null,
   "metadata": {
    "id": "Ev9nvJuX82Ly"
   },
   "outputs": [],
   "source": [
    "classify_image = pipeline(\"image-classification\", model=\"google/vit-base-patch16-224\")\n",
    "classify_image(\"gato.jpg\")"
   ]
  },
  {
   "cell_type": "markdown",
   "metadata": {
    "id": "vRlfJpckFXhE"
   },
   "source": [
    "### Preguntar sobre una imagen"
   ]
  },
  {
   "cell_type": "code",
   "execution_count": null,
   "metadata": {
    "id": "wekKH_5FD9Ov"
   },
   "outputs": [],
   "source": [
    "picture_question = pipeline(task=\"visual-question-answering\", model=\"dandelin/vilt-b32-finetuned-vqa\")"
   ]
  },
  {
   "cell_type": "code",
   "execution_count": null,
   "metadata": {
    "id": "axeBk_gyGNzM"
   },
   "outputs": [],
   "source": [
    "picture_question(image=\"gato.jpg\", question=\"is it the barcelona football team?\")"
   ]
  },
  {
   "cell_type": "code",
   "execution_count": null,
   "metadata": {
    "id": "5cX3-eKbGmoB"
   },
   "outputs": [],
   "source": [
    "picture_question(image=\"gato.jpg\", question=\"is it the real madrid football team?\")"
   ]
  },
  {
   "cell_type": "code",
   "execution_count": null,
   "metadata": {
    "id": "3ijIu9GOGplk"
   },
   "outputs": [],
   "source": [
    "picture_question(image=\"gato.jpg\", question=\"is it an animal?\")"
   ]
  },
  {
   "cell_type": "code",
   "execution_count": null,
   "metadata": {
    "id": "PGZGpTKEJGjn"
   },
   "outputs": [],
   "source": [
    "picture_question(image=\"gato.jpg\", question=\"is it a dog?\")"
   ]
  },
  {
   "cell_type": "code",
   "execution_count": null,
   "metadata": {
    "id": "FzpC120CpZXx"
   },
   "outputs": [],
   "source": [
    "picture_question(image=\"gato.jpg\", question=\"is it a human?\")"
   ]
  },
  {
   "cell_type": "code",
   "execution_count": null,
   "metadata": {
    "id": "RroYw1FvpiCX"
   },
   "outputs": [],
   "source": [
    "picture_question(image=\"gato.jpg\", question=\"is it a human dressed as a cat?\")"
   ]
  },
  {
   "cell_type": "markdown",
   "metadata": {
    "id": "WxVN-VgXph2n"
   },
   "source": []
  },
  {
   "cell_type": "markdown",
   "metadata": {
    "id": "oSgfMgzj2voY"
   },
   "source": [
    "### Describir una imagen"
   ]
  },
  {
   "cell_type": "code",
   "execution_count": null,
   "metadata": {
    "id": "WDDFBQLC2uqs"
   },
   "outputs": [],
   "source": [
    "clasificador = pipeline(\"image-to-text\", model=\"Salesforce/blip-image-captioning-large\")\n",
    "texto1=clasificador(\"gato.jpg\")\n",
    "\n",
    "print(texto1[0][\"generated_text\"])"
   ]
  },
  {
   "cell_type": "markdown",
   "metadata": {
    "id": "7yvrjBXtwkNW"
   },
   "source": [
    "### Generar una imagen"
   ]
  },
  {
   "cell_type": "markdown",
   "metadata": {
    "id": "TYImaxw6XiHZ"
   },
   "source": [
    "Resource:\n",
    "https://huggingface.co/segmind/SSD-1B"
   ]
  },
  {
   "cell_type": "code",
   "execution_count": null,
   "metadata": {
    "id": "889DuWaBUFOK"
   },
   "outputs": [],
   "source": [
    "!pip install git+https://github.com/huggingface/diffusers"
   ]
  },
  {
   "cell_type": "code",
   "execution_count": null,
   "metadata": {
    "id": "2gacKM4-UExK"
   },
   "outputs": [],
   "source": [
    "!pip install transformers accelerate safetensors"
   ]
  },
  {
   "cell_type": "code",
   "execution_count": null,
   "metadata": {
    "id": "JRoiq87sUCbi"
   },
   "outputs": [],
   "source": [
    "from diffusers import StableDiffusionXLPipeline\n",
    "import torch\n",
    "pipe = StableDiffusionXLPipeline.from_pretrained(\"segmind/SSD-1B\", torch_dtype=torch.float16, use_safetensors=True, variant=\"fp16\")\n",
    "pipe.to(\"cuda\")\n",
    "# if using torch < 2.0\n",
    "# pipe.enable_xformers_memory_efficient_attention()\n",
    "prompt = \"An astronaut riding a green horse\" # Your prompt here\n",
    "neg_prompt = \"ugly, blurry, poor quality\" # Negative prompt here\n",
    "image = pipe(prompt=prompt, negative_prompt=neg_prompt).images[0]"
   ]
  },
  {
   "cell_type": "code",
   "execution_count": null,
   "metadata": {
    "id": "GH8rneayWM23"
   },
   "outputs": [],
   "source": [
    "image.save(\"image.jpeg\") #guardo la imagen"
   ]
  },
  {
   "cell_type": "code",
   "execution_count": null,
   "metadata": {
    "id": "cqJTAbQJWUwa"
   },
   "outputs": [],
   "source": [
    "prompt = \"A computer science teacher inside a class with students\" # Your prompt here\n",
    "neg_prompt = \"ugly, blurry, poor quality\" # Negative prompt here\n",
    "image = pipe(prompt=prompt, negative_prompt=neg_prompt).images[0]"
   ]
  },
  {
   "cell_type": "code",
   "execution_count": null,
   "metadata": {
    "id": "qG5wGVC_WYqg"
   },
   "outputs": [],
   "source": [
    "image.save(\"image2.jpeg\") #guardo la imagen"
   ]
  }
 ],
 "metadata": {
  "accelerator": "GPU",
  "colab": {
   "provenance": []
  },
  "kernelspec": {
   "display_name": "Python 3",
   "name": "python3"
  },
  "language_info": {
   "codemirror_mode": {
    "name": "ipython",
    "version": 3
   },
   "file_extension": ".py",
   "mimetype": "text/x-python",
   "name": "python",
   "nbconvert_exporter": "python",
   "pygments_lexer": "ipython3",
   "version": "3.12.3"
  }
 },
 "nbformat": 4,
 "nbformat_minor": 0
}
