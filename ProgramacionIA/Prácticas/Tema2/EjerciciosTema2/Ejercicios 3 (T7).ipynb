{
 "cells": [
  {
   "cell_type": "code",
   "execution_count": 1,
   "metadata": {
    "id": "pxtqMA7kp7vl"
   },
   "outputs": [],
   "source": [
    "import numpy as np"
   ]
  },
  {
   "cell_type": "markdown",
   "metadata": {
    "id": "uKLU6kjEqAfI"
   },
   "source": [
    "**Ejercicio 1.** Crear un vector con valores entre 20 a 59"
   ]
  },
  {
   "cell_type": "code",
   "execution_count": 1,
   "metadata": {
    "id": "pdE7V5vAAzXU"
   },
   "outputs": [],
   "source": [
    "# array[]"
   ]
  },
  {
   "cell_type": "markdown",
   "metadata": {
    "id": "lKoQISrDzX1W"
   },
   "source": [
    "**Ejericicio 2.** Crear un vector de 25 números aleatorios."
   ]
  },
  {
   "cell_type": "code",
   "execution_count": 1,
   "metadata": {
    "id": "jkOXvyZVzoTX"
   },
   "outputs": [],
   "source": []
  },
  {
   "cell_type": "markdown",
   "metadata": {
    "id": "o8WVswrHy3KV"
   },
   "source": [
    "**Ejercicio 3.** Crear un vector con los números pares comprendidos entre 20-59"
   ]
  },
  {
   "cell_type": "code",
   "execution_count": null,
   "metadata": {
    "id": "pVF2LY3_mfY0"
   },
   "outputs": [],
   "source": []
  },
  {
   "cell_type": "markdown",
   "metadata": {
    "id": "SOGO1ofr7W76"
   },
   "source": [
    "**Ejercicio 4.** Crear una matriz 3x3 con valores de 0 a 8"
   ]
  },
  {
   "cell_type": "code",
   "execution_count": null,
   "metadata": {
    "id": "4kBD11qtmf0b"
   },
   "outputs": [],
   "source": [
    "# array[][]"
   ]
  },
  {
   "cell_type": "markdown",
   "metadata": {
    "id": "vXDeVTfVqFFH"
   },
   "source": [
    "**Ejercicio 5.** Crear una matriz 3x3 con valores entre 5 a 15"
   ]
  },
  {
   "cell_type": "code",
   "execution_count": 1,
   "metadata": {
    "id": "pGO8eyuC7Vzg"
   },
   "outputs": [],
   "source": []
  },
  {
   "cell_type": "markdown",
   "metadata": {
    "id": "msvHO0tgqLac"
   },
   "source": [
    "**Ejercicio 6.** Crear la matriz identidad de 9x9"
   ]
  },
  {
   "cell_type": "code",
   "execution_count": null,
   "metadata": {
    "id": "k9cSZgC3midz"
   },
   "outputs": [],
   "source": []
  },
  {
   "cell_type": "markdown",
   "metadata": {
    "id": "ENPJCzMUqTPF"
   },
   "source": [
    "**Ejercicio 7.** Crear una matriz 8x8 con unos en los bordes y ceros en el interior"
   ]
  },
  {
   "cell_type": "code",
   "execution_count": 1,
   "metadata": {
    "id": "a9xeJB1VsX7j"
   },
   "outputs": [],
   "source": []
  },
  {
   "cell_type": "markdown",
   "metadata": {
    "id": "7WXeJKwsFWgO"
   },
   "source": [
    "**Ejercicio 8.** Encontrar los indices que no son ceros del array: [1,2,4,2,4,0,1,0,0,0,12,4,5,6,7,0]"
   ]
  },
  {
   "cell_type": "code",
   "execution_count": 1,
   "metadata": {
    "id": "ABpTFvDSFab7"
   },
   "outputs": [],
   "source": []
  },
  {
   "cell_type": "markdown",
   "metadata": {
    "id": "thAbEucZ70jf"
   },
   "source": [
    "**Ejercicio 9.** Crear dos vectores al azar A y B, verificar si son iguales"
   ]
  },
  {
   "cell_type": "code",
   "execution_count": null,
   "metadata": {
    "id": "C2wkHrvJ7x9f"
   },
   "outputs": [],
   "source": []
  },
  {
   "cell_type": "markdown",
   "metadata": {
    "id": "8r8zOWmmyVdJ"
   },
   "source": [
    "**Ejercicio 10.** Dada una matriz cualquier sumar todos sus elementos"
   ]
  },
  {
   "cell_type": "code",
   "execution_count": 1,
   "metadata": {
    "id": "8R7ieU0O01Uy"
   },
   "outputs": [],
   "source": [
    "\n"
   ]
  },
  {
   "cell_type": "markdown",
   "metadata": {
    "id": "XZBoHQo7yaHE"
   },
   "source": [
    "**Ejercicio 11.**  Genera un array de los primeros 23 números pares."
   ]
  },
  {
   "cell_type": "code",
   "execution_count": null,
   "metadata": {
    "id": "S5FzMTZUmtax"
   },
   "outputs": [],
   "source": []
  },
  {
   "cell_type": "markdown",
   "metadata": {
    "id": "C1vONgRHyZ1n"
   },
   "source": [
    "**Ejercicio 12.** Escribe un programa para crar una comparación elemento a elemento de dos matrices dadas."
   ]
  },
  {
   "cell_type": "code",
   "execution_count": 1,
   "metadata": {
    "id": "2ZwmkYxScRR3"
   },
   "outputs": [],
   "source": []
  },
  {
   "cell_type": "markdown",
   "metadata": {
    "id": "6q1fDIafyZ8o"
   },
   "source": [
    "**Ejercicio 13.** Escribe un programa  para crear una matriz cero 5x5 con elementos en la diagonal principal iguales a 1, 2, 3, 4, 5."
   ]
  },
  {
   "cell_type": "code",
   "execution_count": 1,
   "metadata": {
    "id": "P-yLdp8ichsI"
   },
   "outputs": [],
   "source": []
  }
 ],
 "metadata": {
  "colab": {
   "provenance": []
  },
  "kernelspec": {
   "display_name": "Python 3",
   "name": "python3"
  },
  "language_info": {
   "codemirror_mode": {
    "name": "ipython",
    "version": 3
   },
   "file_extension": ".py",
   "mimetype": "text/x-python",
   "name": "python",
   "nbconvert_exporter": "python",
   "pygments_lexer": "ipython3",
   "version": "3.12.3"
  }
 },
 "nbformat": 4,
 "nbformat_minor": 0
}
