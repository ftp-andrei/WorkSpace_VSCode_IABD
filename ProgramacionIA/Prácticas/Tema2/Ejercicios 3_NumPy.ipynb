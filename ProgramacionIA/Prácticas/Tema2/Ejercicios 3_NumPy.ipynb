{
 "cells": [
  {
   "cell_type": "code",
   "execution_count": 11,
   "metadata": {
    "id": "pxtqMA7kp7vl"
   },
   "outputs": [],
   "source": [
    "import numpy as np"
   ]
  },
  {
   "cell_type": "markdown",
   "metadata": {
    "id": "uKLU6kjEqAfI"
   },
   "source": [
    "**Ejercicio 1.** Crear un vector con valores entre 20 a 59"
   ]
  },
  {
   "cell_type": "code",
   "execution_count": 9,
   "metadata": {
    "id": "pdE7V5vAAzXU"
   },
   "outputs": [
    {
     "name": "stdout",
     "output_type": "stream",
     "text": [
      "[20 21 22 23 24 25 26 27 28 29 30 31 32 33 34 35 36 37 38 39 40 41 42 43\n",
      " 44 45 46 47 48 49 50 51 52 53 54 55 56 57 58 59]\n"
     ]
    }
   ],
   "source": [
    "array = np.arange(20,60,1)\n",
    "print(array)"
   ]
  },
  {
   "cell_type": "markdown",
   "metadata": {
    "id": "lKoQISrDzX1W"
   },
   "source": [
    "**Ejericicio 2.** Crear un vector de 25 números aleatorios."
   ]
  },
  {
   "cell_type": "code",
   "execution_count": 15,
   "metadata": {
    "id": "jkOXvyZVzoTX"
   },
   "outputs": [
    {
     "name": "stdout",
     "output_type": "stream",
     "text": [
      "[-0.70171012 -0.14657414 -0.24374038 -0.66447089 -2.06607765 -0.59450332\n",
      " -0.69675889 -0.11517382 -1.06023019  0.0560047  -0.55877475  1.08455983\n",
      "  0.27577069 -0.88431059  0.98156142  0.90754274  1.18477081  1.14509208\n",
      "  1.52658753  1.07086401  0.31734999  0.92026834  1.49656998 -0.41379292\n",
      " -0.63497927]\n"
     ]
    }
   ],
   "source": [
    "normal2 = np.random.randn(25)\n",
    "print(normal2)"
   ]
  },
  {
   "cell_type": "markdown",
   "metadata": {
    "id": "o8WVswrHy3KV"
   },
   "source": [
    "**Ejercicio 3.** Crear un vector con los números pares comprendidos entre 20-59"
   ]
  },
  {
   "cell_type": "code",
   "execution_count": 12,
   "metadata": {
    "id": "pVF2LY3_mfY0"
   },
   "outputs": [
    {
     "name": "stdout",
     "output_type": "stream",
     "text": [
      "[20 22 24 26 28 30 32 34 36 38 40 42 44 46 48 50 52 54 56 58]\n"
     ]
    }
   ],
   "source": [
    "array = np.arange(20,60,2)\n",
    "print(array)"
   ]
  },
  {
   "cell_type": "markdown",
   "metadata": {
    "id": "SOGO1ofr7W76"
   },
   "source": [
    "**Ejercicio 4.** Crear una matriz 3x3 con valores de 0 a 8"
   ]
  },
  {
   "cell_type": "code",
   "execution_count": null,
   "metadata": {
    "id": "4kBD11qtmf0b"
   },
   "outputs": [
    {
     "name": "stdout",
     "output_type": "stream",
     "text": [
      "[[8 8 8]\n",
      " [8 8 8]\n",
      " [8 8 8]]\n"
     ]
    }
   ],
   "source": [
    "print(np.full(shape=(3,3), np.arange(0,8,1))) "
   ]
  },
  {
   "cell_type": "markdown",
   "metadata": {
    "id": "vXDeVTfVqFFH"
   },
   "source": [
    "**Ejercicio 5.** Crear una matriz 3x3 con valores entre 5 a 15"
   ]
  },
  {
   "cell_type": "code",
   "execution_count": 1,
   "metadata": {
    "id": "pGO8eyuC7Vzg"
   },
   "outputs": [],
   "source": []
  },
  {
   "cell_type": "markdown",
   "metadata": {
    "id": "msvHO0tgqLac"
   },
   "source": [
    "**Ejercicio 6.** Crear la matriz identidad de 9x9"
   ]
  },
  {
   "cell_type": "code",
   "execution_count": null,
   "metadata": {
    "id": "k9cSZgC3midz"
   },
   "outputs": [],
   "source": []
  },
  {
   "cell_type": "markdown",
   "metadata": {
    "id": "ENPJCzMUqTPF"
   },
   "source": [
    "**Ejercicio 7.** Crear una matriz 8x8 con unos en los bordes y ceros en el interior"
   ]
  },
  {
   "cell_type": "code",
   "execution_count": 1,
   "metadata": {
    "id": "a9xeJB1VsX7j"
   },
   "outputs": [],
   "source": []
  },
  {
   "cell_type": "markdown",
   "metadata": {
    "id": "7WXeJKwsFWgO"
   },
   "source": [
    "**Ejercicio 8.** Encontrar los indices que no son ceros del array: [1,2,4,2,4,0,1,0,0,0,12,4,5,6,7,0]"
   ]
  },
  {
   "cell_type": "code",
   "execution_count": 1,
   "metadata": {
    "id": "ABpTFvDSFab7"
   },
   "outputs": [],
   "source": []
  },
  {
   "cell_type": "markdown",
   "metadata": {
    "id": "thAbEucZ70jf"
   },
   "source": [
    "**Ejercicio 9.** Crear dos vectores al azar A y B, verificar si son iguales"
   ]
  },
  {
   "cell_type": "code",
   "execution_count": null,
   "metadata": {
    "id": "C2wkHrvJ7x9f"
   },
   "outputs": [],
   "source": []
  },
  {
   "cell_type": "markdown",
   "metadata": {
    "id": "8r8zOWmmyVdJ"
   },
   "source": [
    "**Ejercicio 10.** Dada una matriz cualquier sumar todos sus elementos"
   ]
  },
  {
   "cell_type": "code",
   "execution_count": 1,
   "metadata": {
    "id": "8R7ieU0O01Uy"
   },
   "outputs": [],
   "source": [
    "\n"
   ]
  },
  {
   "cell_type": "markdown",
   "metadata": {
    "id": "XZBoHQo7yaHE"
   },
   "source": [
    "**Ejercicio 11.**  Genera un array de los primeros 23 números pares."
   ]
  },
  {
   "cell_type": "code",
   "execution_count": null,
   "metadata": {
    "id": "S5FzMTZUmtax"
   },
   "outputs": [],
   "source": []
  },
  {
   "cell_type": "markdown",
   "metadata": {
    "id": "C1vONgRHyZ1n"
   },
   "source": [
    "**Ejercicio 12.** Escribe un programa para crar una comparación elemento a elemento de dos matrices dadas."
   ]
  },
  {
   "cell_type": "code",
   "execution_count": 1,
   "metadata": {
    "id": "2ZwmkYxScRR3"
   },
   "outputs": [],
   "source": []
  },
  {
   "cell_type": "markdown",
   "metadata": {
    "id": "6q1fDIafyZ8o"
   },
   "source": [
    "**Ejercicio 13.** Escribe un programa  para crear una matriz cero 5x5 con elementos en la diagonal principal iguales a 1, 2, 3, 4, 5."
   ]
  },
  {
   "cell_type": "code",
   "execution_count": 1,
   "metadata": {
    "id": "P-yLdp8ichsI"
   },
   "outputs": [],
   "source": []
  }
 ],
 "metadata": {
  "colab": {
   "provenance": []
  },
  "kernelspec": {
   "display_name": "Python 3",
   "name": "python3"
  },
  "language_info": {
   "codemirror_mode": {
    "name": "ipython",
    "version": 3
   },
   "file_extension": ".py",
   "mimetype": "text/x-python",
   "name": "python",
   "nbconvert_exporter": "python",
   "pygments_lexer": "ipython3",
   "version": "3.12.3"
  }
 },
 "nbformat": 4,
 "nbformat_minor": 0
}
